{
 "cells": [
  {
   "cell_type": "markdown",
   "metadata": {},
   "source": [
    "# Spark Preparation\n",
    "We check if we are in Google Colab.  If this is the case, install all necessary packages.\n",
    "\n",
    "To run spark in Colab, we need to first install all the dependencies in Colab environment i.e. Apache Spark 3.3.2 with hadoop 3.3, Java 8 and Findspark to locate the spark in the system. The tools installation can be carried out inside the Jupyter Notebook of the Colab.\n",
    "Learn more from [A Must-Read Guide on How to Work with PySpark on Google Colab for Data Scientists!](https://www.analyticsvidhya.com/blog/2020/11/a-must-read-guide-on-how-to-work-with-pyspark-on-google-colab-for-data-scientists/)"
   ]
  },
  {
   "cell_type": "code",
   "execution_count": null,
   "metadata": {},
   "outputs": [],
   "source": [
    "try:\n",
    "  import google.colab\n",
    "  IN_COLAB = True\n",
    "except:\n",
    "  IN_COLAB = False"
   ]
  },
  {
   "cell_type": "code",
   "execution_count": null,
   "metadata": {},
   "outputs": [],
   "source": [
    "if IN_COLAB:\n",
    "    !apt-get install openjdk-8-jdk-headless -qq > /dev/null\n",
    "    !wget -q https://dlcdn.apache.org/spark/spark-3.3.2/spark-3.3.2-bin-hadoop3.tgz\n",
    "    !tar xf spark-3.3.2-bin-hadoop3.tgz\n",
    "    !mv spark-3.3.2-bin-hadoop3 spark\n",
    "    !pip install -q findspark\n",
    "    import os\n",
    "    os.environ[\"JAVA_HOME\"] = \"/usr/lib/jvm/java-8-openjdk-amd64\"\n",
    "    os.environ[\"SPARK_HOME\"] = \"/content/spark\""
   ]
  },
  {
   "cell_type": "code",
   "execution_count": 4,
   "metadata": {},
   "outputs": [
    {
     "name": "stdout",
     "output_type": "stream",
     "text": [
      "\u001b[33mWARNING: You are using pip version 21.2.4; however, version 24.0 is available.\n",
      "You should consider upgrading via the '/Library/Developer/CommandLineTools/usr/bin/python3 -m pip install --upgrade pip' command.\u001b[0m\n",
      "Note: you may need to restart the kernel to use updated packages.\n"
     ]
    }
   ],
   "source": [
    "%pip install -q findspark pyspark"
   ]
  },
  {
   "cell_type": "markdown",
   "metadata": {},
   "source": [
    "# Start a Local Cluster"
   ]
  },
  {
   "cell_type": "code",
   "execution_count": 5,
   "metadata": {},
   "outputs": [],
   "source": [
    "import findspark\n",
    "findspark.init()"
   ]
  },
  {
   "cell_type": "code",
   "execution_count": 6,
   "metadata": {},
   "outputs": [],
   "source": [
    "spark_url = 'local'"
   ]
  },
  {
   "cell_type": "code",
   "execution_count": 7,
   "metadata": {},
   "outputs": [
    {
     "name": "stderr",
     "output_type": "stream",
     "text": [
      "24/04/04 20:24:11 WARN Utils: Your hostname, Premikas-MacBook-Air.local resolves to a loopback address: 127.0.0.1; using 192.168.1.104 instead (on interface en0)\n",
      "24/04/04 20:24:11 WARN Utils: Set SPARK_LOCAL_IP if you need to bind to another address\n",
      "Setting default log level to \"WARN\".\n",
      "To adjust logging level use sc.setLogLevel(newLevel). For SparkR, use setLogLevel(newLevel).\n",
      "24/04/04 20:24:11 WARN NativeCodeLoader: Unable to load native-hadoop library for your platform... using builtin-java classes where applicable\n"
     ]
    }
   ],
   "source": [
    "from pyspark.sql import SparkSession\n",
    "from pyspark.sql import SQLContext\n",
    "\n",
    "spark = SparkSession.builder\\\n",
    "        .master(spark_url)\\\n",
    "        .appName('Spark Tutorial')\\\n",
    "        .config('spark.ui.port', '4040')\\\n",
    "        .getOrCreate()"
   ]
  },
  {
   "cell_type": "markdown",
   "metadata": {},
   "source": [
    "# Spark Assignment\n",
    "\n",
    "Based on the movie review dataset in 'netflix-rotten-tomatoes-metacritic-imdb.csv', answer the below questions.\n",
    "\n",
    "**Note:** do not clean or remove missing data"
   ]
  },
  {
   "cell_type": "code",
   "execution_count": 8,
   "metadata": {},
   "outputs": [],
   "source": [
    "path = 'netflix-rotten-tomatoes-metacritic-imdb.csv'"
   ]
  },
  {
   "cell_type": "code",
   "execution_count": 12,
   "metadata": {},
   "outputs": [],
   "source": [
    "df = spark.read.option(\"delimiter\", \",\").option(\"header\", True).csv(path)"
   ]
  },
  {
   "cell_type": "code",
   "execution_count": 33,
   "metadata": {},
   "outputs": [
    {
     "name": "stdout",
     "output_type": "stream",
     "text": [
      "+--------------------+--------------------+--------------------+--------------------+---------------+----------------+--------------------+------------+--------------------+--------------------+--------------------+-----------+----------+---------------------+----------------+---------------+--------------------+------------+------------+--------------------+--------------------+--------------------+--------------------+--------------------+----------+--------------------+--------------------+--------------------+------------+\n",
      "|               Title|               Genre|                Tags|           Languages|Series or Movie|Hidden Gem Score|Country Availability|     Runtime|            Director|              Writer|              Actors|View Rating|IMDb Score|Rotten Tomatoes Score|Metacritic Score|Awards Received|Awards Nominated For|   Boxoffice|Release Date|Netflix Release Date|    Production House|        Netflix Link|           IMDb Link|             Summary|IMDb Votes|               Image|              Poster|        TMDb Trailer|Trailer Site|\n",
      "+--------------------+--------------------+--------------------+--------------------+---------------+----------------+--------------------+------------+--------------------+--------------------+--------------------+-----------+----------+---------------------+----------------+---------------+--------------------+------------+------------+--------------------+--------------------+--------------------+--------------------+--------------------+----------+--------------------+--------------------+--------------------+------------+\n",
      "|    Lets Fight Ghost|Crime, Drama, Fan...|Comedy Programmes...|    Swedish, Spanish|         Series|             4.3|            Thailand|< 30 minutes|     Tomas Alfredson|John Ajvide Lindq...|Kåre Hedebrant, P...|          R|       7.9|                 98.0|            82.0|           74.0|                57.0|  $2,122,065| 12 Dec 2008|          2021-03-04|Canal+, Sandrew M...|https://www.netfl...|https://www.imdb....|A med student wit...|  205926.0|https://occ-0-470...|https://m.media-a...|                NULL|        NULL|\n",
      "| HOW TO BUILD A GIRL|              Comedy|Dramas,Comedies,F...|             English|          Movie|             7.0|              Canada|    1-2 hour|       Coky Giedroyc|       Caitlin Moran|Paddy Considine, ...|          R|       5.8|                 79.0|            69.0|            1.0|                NULL|     $70,632| 08 May 2020|          2021-03-04|Film 4, Monumenta...|https://www.netfl...|https://www.imdb....|When nerdy Johann...|    2838.0|https://occ-0-108...|https://m.media-a...|https://www.youtu...|     YouTube|\n",
      "|          Centigrade|     Drama, Thriller|           Thrillers|             English|          Movie|             6.4|              Canada|    1-2 hour|       Brendan Walsh|Brendan Walsh, Da...|Genesis Rodriguez...|    Unrated|       4.3|                 NULL|            46.0|           NULL|                NULL|     $16,263| 28 Aug 2020|          2021-03-04|                NULL|https://www.netfl...|https://www.imdb....|Trapped in a froz...|    1720.0|https://occ-0-108...|https://m.media-a...|https://www.youtu...|     YouTube|\n",
      "|               ANNE+|               Drama|TV Dramas,Romanti...|             Turkish|         Series|             7.7| Belgium,Netherlands|< 30 minutes|                NULL|                NULL|Vahide Perçin, Go...|       NULL|       6.5|                 NULL|            NULL|            1.0|                NULL|        NULL| 01 Oct 2016|          2021-03-04|                NULL|https://www.netfl...|https://www.imdb....|Upon moving into ...|    1147.0|https://occ-0-148...|https://m.media-a...|                NULL|        NULL|\n",
      "|               Moxie|Animation, Short,...|Social Issue Dram...|             English|          Movie|             8.1|Lithuania,Poland,...|    1-2 hour|       Stephen Irwin|                NULL|        Ragga Gudrun|       NULL|       6.3|                 NULL|            NULL|           NULL|                 4.0|        NULL| 22 Sep 2011|          2021-03-04|                NULL|https://www.netfl...|https://www.imdb....|Inspired by her m...|      63.0|https://occ-0-403...|https://m.media-a...|                NULL|        NULL|\n",
      "|    The Con-Heartist|     Comedy, Romance|Romantic Comedies...|                Thai|          Movie|             8.6|            Thailand|     > 2 hrs|       Mez Tharatorn|Pattaranad Bhiboo...|Thiti Mahayotaruk...|       NULL|       7.4|                 NULL|            NULL|           NULL|                NULL|        NULL| 03 Dec 2020|          2021-03-03|                NULL|https://www.netfl...|https://www.imdb....|After her ex-boyf...|     131.0|https://occ-0-218...|https://m.media-a...|https://www.youtu...|     YouTube|\n",
      "|        Gleboka woda|               Drama|TV Dramas,Polish ...|              Polish|         Series|             8.7|              Poland|< 30 minutes|                NULL|                NULL|Marcin Dorocinski...|       NULL|       7.5|                 NULL|            NULL|            2.0|                 4.0|        NULL| 14 Jun 2011|          2021-03-03|                NULL|https://www.netfl...|https://www.imdb....|A group of social...|      47.0|https://occ-0-250...|https://m.media-a...|                NULL|        NULL|\n",
      "|            Instynkt|               Crime|TV Dramas,Crime T...|              Polish|         Series|             6.9|              Poland|< 30 minutes|                NULL|                NULL|Pawel Królikowski...|       NULL|       3.9|                 NULL|            NULL|           NULL|                NULL|        NULL| 03 Mar 2011|          2021-03-03|                NULL|https://www.netfl...|https://www.imdb....|An enigmatic comm...|     107.0|https://occ-0-250...|https://m.media-a...|                NULL|        NULL|\n",
      "|       Only a Mother|               Drama|Social Issue Dram...|             Swedish|          Movie|             8.3|Lithuania,Poland,...|    1-2 hour|         Alf Sjöberg|   Ivar Lo-Johansson|Ulf Palme, Ragnar...|       NULL|       6.7|                 NULL|            NULL|            2.0|                 1.0|        NULL| 31 Oct 1949|          2021-03-03|                NULL|https://www.netfl...|https://www.imdb....|An unhappily marr...|      88.0|https://occ-0-285...|https://m.media-a...|                NULL|        NULL|\n",
      "|          Snowroller|              Comedy|Sports Movies,Spo...|Swedish, English,...|          Movie|             5.3|Lithuania,Poland,...|    1-2 hour|         Lasse Åberg|Lasse Åberg, Bo J...|Jon Skolmen, Ceci...|       NULL|       6.6|                 NULL|            NULL|           NULL|                NULL|        NULL| 04 Oct 1985|          2021-03-03|                NULL|https://www.netfl...|https://www.imdb....|Two friends take ...|    5926.0|https://occ-0-285...|https://m.media-a...|                NULL|        NULL|\n",
      "|        Sunes Summer|Comedy, Family, F...|Children & Family...|             Swedish|          Movie|             7.5|Lithuania,Poland,...|    1-2 hour|        Jon Holmberg|Jon Holmberg, Dan...|Elis Gerdt, Tea S...|       NULL|       5.5|                 NULL|            NULL|           NULL|                 7.0|        NULL| 30 Nov 2018|          2021-03-03|                NULL|https://www.netfl...|https://www.imdb....|A family camping ...|     560.0|https://occ-0-285...|https://m.media-a...|                NULL|        NULL|\n",
      "|       The Invisible|Crime, Drama, Fan...|Thriller Movies,M...|             English|          Movie|             2.0|Lithuania,Poland,...|    1-2 hour|      David S. Goyer|Christine Roum, M...|Marcia Gay Harden...|      PG-13|       6.2|                 20.0|            36.0|           NULL|                 1.0| $20,578,909| 27 Apr 2007|          2021-03-03|Touchstone Pictur...|https://www.netfl...|https://www.imdb....|Critically injure...|   34738.0|https://occ-0-285...|https://m.media-a...|https://www.youtu...|     YouTube|\n",
      "|The Simple Minded...|               Drama|Social Issue Dram...|    Scanian, Swedish|          Movie|             7.8|Lithuania,Poland,...|    1-2 hour|      Hans Alfredson|      Hans Alfredson|Stellan Skarsgård...|       NULL|       7.6|                 92.0|            NULL|            7.0|                 2.0|        NULL| 01 Sep 1985|          2021-03-03|Svensk Filmindust...|https://www.netfl...|https://www.imdb....|A good-natured fa...|    2870.0|https://occ-0-285...|https://m.media-a...|                NULL|        NULL|\n",
      "|The Stig-Helmer S...|       Comedy, Drama|Romantic Dramas,R...|    Swedish, English|          Movie|             6.4|Lithuania,Poland,...|    1-2 hour|         Lasse Åberg|         Lasse Åberg|Jon Skolmen, Ida ...|       NULL|       4.5|                 NULL|            NULL|           NULL|                 1.0|        NULL| 25 Dec 2011|          2021-03-03|                NULL|https://www.netfl...|https://www.imdb....|Popular character...|    1666.0|https://occ-0-285...|https://m.media-a...|                NULL|        NULL|\n",
      "|     To Kill a Child|        Short, Drama|Dramas,Swedish Mo...|             Spanish|          Movie|             8.8|Lithuania,Poland,...|< 30 minutes|José Esteban Alen...|José Esteban Alen...|Manolo Solo, Roge...|       NULL|       7.7|                 NULL|            NULL|            2.0|                 5.0|        NULL| 07 Feb 2011|          2021-03-03|                NULL|https://www.netfl...|https://www.imdb....|A car accident in...|      78.0|https://occ-0-285...|https://m.media-a...|                NULL|        NULL|\n",
      "|               Joker|Crime, Drama, Thr...|Dark Comedies,Cri...|             English|          Movie|             3.5|Lithuania,Poland,...|    1-2 hour|       Todd Phillips|Scott Silver, Jer...|Joaquin Phoenix, ...|          R|       8.4|                 68.0|            59.0|          112.0|               228.0|$335,451,311| 04 Oct 2019|          2021-03-03|Bron Studios, Cre...|https://www.netfl...|https://www.imdb....|A practical joker...|  951938.0|https://occ-0-285...|https://m.media-a...|https://www.youtu...|     YouTube|\n",
      "|                   I|Action, Adventure...|Dramas,Swedish Mo...|   English, Sanskrit|          Movie|             2.8|Lithuania,Poland,...|    1-2 hour|        George Lucas|        George Lucas|Liam Neeson, Ewan...|         PG|       6.5|                 52.0|            51.0|           26.0|                69.0|$474,544,677| 19 May 1999|          2021-03-03|      Lucasfilm Ltd.|https://www.netfl...|https://www.imdb....|A young man seeki...|  733336.0|https://occ-0-285...|https://m.media-a...|https://www.youtu...|     YouTube|\n",
      "|    Harrys Daughters|Adventure, Drama,...|Dramas,Swedish Mo...|             English|          Movie|             4.4|Lithuania,Poland,...|    1-2 hour|         David Yates|Steve Kloves, J.K...|Ralph Fiennes, Al...|      PG-13|       8.1|                 96.0|            85.0|           46.0|                94.0|$381,409,310| 15 Jul 2011|          2021-03-03|Heyday Films, Mov...|https://www.netfl...|https://www.imdb....|As two sisters bo...|  766594.0|https://occ-0-285...|https://m.media-a...|https://www.youtu...|     YouTube|\n",
      "|       Gyllene Tider|               Music|Music & Musicals,...|             Swedish|          Movie|             8.8|Lithuania,Poland,...|  30-60 mins|     Lasse Hallström|                NULL|Micke Andersson, ...|       NULL|       7.7|                 NULL|            NULL|           NULL|                NULL|        NULL|        NULL|          2021-03-03|                NULL|https://www.netfl...|https://www.imdb....|This music docume...|      19.0|https://occ-0-285...|https://m.media-a...|                NULL|        NULL|\n",
      "|      False As Water|     Drama, Thriller|Psychological Thr...|             Swedish|          Movie|             7.9|Lithuania,Poland,...|    1-2 hour|      Hans Alfredson|      Hans Alfredson|Marie Göranzon, S...|       NULL|       6.3|                 NULL|            NULL|            3.0|                NULL|        NULL| 08 Nov 1985|          2021-03-03|                NULL|https://www.netfl...|https://www.imdb....|The illicit roman...|     546.0|https://occ-0-285...|https://m.media-a...|                NULL|        NULL|\n",
      "+--------------------+--------------------+--------------------+--------------------+---------------+----------------+--------------------+------------+--------------------+--------------------+--------------------+-----------+----------+---------------------+----------------+---------------+--------------------+------------+------------+--------------------+--------------------+--------------------+--------------------+--------------------+----------+--------------------+--------------------+--------------------+------------+\n",
      "only showing top 20 rows\n",
      "\n"
     ]
    }
   ],
   "source": [
    "df.show(20)"
   ]
  },
  {
   "cell_type": "code",
   "execution_count": 14,
   "metadata": {},
   "outputs": [
    {
     "data": {
      "text/plain": [
       "['Title',\n",
       " 'Genre',\n",
       " 'Tags',\n",
       " 'Languages',\n",
       " 'Series or Movie',\n",
       " 'Hidden Gem Score',\n",
       " 'Country Availability',\n",
       " 'Runtime',\n",
       " 'Director',\n",
       " 'Writer',\n",
       " 'Actors',\n",
       " 'View Rating',\n",
       " 'IMDb Score',\n",
       " 'Rotten Tomatoes Score',\n",
       " 'Metacritic Score',\n",
       " 'Awards Received',\n",
       " 'Awards Nominated For',\n",
       " 'Boxoffice',\n",
       " 'Release Date',\n",
       " 'Netflix Release Date',\n",
       " 'Production House',\n",
       " 'Netflix Link',\n",
       " 'IMDb Link',\n",
       " 'Summary',\n",
       " 'IMDb Votes',\n",
       " 'Image',\n",
       " 'Poster',\n",
       " 'TMDb Trailer',\n",
       " 'Trailer Site']"
      ]
     },
     "execution_count": 14,
     "metadata": {},
     "output_type": "execute_result"
    }
   ],
   "source": [
    "df.columns\n"
   ]
  },
  {
   "cell_type": "code",
   "execution_count": 15,
   "metadata": {},
   "outputs": [
    {
     "name": "stdout",
     "output_type": "stream",
     "text": [
      "root\n",
      " |-- Title: string (nullable = true)\n",
      " |-- Genre: string (nullable = true)\n",
      " |-- Tags: string (nullable = true)\n",
      " |-- Languages: string (nullable = true)\n",
      " |-- Series or Movie: string (nullable = true)\n",
      " |-- Hidden Gem Score: string (nullable = true)\n",
      " |-- Country Availability: string (nullable = true)\n",
      " |-- Runtime: string (nullable = true)\n",
      " |-- Director: string (nullable = true)\n",
      " |-- Writer: string (nullable = true)\n",
      " |-- Actors: string (nullable = true)\n",
      " |-- View Rating: string (nullable = true)\n",
      " |-- IMDb Score: string (nullable = true)\n",
      " |-- Rotten Tomatoes Score: string (nullable = true)\n",
      " |-- Metacritic Score: string (nullable = true)\n",
      " |-- Awards Received: string (nullable = true)\n",
      " |-- Awards Nominated For: string (nullable = true)\n",
      " |-- Boxoffice: string (nullable = true)\n",
      " |-- Release Date: string (nullable = true)\n",
      " |-- Netflix Release Date: string (nullable = true)\n",
      " |-- Production House: string (nullable = true)\n",
      " |-- Netflix Link: string (nullable = true)\n",
      " |-- IMDb Link: string (nullable = true)\n",
      " |-- Summary: string (nullable = true)\n",
      " |-- IMDb Votes: string (nullable = true)\n",
      " |-- Image: string (nullable = true)\n",
      " |-- Poster: string (nullable = true)\n",
      " |-- TMDb Trailer: string (nullable = true)\n",
      " |-- Trailer Site: string (nullable = true)\n",
      "\n"
     ]
    }
   ],
   "source": [
    "df.printSchema()"
   ]
  },
  {
   "cell_type": "markdown",
   "metadata": {},
   "source": [
    "## What is the maximum and average of the overall hidden gem score?"
   ]
  },
  {
   "cell_type": "code",
   "execution_count": 19,
   "metadata": {},
   "outputs": [],
   "source": [
    "from pyspark.sql.functions import avg, min, max, countDistinct\n"
   ]
  },
  {
   "cell_type": "code",
   "execution_count": 20,
   "metadata": {},
   "outputs": [
    {
     "name": "stdout",
     "output_type": "stream",
     "text": [
      "+---------------------+---------------------+\n",
      "|avg(Hidden Gem Score)|max(Hidden Gem Score)|\n",
      "+---------------------+---------------------+\n",
      "|    5.937551386501226|                  9.8|\n",
      "+---------------------+---------------------+\n",
      "\n"
     ]
    }
   ],
   "source": [
    "df.select(avg('Hidden Gem Score'),max('Hidden Gem Score')).show()"
   ]
  },
  {
   "cell_type": "markdown",
   "metadata": {},
   "source": [
    "## How many movies that are available in Korea?"
   ]
  },
  {
   "cell_type": "code",
   "execution_count": 39,
   "metadata": {},
   "outputs": [
    {
     "data": {
      "text/plain": [
       "735"
      ]
     },
     "execution_count": 39,
     "metadata": {},
     "output_type": "execute_result"
    }
   ],
   "source": [
    "df.filter(df.Languages.contains('Korean')).count()"
   ]
  },
  {
   "cell_type": "markdown",
   "metadata": {},
   "source": [
    "## Which director has the highest average hidden gem score?"
   ]
  },
  {
   "cell_type": "code",
   "execution_count": 41,
   "metadata": {},
   "outputs": [
    {
     "name": "stdout",
     "output_type": "stream",
     "text": [
      "+-----------+--------------------+\n",
      "|   Director|avg_hidden_gem_score|\n",
      "+-----------+--------------------+\n",
      "|Dorin Marcu|                 9.8|\n",
      "+-----------+--------------------+\n",
      "only showing top 1 row\n",
      "\n"
     ]
    }
   ],
   "source": [
    "df.groupBy('Director').agg(avg('Hidden Gem Score').alias('avg_hidden_gem_score')).orderBy('avg_hidden_gem_score', ascending=False).show(1)"
   ]
  },
  {
   "cell_type": "markdown",
   "metadata": {},
   "source": [
    "## How many genres are there in the dataset?"
   ]
  },
  {
   "cell_type": "code",
   "execution_count": 48,
   "metadata": {},
   "outputs": [
    {
     "data": {
      "text/plain": [
       "28"
      ]
     },
     "execution_count": 48,
     "metadata": {},
     "output_type": "execute_result"
    }
   ],
   "source": [
    "from pyspark.sql.functions import split, explode\n",
    "\n",
    "df.select(explode(split(df.Genre, \", \")) \\\n",
    "    .alias(\"genre\")) \\\n",
    "    .select(\"genre\") \\\n",
    "    .distinct() \\\n",
    "    .count()\n"
   ]
  }
 ],
 "metadata": {
  "kernelspec": {
   "display_name": "Python 3 (ipykernel)",
   "language": "python",
   "name": "python3"
  },
  "language_info": {
   "codemirror_mode": {
    "name": "ipython",
    "version": 3
   },
   "file_extension": ".py",
   "mimetype": "text/x-python",
   "name": "python",
   "nbconvert_exporter": "python",
   "pygments_lexer": "ipython3",
   "version": "3.9.6"
  },
  "toc": {
   "base_numbering": 1,
   "nav_menu": {},
   "number_sections": true,
   "sideBar": true,
   "skip_h1_title": false,
   "title_cell": "Table of Contents",
   "title_sidebar": "Contents",
   "toc_cell": false,
   "toc_position": {},
   "toc_section_display": true,
   "toc_window_display": false
  },
  "varInspector": {
   "cols": {
    "lenName": 16,
    "lenType": 16,
    "lenVar": 40
   },
   "kernels_config": {
    "python": {
     "delete_cmd_postfix": "",
     "delete_cmd_prefix": "del ",
     "library": "var_list.py",
     "varRefreshCmd": "print(var_dic_list())"
    },
    "r": {
     "delete_cmd_postfix": ") ",
     "delete_cmd_prefix": "rm(",
     "library": "var_list.r",
     "varRefreshCmd": "cat(var_dic_list()) "
    }
   },
   "types_to_exclude": [
    "module",
    "function",
    "builtin_function_or_method",
    "instance",
    "_Feature"
   ],
   "window_display": false
  }
 },
 "nbformat": 4,
 "nbformat_minor": 4
}
