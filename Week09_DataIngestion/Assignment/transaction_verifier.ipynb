{
 "cells": [
  {
   "cell_type": "code",
   "execution_count": 6,
   "id": "9c6511af",
   "metadata": {},
   "outputs": [
    {
     "name": "stdout",
     "output_type": "stream",
     "text": [
      "Defaulting to user installation because normal site-packages is not writeable\n",
      "Requirement already satisfied: avro==1.10.0 in /Users/premikayutinatorn/Library/Python/3.9/lib/python/site-packages (1.10.0)\n",
      "Collecting kafka-python3\n",
      "  Downloading kafka-python3-3.0.0.tar.gz (271 kB)\n",
      "\u001b[K     |████████████████████████████████| 271 kB 2.7 MB/s eta 0:00:01\n",
      "\u001b[?25hBuilding wheels for collected packages: kafka-python3\n",
      "  Building wheel for kafka-python3 (setup.py) ... \u001b[?25ldone\n",
      "\u001b[?25h  Created wheel for kafka-python3: filename=kafka_python3-3.0.0-py2.py3-none-any.whl size=248456 sha256=77a4f98c52461e7b656f9dcbc9f7ff4426209ae58fa5d793ee2b427d031cae22\n",
      "  Stored in directory: /Users/premikayutinatorn/Library/Caches/pip/wheels/ab/89/70/79203d7f8143f9cee8be4ff3f1d72af15c8d4efc68ea5a3fc8\n",
      "Successfully built kafka-python3\n",
      "Installing collected packages: kafka-python3\n",
      "Successfully installed kafka-python3-3.0.0\n",
      "\u001b[33mWARNING: You are using pip version 21.2.4; however, version 24.0 is available.\n",
      "You should consider upgrading via the '/Library/Developer/CommandLineTools/usr/bin/python3 -m pip install --upgrade pip' command.\u001b[0m\n",
      "Note: you may need to restart the kernel to use updated packages.\n"
     ]
    }
   ],
   "source": [
    "%pip install avro==1.10.0 kafka-python3"
   ]
  },
  {
   "cell_type": "code",
   "execution_count": 1,
   "id": "3d144bf2",
   "metadata": {},
   "outputs": [],
   "source": [
    "# import required libraries\n",
    "from kafka import KafkaConsumer, KafkaProducer\n",
    "import avro.schema\n",
    "import avro.io\n",
    "import io\n",
    "import hashlib, json"
   ]
  },
  {
   "cell_type": "code",
   "execution_count": 2,
   "id": "6234ffde",
   "metadata": {},
   "outputs": [],
   "source": [
    "def serialize(schema, obj):\n",
    "    bytes_writer = io.BytesIO()\n",
    "    encoder = avro.io.BinaryEncoder(bytes_writer)\n",
    "    writer = avro.io.DatumWriter(schema)\n",
    "    writer.write(obj, encoder)\n",
    "    return bytes_writer.getvalue()"
   ]
  },
  {
   "cell_type": "code",
   "execution_count": 3,
   "id": "5e1434bb",
   "metadata": {},
   "outputs": [],
   "source": [
    "def deserialize(schema, raw_bytes):\n",
    "    bytes_reader = io.BytesIO(raw_bytes)\n",
    "    decoder = avro.io.BinaryDecoder(bytes_reader)\n",
    "    reader = avro.io.DatumReader(schema)\n",
    "    return reader.read(decoder)"
   ]
  },
  {
   "cell_type": "code",
   "execution_count": 5,
   "id": "0e92e3e9",
   "metadata": {},
   "outputs": [],
   "source": [
    "schema_file = 'transaction.avsc'\n",
    "txschema = avro.schema.parse(open(schema_file).read())\n",
    "schema_file = 'submit.avsc'\n",
    "submitschema = avro.schema.parse(open(schema_file).read())\n",
    "schema_file = 'result.avsc'\n",
    "resultschema = avro.schema.parse(open(schema_file).read())"
   ]
  },
  {
   "cell_type": "code",
   "execution_count": 8,
   "id": "bcb5dc21",
   "metadata": {},
   "outputs": [],
   "source": [
    "# Connect to kafka broker running in your local host (docker). Change this to your kafka broker if needed\n",
    "kafka_broker = 'lab.aimet.tech:9092'"
   ]
  },
  {
   "cell_type": "code",
   "execution_count": 9,
   "id": "0e05b4b0",
   "metadata": {},
   "outputs": [],
   "source": [
    "producer = KafkaProducer(bootstrap_servers=[kafka_broker])"
   ]
  },
  {
   "cell_type": "code",
   "execution_count": 10,
   "id": "4a2555a3",
   "metadata": {},
   "outputs": [],
   "source": [
    "txconsumer = KafkaConsumer(\n",
    "    'transaction',\n",
    "     bootstrap_servers=[kafka_broker],\n",
    "     enable_auto_commit=True,\n",
    "     value_deserializer=lambda x: deserialize(txschema, x))\n",
    "resultconsumer = KafkaConsumer(\n",
    "    'result',\n",
    "     bootstrap_servers=[kafka_broker],\n",
    "     enable_auto_commit=True,\n",
    "     value_deserializer=lambda x: deserialize(resultschema, x))"
   ]
  },
  {
   "cell_type": "code",
   "execution_count": 11,
   "id": "fe697a88",
   "metadata": {},
   "outputs": [],
   "source": [
    "def gen_signature(txid, payer, payee, amount, token):\n",
    "    o = {'txid': txid, 'payer': payer, 'payee': payee, 'amount': amount, 'token': token}\n",
    "    return hashlib.md5(json.dumps(o, sort_keys=True).encode('utf-8')).hexdigest()"
   ]
  },
  {
   "cell_type": "code",
   "execution_count": 23,
   "id": "a7907082",
   "metadata": {},
   "outputs": [
    {
     "name": "stdout",
     "output_type": "stream",
     "text": [
      "{'txid': 'TX07281', 'payer': 'A69985', 'payee': 'A15196', 'amount': 1854}\n",
      "{'timestamp': 1711292735, 'vid': 'V675541', 'txid': 'TX07281', 'checksum': 'b679fcea2a4f946279e5c3c1ab818d00', 'code': 200, 'message': 'Confirm'}\n"
     ]
    }
   ],
   "source": [
    "vid = \"V595758\"\n",
    "token = \"79e66461ffa3f8de26d3b26a41e38318\"\n",
    "for message in txconsumer:\n",
    "    print(message.value)\n",
    "    signature = gen_signature(message.value[\"txid\"], message.value[\"payer\"], message.value[\"payee\"], message.value[\"amount\"], token)\n",
    "    submit = {'vid': vid, 'txid': message.value[\"txid\"], 'signature': signature}\n",
    "    producer.send('submit', serialize(submitschema, submit))\n",
    "    for result in resultconsumer:\n",
    "        print(result.value)\n",
    "        break\n",
    "    break"
   ]
  }
 ],
 "metadata": {
  "kernelspec": {
   "display_name": "Python 3 (ipykernel)",
   "language": "python",
   "name": "python3"
  },
  "language_info": {
   "codemirror_mode": {
    "name": "ipython",
    "version": 3
   },
   "file_extension": ".py",
   "mimetype": "text/x-python",
   "name": "python",
   "nbconvert_exporter": "python",
   "pygments_lexer": "ipython3",
   "version": "3.9.6"
  }
 },
 "nbformat": 4,
 "nbformat_minor": 5
}
