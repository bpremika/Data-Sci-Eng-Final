{
 "cells": [
  {
   "cell_type": "markdown",
   "metadata": {},
   "source": [
    "# REST API Data Extraction\n",
    "Gathering data from a REST API is quite typical.  Most Single-Page-Application (SPA) and AJAX dynamic pages rely on REST APIs.  In addition, most vendor-specific APIs such as Facebook, Twitter, etc., base on REST.\n",
    "\n",
    "The most important step of extracting data via REST API is to identify the endpoint."
   ]
  },
  {
   "cell_type": "code",
   "execution_count": 1,
   "metadata": {
    "scrolled": true
   },
   "outputs": [],
   "source": [
    "import requests\n",
    "import json\n",
    "import pprint"
   ]
  },
  {
   "cell_type": "markdown",
   "metadata": {},
   "source": [
    "## Call REST API\n",
    "After we investigate the main page of settrade.com, we can figure out the endpoint of the market information using debugger in the browser."
   ]
  },
  {
   "cell_type": "code",
   "execution_count": 2,
   "metadata": {},
   "outputs": [],
   "source": [
    "api_url = 'http://api.settrade.com/api/market/SET/info'"
   ]
  },
  {
   "cell_type": "code",
   "execution_count": 3,
   "metadata": {},
   "outputs": [
    {
     "data": {
      "text/plain": [
       "'{\"market_name\":\"SET\",\"market_display_name\":\"SET\",\"market_status\":\"Intermission\",\"datetime\":\"12/03/2024 13:24:44\",\"gainer_amount\":177,\"gainer_volume\":9.137427E8,\"unchange_amount\":202,\"unchange_volume\":9.137427E8,\"loser_amount\":249,\"loser_volume\":9.762634E8,\"index\":[{\"index_name\":\"SET\",\"index_display_name\":\"SET\",\"market\":\"SET\",\"prior\":1380.23,\"last\":1377.61,\"change\":-2.62,\"percent_change\":-0.19,\"high\":1385.65,\"low\":1374.69,\"total_volume\":1.4424295851E10,\"total_value\":2.2461124632E10,\"flag_url\":null},{\"index_name\":\"SET50\",\"index_display_name\":\"SET50\",\"market\":\"SET\",\"prior\":842.76,\"last\":841.78,\"change\":-0.98,\"percent_change\":-0.12,\"high\":847.2,\"low\":839.44,\"total_volume\":5.508239E8,\"total_value\":1.0928932882E10,\"flag_url\":null},{\"index_name\":\"SET50FF\",\"index_display_name\":\"SET50FF\",\"market\":\"SET\",\"prior\":841.55,\"last\":840.67,\"change\":-0.88,\"percent_change\":-0.1,\"high\":845.67,\"low\":838.21,\"total_volume\":5.508239E8,\"total_value\":1.0928932882E10,\"flag_url\":null},{\"index_name\":\"SET100\",\"index_display_name\":\"SET100\",\"market\":\"SET\",\"prior\":1867.87,\"last\":1865.07,\"change\":-2.8,\"percent_change\":-0.15,\"high\":1877.01,\"low\":1860.39,\"total_volume\":8.657816E8,\"total_value\":1.3938489659E10,\"flag_url\":null},{\"index_name\":\"SET100FF\",\"index_display_name\":\"SET100FF\",\"market\":\"SET\",\"prior\":1866.71,\"last\":1864.0,\"change\":-2.71,\"percent_change\":-0.15,\"high\":1875.21,\"low\":1859.09,\"total_volume\":8.657816E8,\"total_value\":1.3938489659E10,\"flag_url\":null},{\"index_name\":\"sSET\",\"index_display_name\":\"sSET\",\"market\":\"SET\",\"prior\":900.06,\"last\":897.63,\"change\":-2.43,\"percent_change\":-0.27,\"high\":902.51,\"low\":895.45,\"total_volume\":6.938546E8,\"total_value\":1.632066274E9,\"flag_url\":null},{\"index_name\":\"SETCLMV\",\"index_display_name\":\"SETCLMV\",\"market\":\"SET\",\"prior\":821.37,\"last\":818.22,\"change\":-3.15,\"percent_change\":-0.38,\"high\":826.03,\"low\":816.34,\"total_volume\":2.26956E8,\"total_value\":5.880884292E9,\"flag_url\":null},{\"index_name\":\"SETHD\",\"index_display_name\":\"SETHD\",\"market\":\"SET\",\"prior\":1088.38,\"last\":1087.0,\"change\":-1.38,\"percent_change\":-0.13,\"high\":1092.27,\"low\":1084.02,\"total_volume\":3.9719E8,\"total_value\":5.256981634E9,\"flag_url\":null},{\"index_name\":\"SETESG\",\"index_display_name\":\"SETESG\",\"market\":\"SET\",\"prior\":901.21,\"last\":898.52,\"change\":-2.69,\"percent_change\":-0.3,\"high\":904.17,\"low\":896.1,\"total_volume\":7.670275E8,\"total_value\":1.2123542297E10,\"flag_url\":null},{\"index_name\":\"SETWB\",\"index_display_name\":\"SETWB\",\"market\":\"SET\",\"prior\":821.95,\"last\":819.94,\"change\":-2.01,\"percent_change\":-0.24,\"high\":824.7,\"low\":816.5,\"total_volume\":2.169924E8,\"total_value\":4.399702536E9,\"flag_url\":null}]}'"
      ]
     },
     "execution_count": 3,
     "metadata": {},
     "output_type": "execute_result"
    }
   ],
   "source": [
    "data_info = requests.get(api_url)\n",
    "data_info.text"
   ]
  },
  {
   "cell_type": "markdown",
   "metadata": {},
   "source": [
    "## Extract data\n",
    "Unmarshal or convert the json text in the response from the API into a variable"
   ]
  },
  {
   "cell_type": "code",
   "execution_count": 4,
   "metadata": {
    "scrolled": true
   },
   "outputs": [
    {
     "name": "stdout",
     "output_type": "stream",
     "text": [
      "[{'change': -2.62,\n",
      "  'flag_url': None,\n",
      "  'high': 1385.65,\n",
      "  'index_display_name': 'SET',\n",
      "  'index_name': 'SET',\n",
      "  'last': 1377.61,\n",
      "  'low': 1374.69,\n",
      "  'market': 'SET',\n",
      "  'percent_change': -0.19,\n",
      "  'prior': 1380.23,\n",
      "  'total_value': 22461124632.0,\n",
      "  'total_volume': 14424295851.0},\n",
      " {'change': -0.98,\n",
      "  'flag_url': None,\n",
      "  'high': 847.2,\n",
      "  'index_display_name': 'SET50',\n",
      "  'index_name': 'SET50',\n",
      "  'last': 841.78,\n",
      "  'low': 839.44,\n",
      "  'market': 'SET',\n",
      "  'percent_change': -0.12,\n",
      "  'prior': 842.76,\n",
      "  'total_value': 10928932882.0,\n",
      "  'total_volume': 550823900.0},\n",
      " {'change': -0.88,\n",
      "  'flag_url': None,\n",
      "  'high': 845.67,\n",
      "  'index_display_name': 'SET50FF',\n",
      "  'index_name': 'SET50FF',\n",
      "  'last': 840.67,\n",
      "  'low': 838.21,\n",
      "  'market': 'SET',\n",
      "  'percent_change': -0.1,\n",
      "  'prior': 841.55,\n",
      "  'total_value': 10928932882.0,\n",
      "  'total_volume': 550823900.0},\n",
      " {'change': -2.8,\n",
      "  'flag_url': None,\n",
      "  'high': 1877.01,\n",
      "  'index_display_name': 'SET100',\n",
      "  'index_name': 'SET100',\n",
      "  'last': 1865.07,\n",
      "  'low': 1860.39,\n",
      "  'market': 'SET',\n",
      "  'percent_change': -0.15,\n",
      "  'prior': 1867.87,\n",
      "  'total_value': 13938489659.0,\n",
      "  'total_volume': 865781600.0},\n",
      " {'change': -2.71,\n",
      "  'flag_url': None,\n",
      "  'high': 1875.21,\n",
      "  'index_display_name': 'SET100FF',\n",
      "  'index_name': 'SET100FF',\n",
      "  'last': 1864.0,\n",
      "  'low': 1859.09,\n",
      "  'market': 'SET',\n",
      "  'percent_change': -0.15,\n",
      "  'prior': 1866.71,\n",
      "  'total_value': 13938489659.0,\n",
      "  'total_volume': 865781600.0},\n",
      " {'change': -2.43,\n",
      "  'flag_url': None,\n",
      "  'high': 902.51,\n",
      "  'index_display_name': 'sSET',\n",
      "  'index_name': 'sSET',\n",
      "  'last': 897.63,\n",
      "  'low': 895.45,\n",
      "  'market': 'SET',\n",
      "  'percent_change': -0.27,\n",
      "  'prior': 900.06,\n",
      "  'total_value': 1632066274.0,\n",
      "  'total_volume': 693854600.0},\n",
      " {'change': -3.15,\n",
      "  'flag_url': None,\n",
      "  'high': 826.03,\n",
      "  'index_display_name': 'SETCLMV',\n",
      "  'index_name': 'SETCLMV',\n",
      "  'last': 818.22,\n",
      "  'low': 816.34,\n",
      "  'market': 'SET',\n",
      "  'percent_change': -0.38,\n",
      "  'prior': 821.37,\n",
      "  'total_value': 5880884292.0,\n",
      "  'total_volume': 226956000.0},\n",
      " {'change': -1.38,\n",
      "  'flag_url': None,\n",
      "  'high': 1092.27,\n",
      "  'index_display_name': 'SETHD',\n",
      "  'index_name': 'SETHD',\n",
      "  'last': 1087.0,\n",
      "  'low': 1084.02,\n",
      "  'market': 'SET',\n",
      "  'percent_change': -0.13,\n",
      "  'prior': 1088.38,\n",
      "  'total_value': 5256981634.0,\n",
      "  'total_volume': 397190000.0},\n",
      " {'change': -2.69,\n",
      "  'flag_url': None,\n",
      "  'high': 904.17,\n",
      "  'index_display_name': 'SETESG',\n",
      "  'index_name': 'SETESG',\n",
      "  'last': 898.52,\n",
      "  'low': 896.1,\n",
      "  'market': 'SET',\n",
      "  'percent_change': -0.3,\n",
      "  'prior': 901.21,\n",
      "  'total_value': 12123542297.0,\n",
      "  'total_volume': 767027500.0},\n",
      " {'change': -2.01,\n",
      "  'flag_url': None,\n",
      "  'high': 824.7,\n",
      "  'index_display_name': 'SETWB',\n",
      "  'index_name': 'SETWB',\n",
      "  'last': 819.94,\n",
      "  'low': 816.5,\n",
      "  'market': 'SET',\n",
      "  'percent_change': -0.24,\n",
      "  'prior': 821.95,\n",
      "  'total_value': 4399702536.0,\n",
      "  'total_volume': 216992400.0}]\n"
     ]
    }
   ],
   "source": [
    "set_info = json.loads(data_info.text)\n",
    "pprint.pprint(set_info['index'])"
   ]
  },
  {
   "cell_type": "code",
   "execution_count": null,
   "metadata": {},
   "outputs": [],
   "source": [
    "market = set_info['index'][0]\n",
    "print(market['market'], market['last'])"
   ]
  },
  {
   "cell_type": "code",
   "execution_count": null,
   "metadata": {},
   "outputs": [],
   "source": [
    "for ind in set_info['index']:\n",
    "    print(ind['index_name'], ind['last'])"
   ]
  },
  {
   "cell_type": "code",
   "execution_count": null,
   "metadata": {},
   "outputs": [],
   "source": []
  }
 ],
 "metadata": {
  "kernelspec": {
   "display_name": "Python 3 (ipykernel)",
   "language": "python",
   "name": "python3"
  },
  "language_info": {
   "codemirror_mode": {
    "name": "ipython",
    "version": 3
   },
   "file_extension": ".py",
   "mimetype": "text/x-python",
   "name": "python",
   "nbconvert_exporter": "python",
   "pygments_lexer": "ipython3",
   "version": "3.11.5"
  },
  "toc": {
   "base_numbering": 1,
   "nav_menu": {},
   "number_sections": true,
   "sideBar": true,
   "skip_h1_title": false,
   "title_cell": "Table of Contents",
   "title_sidebar": "Contents",
   "toc_cell": false,
   "toc_position": {},
   "toc_section_display": true,
   "toc_window_display": false
  },
  "varInspector": {
   "cols": {
    "lenName": 16,
    "lenType": 16,
    "lenVar": 40
   },
   "kernels_config": {
    "python": {
     "delete_cmd_postfix": "",
     "delete_cmd_prefix": "del ",
     "library": "var_list.py",
     "varRefreshCmd": "print(var_dic_list())"
    },
    "r": {
     "delete_cmd_postfix": ") ",
     "delete_cmd_prefix": "rm(",
     "library": "var_list.r",
     "varRefreshCmd": "cat(var_dic_list()) "
    }
   },
   "types_to_exclude": [
    "module",
    "function",
    "builtin_function_or_method",
    "instance",
    "_Feature"
   ],
   "window_display": false
  }
 },
 "nbformat": 4,
 "nbformat_minor": 4
}
