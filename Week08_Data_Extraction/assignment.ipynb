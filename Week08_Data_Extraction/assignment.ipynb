{
  "cells": [
    {
      "cell_type": "markdown",
      "metadata": {
        "id": "IxUEWsq5g3EX"
      },
      "source": [
        "# Assignment: Extracting Static WebPage\n",
        "\n",
        "Extract information about “วันพระ” for 3 years from:\n",
        "- https://www.myhora.com/ปฏิทิน/วันพระ-พ.ศ.2565.aspx\n",
        "- https://www.myhora.com/ปฏิทิน/วันพระ-พ.ศ.2566.aspx\n",
        "- https://www.myhora.com/ปฏิทิน/วันพระ-พ.ศ.2567.aspx\n"
      ]
    },
    {
      "cell_type": "markdown",
      "metadata": {
        "id": "OQgAWDgmg3EY"
      },
      "source": [
        "Note that you can use dateparse package to parse Thai date.  First, we will have to install the package, this is for Google Colab users.  Otherwise, installing via command line is recommended (pip or conda)."
      ]
    },
    {
      "cell_type": "code",
      "execution_count": 1,
      "metadata": {
        "colab": {
          "base_uri": "https://localhost:8080/"
        },
        "id": "wdmbo_Zrg3EY",
        "outputId": "4a38a0b0-46e4-4949-cace-78215ef703e7",
        "scrolled": true
      },
      "outputs": [],
      "source": [
        "import sys\n",
        "IN_COLAB = 'google.colab' in sys.modules\n",
        "if IN_COLAB:\n",
        "    %pip install dateparser selenium chromedriver_autoinstall"
      ]
    },
    {
      "cell_type": "code",
      "execution_count": 3,
      "metadata": {
        "id": "o7zBKzJCg3EZ"
      },
      "outputs": [],
      "source": [
        "import dateparser"
      ]
    },
    {
      "cell_type": "markdown",
      "metadata": {
        "id": "iTYgGekxg3EZ"
      },
      "source": [
        "To convert from thai text date string, we will use the parse method.  Note that the parse method assumes the BC year, not BE.  Thus, we will have to subtract 543 from the year.  In addition, weekday() returns day of week with 0=Monday, ..., 6=Sunday."
      ]
    },
    {
      "cell_type": "code",
      "execution_count": 4,
      "metadata": {
        "colab": {
          "base_uri": "https://localhost:8080/"
        },
        "id": "x1fpPxQug3EZ",
        "outputId": "c395d595-d826-4f91-de44-284eec9c9167"
      },
      "outputs": [
        {
          "name": "stdout",
          "output_type": "stream",
          "text": [
            "2563-01-17 00:00:00\n",
            "0\n",
            "2020-01-17 00:00:00\n",
            "4\n"
          ]
        }
      ],
      "source": [
        "dt = dateparser.parse('วันศุกร์ที่ 17 มกราคม 2563')\n",
        "\n",
        "# this will print out weekday == 0 (Monday)\n",
        "print(dt)\n",
        "print(dt.weekday())\n",
        "\n",
        "# this will print out weekday == 4 (Friday)\n",
        "dt = dt.replace(year=dt.year-543)\n",
        "print(dt)\n",
        "print(dt.weekday())"
      ]
    },
    {
      "cell_type": "code",
      "execution_count": 5,
      "metadata": {
        "colab": {
          "base_uri": "https://localhost:8080/"
        },
        "id": "LZ5DVCdqg3EZ",
        "outputId": "68ea73ee-ab62-4516-966d-28856d9e25bc"
      },
      "outputs": [
        {
          "name": "stdout",
          "output_type": "stream",
          "text": [
            "2021-09-21 00:00:00\n",
            "1\n"
          ]
        }
      ],
      "source": [
        "dt = dateparser.parse('วันเสาร์ที่ 21 กันยายน 2564')\n",
        "dt = dt.replace(year=dt.year-543)\n",
        "print(dt)\n",
        "print(dt.weekday())"
      ]
    },
    {
      "cell_type": "markdown",
      "metadata": {
        "id": "fQfrlmJIg3EZ"
      },
      "source": [
        "Count the distribution of number of week days that are “วันพระ” for all three years and answer the following questions:"
      ]
    },
    {
      "cell_type": "code",
      "execution_count": 17,
      "metadata": {
        "colab": {
          "base_uri": "https://localhost:8080/",
          "height": 211
        },
        "id": "rVr1CbNqvvP2",
        "outputId": "a94524f0-3d4e-4061-a46a-fb7dd5f90f5b"
      },
      "outputs": [],
      "source": [
        "from selenium import webdriver\n",
        "\n",
        "urls = [\"https://www.myhora.com/ปฏิทิน/วันพระ-พ.ศ.2565.aspx\",\n",
        "\"https://www.myhora.com/ปฏิทิน/วันพระ-พ.ศ.2566.aspx\",\n",
        "\"https://www.myhora.com/ปฏิทิน/วันพระ-พ.ศ.2567.aspx\"]\n",
        "\n",
        "driver = webdriver.Chrome()"
      ]
    },
    {
      "cell_type": "markdown",
      "metadata": {
        "id": "vgiet3xsg3EZ"
      },
      "source": [
        "## How many วันพระ in total (of 3 years)?"
      ]
    },
    {
      "cell_type": "code",
      "execution_count": 18,
      "metadata": {
        "id": "JYiU8eokg3Ea"
      },
      "outputs": [
        {
          "name": "stdout",
          "output_type": "stream",
          "text": [
            "152.0\n"
          ]
        }
      ],
      "source": [
        "from selenium.webdriver.common.by import By\n",
        "total = 0\n",
        "for url in urls:\n",
        "    driver.get(url)\n",
        "    elements = driver.find_elements(By.CLASS_NAME, \"bud-day-col\")\n",
        "    count = len(elements)\n",
        "    total += count/3\n",
        "\n",
        "print(total)\n"
      ]
    },
    {
      "cell_type": "markdown",
      "metadata": {
        "id": "LS8jhqX3g3Ea"
      },
      "source": [
        "## How many days in total (of 3 years) that วันพระ is Monday?"
      ]
    },
    {
      "cell_type": "code",
      "execution_count": 22,
      "metadata": {
        "id": "r6B3b2wag3Ea"
      },
      "outputs": [
        {
          "name": "stdout",
          "output_type": "stream",
          "text": [
            "21\n"
          ]
        }
      ],
      "source": [
        "total =0\n",
        "for url in urls:\n",
        "    driver.get(url)\n",
        "    elements = driver.find_elements(By.CLASS_NAME, \"bud-day-col\")\n",
        "    for element in elements:\n",
        "        if element.text[:3] == 'วัน':\n",
        "            dt = dateparser.parse(element.text)\n",
        "            dt = dt.replace(year=dt.year-543)\n",
        "            if dt.weekday() == 0:\n",
        "                total += 1\n",
        "print(total)"
      ]
    },
    {
      "cell_type": "markdown",
      "metadata": {
        "id": "K9m-SwzKg3Ea"
      },
      "source": [
        "## Which day of the week that has the minimum number of วันพระ?"
      ]
    },
    {
      "cell_type": "code",
      "execution_count": 26,
      "metadata": {
        "id": "l88mfS28g3Ea"
      },
      "outputs": [
        {
          "name": "stdout",
          "output_type": "stream",
          "text": [
            "1\n"
          ]
        }
      ],
      "source": [
        "dayOfWeek = {\n",
        "    0: 0,\n",
        "    1: 0,\n",
        "    2: 0,\n",
        "    3: 0,\n",
        "    4: 0,\n",
        "    5: 0,\n",
        "    6: 0\n",
        "}\n",
        "\n",
        "for url in urls:\n",
        "    driver.get(url)\n",
        "    elements = driver.find_elements(By.CLASS_NAME, \"bud-day-col\")\n",
        "    for element in elements:\n",
        "        if element.text[:3] == 'วัน':\n",
        "            dt = dateparser.parse(element.text)\n",
        "            dt = dt.replace(year=dt.year-543)\n",
        "            dayOfWeek[dt.weekday()] += 1\n",
        "\n",
        "minDay = 0\n",
        "for key in dayOfWeek:\n",
        "    if dayOfWeek[key] < dayOfWeek[minDay]:\n",
        "        minDay = key\n",
        "\n",
        "print(minDay)"
      ]
    },
    {
      "cell_type": "markdown",
      "metadata": {
        "id": "RN4TV8HVg3Ea"
      },
      "source": [
        "## Which day of the week that has the maximum number of วันพระ?"
      ]
    },
    {
      "cell_type": "code",
      "execution_count": 27,
      "metadata": {
        "id": "GW7oASByg3Ea"
      },
      "outputs": [
        {
          "name": "stdout",
          "output_type": "stream",
          "text": [
            "6\n"
          ]
        }
      ],
      "source": [
        "maxDay = 0\n",
        "for key in dayOfWeek:\n",
        "    if dayOfWeek[key] > dayOfWeek[maxDay]:\n",
        "        maxDay = key\n",
        "\n",
        "print(maxDay)"
      ]
    }
  ],
  "metadata": {
    "colab": {
      "provenance": []
    },
    "kernelspec": {
      "display_name": "Python 3 (ipykernel)",
      "language": "python",
      "name": "python3"
    },
    "language_info": {
      "codemirror_mode": {
        "name": "ipython",
        "version": 3
      },
      "file_extension": ".py",
      "mimetype": "text/x-python",
      "name": "python",
      "nbconvert_exporter": "python",
      "pygments_lexer": "ipython3",
      "version": "3.9.6"
    },
    "toc": {
      "base_numbering": 1,
      "nav_menu": {},
      "number_sections": true,
      "sideBar": true,
      "skip_h1_title": false,
      "title_cell": "Table of Contents",
      "title_sidebar": "Contents",
      "toc_cell": false,
      "toc_position": {},
      "toc_section_display": true,
      "toc_window_display": false
    },
    "varInspector": {
      "cols": {
        "lenName": 16,
        "lenType": 16,
        "lenVar": 40
      },
      "kernels_config": {
        "python": {
          "delete_cmd_postfix": "",
          "delete_cmd_prefix": "del ",
          "library": "var_list.py",
          "varRefreshCmd": "print(var_dic_list())"
        },
        "r": {
          "delete_cmd_postfix": ") ",
          "delete_cmd_prefix": "rm(",
          "library": "var_list.r",
          "varRefreshCmd": "cat(var_dic_list()) "
        }
      },
      "types_to_exclude": [
        "module",
        "function",
        "builtin_function_or_method",
        "instance",
        "_Feature"
      ],
      "window_display": false
    }
  },
  "nbformat": 4,
  "nbformat_minor": 0
}
