{
  "cells": [
    {
      "cell_type": "code",
      "execution_count": 1,
      "metadata": {
        "colab": {
          "base_uri": "https://localhost:8080/"
        },
        "id": "dk1j6F7gPS2E",
        "outputId": "85f2d7cb-daa9-4652-c6e9-bf65f542383b"
      },
      "outputs": [
        {
          "name": "stdout",
          "output_type": "stream",
          "text": [
            "Defaulting to user installation because normal site-packages is not writeable\n",
            "Requirement already satisfied: transformers in /Users/premikayutinatorn/Library/Python/3.9/lib/python/site-packages (4.38.2)\n",
            "Requirement already satisfied: datasets in /Users/premikayutinatorn/Library/Python/3.9/lib/python/site-packages (2.18.0)\n",
            "Requirement already satisfied: evaluate in /Users/premikayutinatorn/Library/Python/3.9/lib/python/site-packages (0.4.1)\n",
            "Requirement already satisfied: accelerate in /Users/premikayutinatorn/Library/Python/3.9/lib/python/site-packages (0.28.0)\n",
            "Requirement already satisfied: tensorflow in /Users/premikayutinatorn/Library/Python/3.9/lib/python/site-packages (2.16.1)\n",
            "Requirement already satisfied: huggingface-hub<1.0,>=0.19.3 in /Users/premikayutinatorn/Library/Python/3.9/lib/python/site-packages (from transformers) (0.21.4)\n",
            "Requirement already satisfied: tqdm>=4.27 in /Users/premikayutinatorn/Library/Python/3.9/lib/python/site-packages (from transformers) (4.66.2)\n",
            "Requirement already satisfied: pyyaml>=5.1 in /Users/premikayutinatorn/Library/Python/3.9/lib/python/site-packages (from transformers) (6.0.1)\n",
            "Requirement already satisfied: packaging>=20.0 in /Users/premikayutinatorn/Library/Python/3.9/lib/python/site-packages (from transformers) (23.2)\n",
            "Requirement already satisfied: regex!=2019.12.17 in /Users/premikayutinatorn/Library/Python/3.9/lib/python/site-packages (from transformers) (2023.12.25)\n",
            "Requirement already satisfied: requests in /Users/premikayutinatorn/Library/Python/3.9/lib/python/site-packages (from transformers) (2.31.0)\n",
            "Requirement already satisfied: tokenizers<0.19,>=0.14 in /Users/premikayutinatorn/Library/Python/3.9/lib/python/site-packages (from transformers) (0.15.2)\n",
            "Requirement already satisfied: numpy>=1.17 in /Users/premikayutinatorn/Library/Python/3.9/lib/python/site-packages (from transformers) (1.26.3)\n",
            "Requirement already satisfied: safetensors>=0.4.1 in /Users/premikayutinatorn/Library/Python/3.9/lib/python/site-packages (from transformers) (0.4.2)\n",
            "Requirement already satisfied: filelock in /Users/premikayutinatorn/Library/Python/3.9/lib/python/site-packages (from transformers) (3.13.1)\n",
            "Requirement already satisfied: pyarrow>=12.0.0 in /Users/premikayutinatorn/Library/Python/3.9/lib/python/site-packages (from datasets) (15.0.0)\n",
            "Requirement already satisfied: pandas in /Users/premikayutinatorn/Library/Python/3.9/lib/python/site-packages (from datasets) (2.2.0)\n",
            "Requirement already satisfied: multiprocess in /Users/premikayutinatorn/Library/Python/3.9/lib/python/site-packages (from datasets) (0.70.16)\n",
            "Requirement already satisfied: fsspec[http]<=2024.2.0,>=2023.1.0 in /Users/premikayutinatorn/Library/Python/3.9/lib/python/site-packages (from datasets) (2024.2.0)\n",
            "Requirement already satisfied: xxhash in /Users/premikayutinatorn/Library/Python/3.9/lib/python/site-packages (from datasets) (3.4.1)\n",
            "Requirement already satisfied: dill<0.3.9,>=0.3.0 in /Users/premikayutinatorn/Library/Python/3.9/lib/python/site-packages (from datasets) (0.3.8)\n",
            "Requirement already satisfied: aiohttp in /Users/premikayutinatorn/Library/Python/3.9/lib/python/site-packages (from datasets) (3.9.3)\n",
            "Requirement already satisfied: pyarrow-hotfix in /Users/premikayutinatorn/Library/Python/3.9/lib/python/site-packages (from datasets) (0.6)\n",
            "Requirement already satisfied: responses<0.19 in /Users/premikayutinatorn/Library/Python/3.9/lib/python/site-packages (from evaluate) (0.18.0)\n",
            "Requirement already satisfied: torch>=1.10.0 in /Users/premikayutinatorn/Library/Python/3.9/lib/python/site-packages (from accelerate) (2.2.1)\n",
            "Requirement already satisfied: psutil in /Users/premikayutinatorn/Library/Python/3.9/lib/python/site-packages (from accelerate) (5.9.8)\n",
            "Requirement already satisfied: absl-py>=1.0.0 in /Users/premikayutinatorn/Library/Python/3.9/lib/python/site-packages (from tensorflow) (2.1.0)\n",
            "Requirement already satisfied: wrapt>=1.11.0 in /Users/premikayutinatorn/Library/Python/3.9/lib/python/site-packages (from tensorflow) (1.16.0)\n",
            "Requirement already satisfied: flatbuffers>=23.5.26 in /Users/premikayutinatorn/Library/Python/3.9/lib/python/site-packages (from tensorflow) (24.3.7)\n",
            "Requirement already satisfied: keras>=3.0.0 in /Users/premikayutinatorn/Library/Python/3.9/lib/python/site-packages (from tensorflow) (3.0.5)\n",
            "Requirement already satisfied: opt-einsum>=2.3.2 in /Users/premikayutinatorn/Library/Python/3.9/lib/python/site-packages (from tensorflow) (3.3.0)\n",
            "Requirement already satisfied: libclang>=13.0.0 in /Users/premikayutinatorn/Library/Python/3.9/lib/python/site-packages (from tensorflow) (17.0.6)\n",
            "Requirement already satisfied: typing-extensions>=3.6.6 in /Users/premikayutinatorn/Library/Python/3.9/lib/python/site-packages (from tensorflow) (4.9.0)\n",
            "Requirement already satisfied: tensorflow-io-gcs-filesystem>=0.23.1 in /Users/premikayutinatorn/Library/Python/3.9/lib/python/site-packages (from tensorflow) (0.36.0)\n",
            "Requirement already satisfied: astunparse>=1.6.0 in /Users/premikayutinatorn/Library/Python/3.9/lib/python/site-packages (from tensorflow) (1.6.3)\n",
            "Requirement already satisfied: h5py>=3.10.0 in /Users/premikayutinatorn/Library/Python/3.9/lib/python/site-packages (from tensorflow) (3.10.0)\n",
            "Requirement already satisfied: gast!=0.5.0,!=0.5.1,!=0.5.2,>=0.2.1 in /Users/premikayutinatorn/Library/Python/3.9/lib/python/site-packages (from tensorflow) (0.5.4)\n",
            "Requirement already satisfied: protobuf!=4.21.0,!=4.21.1,!=4.21.2,!=4.21.3,!=4.21.4,!=4.21.5,<5.0.0dev,>=3.20.3 in /Users/premikayutinatorn/Library/Python/3.9/lib/python/site-packages (from tensorflow) (4.25.2)\n",
            "Requirement already satisfied: google-pasta>=0.1.1 in /Users/premikayutinatorn/Library/Python/3.9/lib/python/site-packages (from tensorflow) (0.2.0)\n",
            "Requirement already satisfied: ml-dtypes~=0.3.1 in /Users/premikayutinatorn/Library/Python/3.9/lib/python/site-packages (from tensorflow) (0.3.2)\n",
            "Requirement already satisfied: six>=1.12.0 in /Library/Developer/CommandLineTools/Library/Frameworks/Python3.framework/Versions/3.9/lib/python3.9/site-packages (from tensorflow) (1.15.0)\n",
            "Requirement already satisfied: setuptools in /Library/Developer/CommandLineTools/Library/Frameworks/Python3.framework/Versions/3.9/lib/python3.9/site-packages (from tensorflow) (58.0.4)\n",
            "Requirement already satisfied: tensorboard<2.17,>=2.16 in /Users/premikayutinatorn/Library/Python/3.9/lib/python/site-packages (from tensorflow) (2.16.2)\n",
            "Requirement already satisfied: grpcio<2.0,>=1.24.3 in /Users/premikayutinatorn/Library/Python/3.9/lib/python/site-packages (from tensorflow) (1.62.1)\n",
            "Requirement already satisfied: termcolor>=1.1.0 in /Users/premikayutinatorn/Library/Python/3.9/lib/python/site-packages (from tensorflow) (2.4.0)\n",
            "Requirement already satisfied: wheel<1.0,>=0.23.0 in /Library/Developer/CommandLineTools/Library/Frameworks/Python3.framework/Versions/3.9/lib/python3.9/site-packages (from astunparse>=1.6.0->tensorflow) (0.37.0)\n",
            "Requirement already satisfied: aiosignal>=1.1.2 in /Users/premikayutinatorn/Library/Python/3.9/lib/python/site-packages (from aiohttp->datasets) (1.3.1)\n",
            "Requirement already satisfied: frozenlist>=1.1.1 in /Users/premikayutinatorn/Library/Python/3.9/lib/python/site-packages (from aiohttp->datasets) (1.4.1)\n",
            "Requirement already satisfied: async-timeout<5.0,>=4.0 in /Users/premikayutinatorn/Library/Python/3.9/lib/python/site-packages (from aiohttp->datasets) (4.0.3)\n",
            "Requirement already satisfied: multidict<7.0,>=4.5 in /Users/premikayutinatorn/Library/Python/3.9/lib/python/site-packages (from aiohttp->datasets) (6.0.5)\n",
            "Requirement already satisfied: attrs>=17.3.0 in /Users/premikayutinatorn/Library/Python/3.9/lib/python/site-packages (from aiohttp->datasets) (23.2.0)\n",
            "Requirement already satisfied: yarl<2.0,>=1.0 in /Users/premikayutinatorn/Library/Python/3.9/lib/python/site-packages (from aiohttp->datasets) (1.9.4)\n",
            "Requirement already satisfied: rich in /Users/premikayutinatorn/Library/Python/3.9/lib/python/site-packages (from keras>=3.0.0->tensorflow) (13.7.1)\n",
            "Requirement already satisfied: dm-tree in /Users/premikayutinatorn/Library/Python/3.9/lib/python/site-packages (from keras>=3.0.0->tensorflow) (0.1.8)\n",
            "Requirement already satisfied: namex in /Users/premikayutinatorn/Library/Python/3.9/lib/python/site-packages (from keras>=3.0.0->tensorflow) (0.0.7)\n",
            "Requirement already satisfied: charset-normalizer<4,>=2 in /Users/premikayutinatorn/Library/Python/3.9/lib/python/site-packages (from requests->transformers) (3.3.2)\n",
            "Requirement already satisfied: idna<4,>=2.5 in /Users/premikayutinatorn/Library/Python/3.9/lib/python/site-packages (from requests->transformers) (3.6)\n",
            "Requirement already satisfied: urllib3<3,>=1.21.1 in /Users/premikayutinatorn/Library/Python/3.9/lib/python/site-packages (from requests->transformers) (2.2.0)\n",
            "Requirement already satisfied: certifi>=2017.4.17 in /Users/premikayutinatorn/Library/Python/3.9/lib/python/site-packages (from requests->transformers) (2024.2.2)\n",
            "Requirement already satisfied: markdown>=2.6.8 in /Users/premikayutinatorn/Library/Python/3.9/lib/python/site-packages (from tensorboard<2.17,>=2.16->tensorflow) (3.5.2)\n",
            "Requirement already satisfied: werkzeug>=1.0.1 in /Users/premikayutinatorn/Library/Python/3.9/lib/python/site-packages (from tensorboard<2.17,>=2.16->tensorflow) (3.0.1)\n",
            "Requirement already satisfied: tensorboard-data-server<0.8.0,>=0.7.0 in /Users/premikayutinatorn/Library/Python/3.9/lib/python/site-packages (from tensorboard<2.17,>=2.16->tensorflow) (0.7.2)\n",
            "Requirement already satisfied: importlib-metadata>=4.4 in /Users/premikayutinatorn/Library/Python/3.9/lib/python/site-packages (from markdown>=2.6.8->tensorboard<2.17,>=2.16->tensorflow) (7.0.1)\n",
            "Requirement already satisfied: zipp>=0.5 in /Users/premikayutinatorn/Library/Python/3.9/lib/python/site-packages (from importlib-metadata>=4.4->markdown>=2.6.8->tensorboard<2.17,>=2.16->tensorflow) (3.17.0)\n",
            "Requirement already satisfied: sympy in /Users/premikayutinatorn/Library/Python/3.9/lib/python/site-packages (from torch>=1.10.0->accelerate) (1.12)\n",
            "Requirement already satisfied: networkx in /Users/premikayutinatorn/Library/Python/3.9/lib/python/site-packages (from torch>=1.10.0->accelerate) (3.2.1)\n",
            "Requirement already satisfied: jinja2 in /Users/premikayutinatorn/Library/Python/3.9/lib/python/site-packages (from torch>=1.10.0->accelerate) (3.1.3)\n",
            "Requirement already satisfied: MarkupSafe>=2.1.1 in /Users/premikayutinatorn/Library/Python/3.9/lib/python/site-packages (from werkzeug>=1.0.1->tensorboard<2.17,>=2.16->tensorflow) (2.1.5)\n",
            "Requirement already satisfied: python-dateutil>=2.8.2 in /Users/premikayutinatorn/Library/Python/3.9/lib/python/site-packages (from pandas->datasets) (2.8.2)\n",
            "Requirement already satisfied: tzdata>=2022.7 in /Users/premikayutinatorn/Library/Python/3.9/lib/python/site-packages (from pandas->datasets) (2023.4)\n",
            "Requirement already satisfied: pytz>=2020.1 in /Users/premikayutinatorn/Library/Python/3.9/lib/python/site-packages (from pandas->datasets) (2023.3.post1)\n",
            "Requirement already satisfied: pygments<3.0.0,>=2.13.0 in /Users/premikayutinatorn/Library/Python/3.9/lib/python/site-packages (from rich->keras>=3.0.0->tensorflow) (2.17.2)\n",
            "Requirement already satisfied: markdown-it-py>=2.2.0 in /Users/premikayutinatorn/Library/Python/3.9/lib/python/site-packages (from rich->keras>=3.0.0->tensorflow) (3.0.0)\n",
            "Requirement already satisfied: mdurl~=0.1 in /Users/premikayutinatorn/Library/Python/3.9/lib/python/site-packages (from markdown-it-py>=2.2.0->rich->keras>=3.0.0->tensorflow) (0.1.2)\n",
            "Requirement already satisfied: mpmath>=0.19 in /Users/premikayutinatorn/Library/Python/3.9/lib/python/site-packages (from sympy->torch>=1.10.0->accelerate) (1.3.0)\n",
            "\u001b[33mWARNING: You are using pip version 21.2.4; however, version 24.0 is available.\n",
            "You should consider upgrading via the '/Library/Developer/CommandLineTools/usr/bin/python3 -m pip install --upgrade pip' command.\u001b[0m\n",
            "Note: you may need to restart the kernel to use updated packages.\n"
          ]
        }
      ],
      "source": [
        "%pip install transformers datasets evaluate accelerate tensorflow"
      ]
    },
    {
      "cell_type": "code",
      "execution_count": 2,
      "metadata": {
        "id": "V-Sa-Zh6K31w"
      },
      "outputs": [
        {
          "name": "stderr",
          "output_type": "stream",
          "text": [
            "/Users/premikayutinatorn/Library/Python/3.9/lib/python/site-packages/urllib3/__init__.py:35: NotOpenSSLWarning: urllib3 v2 only supports OpenSSL 1.1.1+, currently the 'ssl' module is compiled with 'LibreSSL 2.8.3'. See: https://github.com/urllib3/urllib3/issues/3020\n",
            "  warnings.warn(\n",
            "/Users/premikayutinatorn/Library/Python/3.9/lib/python/site-packages/tqdm/auto.py:21: TqdmWarning: IProgress not found. Please update jupyter and ipywidgets. See https://ipywidgets.readthedocs.io/en/stable/user_install.html\n",
            "  from .autonotebook import tqdm as notebook_tqdm\n"
          ]
        }
      ],
      "source": [
        "# Data processing\n",
        "import pandas as pd\n",
        "\n",
        "# Modeling\n",
        "import tensorflow as tf\n",
        "from transformers import AutoTokenizer, AutoModelForSequenceClassification, TrainingArguments, Trainer, EarlyStoppingCallback, TextClassificationPipeline\n",
        "\n",
        "# Model performance evaluation\n",
        "import evaluate"
      ]
    },
    {
      "cell_type": "markdown",
      "metadata": {},
      "source": [
        "**Load Data**"
      ]
    },
    {
      "cell_type": "code",
      "execution_count": 3,
      "metadata": {
        "colab": {
          "base_uri": "https://localhost:8080/",
          "height": 453
        },
        "id": "6hUOcAYgLXsw",
        "outputId": "da8ae4c3-be73-495a-815a-60ad1f2a0d71"
      },
      "outputs": [
        {
          "data": {
            "text/html": [
              "<div>\n",
              "<style scoped>\n",
              "    .dataframe tbody tr th:only-of-type {\n",
              "        vertical-align: middle;\n",
              "    }\n",
              "\n",
              "    .dataframe tbody tr th {\n",
              "        vertical-align: top;\n",
              "    }\n",
              "\n",
              "    .dataframe thead th {\n",
              "        text-align: right;\n",
              "    }\n",
              "</style>\n",
              "<table border=\"1\" class=\"dataframe\">\n",
              "  <thead>\n",
              "    <tr style=\"text-align: right;\">\n",
              "      <th></th>\n",
              "      <th>1</th>\n",
              "      <th>2</th>\n",
              "      <th>3</th>\n",
              "      <th>4</th>\n",
              "      <th>5</th>\n",
              "      <th>6</th>\n",
              "      <th>7</th>\n",
              "      <th>8</th>\n",
              "      <th>9</th>\n",
              "      <th>10</th>\n",
              "      <th>...</th>\n",
              "      <th>445</th>\n",
              "      <th>446</th>\n",
              "      <th>447</th>\n",
              "      <th>448</th>\n",
              "      <th>449</th>\n",
              "      <th>450</th>\n",
              "      <th>451</th>\n",
              "      <th>452</th>\n",
              "      <th>453</th>\n",
              "      <th>454</th>\n",
              "    </tr>\n",
              "  </thead>\n",
              "  <tbody>\n",
              "    <tr>\n",
              "      <th>Title</th>\n",
              "      <td>Activated carbon derived from bacterial cellul...</td>\n",
              "      <td>The algorithm of static hand gesture recogniti...</td>\n",
              "      <td>Alternative Redundant Residue Number System Co...</td>\n",
              "      <td>Comparative study of wax inhibitor performance...</td>\n",
              "      <td>Undrained lower bound solutions for end bearin...</td>\n",
              "      <td>Words Diffusion an Analysis of across Facebook...</td>\n",
              "      <td>Transformation of time Petri net into Promela</td>\n",
              "      <td>Annual Degradation Rate Analysis of Mono-Si Ph...</td>\n",
              "      <td>Development of Low-Cost in-the-Ear EEG Prototype</td>\n",
              "      <td>Model-based analysis of an integrated zinc-air...</td>\n",
              "      <td>...</td>\n",
              "      <td>Effect of rhenium and cobalt additions on the ...</td>\n",
              "      <td>Wheeling charge calculation with consideration...</td>\n",
              "      <td>Scaling laws for static displacement of linear...</td>\n",
              "      <td>Effect of TMB/P123 ratios on physicochemical p...</td>\n",
              "      <td>Synthetic CaO-based sorbent for high-temperatu...</td>\n",
              "      <td>A portable USB-controlled potentiostat for pap...</td>\n",
              "      <td>Literature reviews on applying artificial inte...</td>\n",
              "      <td>A multi-parameterized water quality prediction...</td>\n",
              "      <td>Semantic Segmentation on Medium-Resolution Sat...</td>\n",
              "      <td>Reducing the defects of a-pillar stamping part...</td>\n",
              "    </tr>\n",
              "    <tr>\n",
              "      <th>Abstract</th>\n",
              "      <td>© 2019 Elsevier B.V.Activated carbon derived f...</td>\n",
              "      <td>© Springer International Publishing AG 2018.Te...</td>\n",
              "      <td>© 2018 IEEE.Residue number system (RNS) is a n...</td>\n",
              "      <td>© Published under licence by IOP Publishing Lt...</td>\n",
              "      <td>© 2019 John Wiley &amp; Sons, Ltd.The undrained be...</td>\n",
              "      <td>© 2018 IEEE.Facebook Pages in Thailand have be...</td>\n",
              "      <td>© 2017 IEEE.This paper proposes a method of tr...</td>\n",
              "      <td>© 2013 IEEE.The annual degradation rate (DR) o...</td>\n",
              "      <td>© 2018 IEEE.This study focused on building a l...</td>\n",
              "      <td>© 2019 Lao-atiman, Bumroongsil, Arpornwichanop...</td>\n",
              "      <td>...</td>\n",
              "      <td>© Carl Hanser Verlag GmbH &amp; Co. KG.The effect ...</td>\n",
              "      <td>© 2019 IEEE.In Thailand, Small Power Producers...</td>\n",
              "      <td>© 2018 Elsevier LtdExperimental studies on the...</td>\n",
              "      <td>© 2021 Elsevier LtdThe preparation of mesocell...</td>\n",
              "      <td>© 2018 Hydrogen Energy Publications LLCCalcium...</td>\n",
              "      <td>© 2018 IEEEThis paper presents a portable and ...</td>\n",
              "      <td>Copyright © 2019 for this paper by its authors...</td>\n",
              "      <td>© 2019 The authors and IOS Press. All rights r...</td>\n",
              "      <td>© 2018 IEEE.Semantic Segmentation is a fundame...</td>\n",
              "      <td>© 2019 IEEE.This research aims to reduce defec...</td>\n",
              "    </tr>\n",
              "    <tr>\n",
              "      <th>Classes</th>\n",
              "      <td>[CHE, MATENG]</td>\n",
              "      <td>[CPE]</td>\n",
              "      <td>[EE]</td>\n",
              "      <td>[PE, ME, CHE]</td>\n",
              "      <td>[CE, MATSCI]</td>\n",
              "      <td>[CPE]</td>\n",
              "      <td>[CPE, MATH]</td>\n",
              "      <td>[PE, EE, CHE]</td>\n",
              "      <td>[BME, CPE, IE]</td>\n",
              "      <td>[PE, METAL, EE, CPE, CHE, IE, MATH]</td>\n",
              "      <td>...</td>\n",
              "      <td>[METAL, ME, CHE, MATH, MATSCI]</td>\n",
              "      <td>[ME, EE]</td>\n",
              "      <td>[CE, MATSCI]</td>\n",
              "      <td>[OPTIC, CHE, MATSCI]</td>\n",
              "      <td>[PE, CHE]</td>\n",
              "      <td>[CPE, CHE]</td>\n",
              "      <td>[CPE, EDU]</td>\n",
              "      <td>[ENV, EE, CHE]</td>\n",
              "      <td>[EE, CPE, OPTIC, EDU]</td>\n",
              "      <td>[METAL, EDU, MATSCI]</td>\n",
              "    </tr>\n",
              "  </tbody>\n",
              "</table>\n",
              "<p>3 rows × 454 columns</p>\n",
              "</div>"
            ],
            "text/plain": [
              "                                                        1    \\\n",
              "Title     Activated carbon derived from bacterial cellul...   \n",
              "Abstract  © 2019 Elsevier B.V.Activated carbon derived f...   \n",
              "Classes                                       [CHE, MATENG]   \n",
              "\n",
              "                                                        2    \\\n",
              "Title     The algorithm of static hand gesture recogniti...   \n",
              "Abstract  © Springer International Publishing AG 2018.Te...   \n",
              "Classes                                               [CPE]   \n",
              "\n",
              "                                                        3    \\\n",
              "Title     Alternative Redundant Residue Number System Co...   \n",
              "Abstract  © 2018 IEEE.Residue number system (RNS) is a n...   \n",
              "Classes                                                [EE]   \n",
              "\n",
              "                                                        4    \\\n",
              "Title     Comparative study of wax inhibitor performance...   \n",
              "Abstract  © Published under licence by IOP Publishing Lt...   \n",
              "Classes                                       [PE, ME, CHE]   \n",
              "\n",
              "                                                        5    \\\n",
              "Title     Undrained lower bound solutions for end bearin...   \n",
              "Abstract  © 2019 John Wiley & Sons, Ltd.The undrained be...   \n",
              "Classes                                        [CE, MATSCI]   \n",
              "\n",
              "                                                        6    \\\n",
              "Title     Words Diffusion an Analysis of across Facebook...   \n",
              "Abstract  © 2018 IEEE.Facebook Pages in Thailand have be...   \n",
              "Classes                                               [CPE]   \n",
              "\n",
              "                                                        7    \\\n",
              "Title         Transformation of time Petri net into Promela   \n",
              "Abstract  © 2017 IEEE.This paper proposes a method of tr...   \n",
              "Classes                                         [CPE, MATH]   \n",
              "\n",
              "                                                        8    \\\n",
              "Title     Annual Degradation Rate Analysis of Mono-Si Ph...   \n",
              "Abstract  © 2013 IEEE.The annual degradation rate (DR) o...   \n",
              "Classes                                       [PE, EE, CHE]   \n",
              "\n",
              "                                                        9    \\\n",
              "Title      Development of Low-Cost in-the-Ear EEG Prototype   \n",
              "Abstract  © 2018 IEEE.This study focused on building a l...   \n",
              "Classes                                      [BME, CPE, IE]   \n",
              "\n",
              "                                                        10   ...  \\\n",
              "Title     Model-based analysis of an integrated zinc-air...  ...   \n",
              "Abstract  © 2019 Lao-atiman, Bumroongsil, Arpornwichanop...  ...   \n",
              "Classes                 [PE, METAL, EE, CPE, CHE, IE, MATH]  ...   \n",
              "\n",
              "                                                        445  \\\n",
              "Title     Effect of rhenium and cobalt additions on the ...   \n",
              "Abstract  © Carl Hanser Verlag GmbH & Co. KG.The effect ...   \n",
              "Classes                      [METAL, ME, CHE, MATH, MATSCI]   \n",
              "\n",
              "                                                        446  \\\n",
              "Title     Wheeling charge calculation with consideration...   \n",
              "Abstract  © 2019 IEEE.In Thailand, Small Power Producers...   \n",
              "Classes                                            [ME, EE]   \n",
              "\n",
              "                                                        447  \\\n",
              "Title     Scaling laws for static displacement of linear...   \n",
              "Abstract  © 2018 Elsevier LtdExperimental studies on the...   \n",
              "Classes                                        [CE, MATSCI]   \n",
              "\n",
              "                                                        448  \\\n",
              "Title     Effect of TMB/P123 ratios on physicochemical p...   \n",
              "Abstract  © 2021 Elsevier LtdThe preparation of mesocell...   \n",
              "Classes                                [OPTIC, CHE, MATSCI]   \n",
              "\n",
              "                                                        449  \\\n",
              "Title     Synthetic CaO-based sorbent for high-temperatu...   \n",
              "Abstract  © 2018 Hydrogen Energy Publications LLCCalcium...   \n",
              "Classes                                           [PE, CHE]   \n",
              "\n",
              "                                                        450  \\\n",
              "Title     A portable USB-controlled potentiostat for pap...   \n",
              "Abstract  © 2018 IEEEThis paper presents a portable and ...   \n",
              "Classes                                          [CPE, CHE]   \n",
              "\n",
              "                                                        451  \\\n",
              "Title     Literature reviews on applying artificial inte...   \n",
              "Abstract  Copyright © 2019 for this paper by its authors...   \n",
              "Classes                                          [CPE, EDU]   \n",
              "\n",
              "                                                        452  \\\n",
              "Title     A multi-parameterized water quality prediction...   \n",
              "Abstract  © 2019 The authors and IOS Press. All rights r...   \n",
              "Classes                                      [ENV, EE, CHE]   \n",
              "\n",
              "                                                        453  \\\n",
              "Title     Semantic Segmentation on Medium-Resolution Sat...   \n",
              "Abstract  © 2018 IEEE.Semantic Segmentation is a fundame...   \n",
              "Classes                               [EE, CPE, OPTIC, EDU]   \n",
              "\n",
              "                                                        454  \n",
              "Title     Reducing the defects of a-pillar stamping part...  \n",
              "Abstract  © 2019 IEEE.This research aims to reduce defec...  \n",
              "Classes                                [METAL, EDU, MATSCI]  \n",
              "\n",
              "[3 rows x 454 columns]"
            ]
          },
          "execution_count": 3,
          "metadata": {},
          "output_type": "execute_result"
        }
      ],
      "source": [
        "train_path = \"train_for_student.json\"\n",
        "test_path = \"test_for_student.json\"\n",
        "\n",
        "train_df = pd.read_json(train_path)\n",
        "kaggle_test_df = pd.read_json(test_path)\n",
        "\n",
        "train_df"
      ]
    },
    {
      "cell_type": "markdown",
      "metadata": {},
      "source": [
        "Data Preparation"
      ]
    },
    {
      "cell_type": "code",
      "execution_count": 4,
      "metadata": {
        "colab": {
          "base_uri": "https://localhost:8080/",
          "height": 424
        },
        "id": "tlO6-Cc3MUtz",
        "outputId": "30b27d70-a32e-42ba-b9cf-1ce76bfaee60"
      },
      "outputs": [
        {
          "data": {
            "text/html": [
              "<div>\n",
              "<style scoped>\n",
              "    .dataframe tbody tr th:only-of-type {\n",
              "        vertical-align: middle;\n",
              "    }\n",
              "\n",
              "    .dataframe tbody tr th {\n",
              "        vertical-align: top;\n",
              "    }\n",
              "\n",
              "    .dataframe thead th {\n",
              "        text-align: right;\n",
              "    }\n",
              "</style>\n",
              "<table border=\"1\" class=\"dataframe\">\n",
              "  <thead>\n",
              "    <tr style=\"text-align: right;\">\n",
              "      <th></th>\n",
              "      <th>Title</th>\n",
              "      <th>Abstract</th>\n",
              "      <th>Classes</th>\n",
              "    </tr>\n",
              "  </thead>\n",
              "  <tbody>\n",
              "    <tr>\n",
              "      <th>1</th>\n",
              "      <td>Activated carbon derived from bacterial cellul...</td>\n",
              "      <td>© 2019 Elsevier B.V.Activated carbon derived f...</td>\n",
              "      <td>[CHE, MATENG]</td>\n",
              "    </tr>\n",
              "    <tr>\n",
              "      <th>2</th>\n",
              "      <td>The algorithm of static hand gesture recogniti...</td>\n",
              "      <td>© Springer International Publishing AG 2018.Te...</td>\n",
              "      <td>[CPE]</td>\n",
              "    </tr>\n",
              "    <tr>\n",
              "      <th>3</th>\n",
              "      <td>Alternative Redundant Residue Number System Co...</td>\n",
              "      <td>© 2018 IEEE.Residue number system (RNS) is a n...</td>\n",
              "      <td>[EE]</td>\n",
              "    </tr>\n",
              "    <tr>\n",
              "      <th>4</th>\n",
              "      <td>Comparative study of wax inhibitor performance...</td>\n",
              "      <td>© Published under licence by IOP Publishing Lt...</td>\n",
              "      <td>[PE, ME, CHE]</td>\n",
              "    </tr>\n",
              "    <tr>\n",
              "      <th>5</th>\n",
              "      <td>Undrained lower bound solutions for end bearin...</td>\n",
              "      <td>© 2019 John Wiley &amp; Sons, Ltd.The undrained be...</td>\n",
              "      <td>[CE, MATSCI]</td>\n",
              "    </tr>\n",
              "    <tr>\n",
              "      <th>...</th>\n",
              "      <td>...</td>\n",
              "      <td>...</td>\n",
              "      <td>...</td>\n",
              "    </tr>\n",
              "    <tr>\n",
              "      <th>450</th>\n",
              "      <td>A portable USB-controlled potentiostat for pap...</td>\n",
              "      <td>© 2018 IEEEThis paper presents a portable and ...</td>\n",
              "      <td>[CPE, CHE]</td>\n",
              "    </tr>\n",
              "    <tr>\n",
              "      <th>451</th>\n",
              "      <td>Literature reviews on applying artificial inte...</td>\n",
              "      <td>Copyright © 2019 for this paper by its authors...</td>\n",
              "      <td>[CPE, EDU]</td>\n",
              "    </tr>\n",
              "    <tr>\n",
              "      <th>452</th>\n",
              "      <td>A multi-parameterized water quality prediction...</td>\n",
              "      <td>© 2019 The authors and IOS Press. All rights r...</td>\n",
              "      <td>[ENV, EE, CHE]</td>\n",
              "    </tr>\n",
              "    <tr>\n",
              "      <th>453</th>\n",
              "      <td>Semantic Segmentation on Medium-Resolution Sat...</td>\n",
              "      <td>© 2018 IEEE.Semantic Segmentation is a fundame...</td>\n",
              "      <td>[EE, CPE, OPTIC, EDU]</td>\n",
              "    </tr>\n",
              "    <tr>\n",
              "      <th>454</th>\n",
              "      <td>Reducing the defects of a-pillar stamping part...</td>\n",
              "      <td>© 2019 IEEE.This research aims to reduce defec...</td>\n",
              "      <td>[METAL, EDU, MATSCI]</td>\n",
              "    </tr>\n",
              "  </tbody>\n",
              "</table>\n",
              "<p>454 rows × 3 columns</p>\n",
              "</div>"
            ],
            "text/plain": [
              "                                                 Title  \\\n",
              "1    Activated carbon derived from bacterial cellul...   \n",
              "2    The algorithm of static hand gesture recogniti...   \n",
              "3    Alternative Redundant Residue Number System Co...   \n",
              "4    Comparative study of wax inhibitor performance...   \n",
              "5    Undrained lower bound solutions for end bearin...   \n",
              "..                                                 ...   \n",
              "450  A portable USB-controlled potentiostat for pap...   \n",
              "451  Literature reviews on applying artificial inte...   \n",
              "452  A multi-parameterized water quality prediction...   \n",
              "453  Semantic Segmentation on Medium-Resolution Sat...   \n",
              "454  Reducing the defects of a-pillar stamping part...   \n",
              "\n",
              "                                              Abstract                Classes  \n",
              "1    © 2019 Elsevier B.V.Activated carbon derived f...          [CHE, MATENG]  \n",
              "2    © Springer International Publishing AG 2018.Te...                  [CPE]  \n",
              "3    © 2018 IEEE.Residue number system (RNS) is a n...                   [EE]  \n",
              "4    © Published under licence by IOP Publishing Lt...          [PE, ME, CHE]  \n",
              "5    © 2019 John Wiley & Sons, Ltd.The undrained be...           [CE, MATSCI]  \n",
              "..                                                 ...                    ...  \n",
              "450  © 2018 IEEEThis paper presents a portable and ...             [CPE, CHE]  \n",
              "451  Copyright © 2019 for this paper by its authors...             [CPE, EDU]  \n",
              "452  © 2019 The authors and IOS Press. All rights r...         [ENV, EE, CHE]  \n",
              "453  © 2018 IEEE.Semantic Segmentation is a fundame...  [EE, CPE, OPTIC, EDU]  \n",
              "454  © 2019 IEEE.This research aims to reduce defec...   [METAL, EDU, MATSCI]  \n",
              "\n",
              "[454 rows x 3 columns]"
            ]
          },
          "execution_count": 4,
          "metadata": {},
          "output_type": "execute_result"
        }
      ],
      "source": [
        "train_df = train_df.T\n",
        "kaggle_test_data = kaggle_test_df.T\n",
        "train_df"
      ]
    },
    {
      "cell_type": "code",
      "execution_count": 5,
      "metadata": {
        "colab": {
          "base_uri": "https://localhost:8080/",
          "height": 424
        },
        "id": "L8nksDSpVSkH",
        "outputId": "d3eac832-86f4-4c70-8086-9c6cfc9e12e7"
      },
      "outputs": [
        {
          "data": {
            "text/html": [
              "<div>\n",
              "<style scoped>\n",
              "    .dataframe tbody tr th:only-of-type {\n",
              "        vertical-align: middle;\n",
              "    }\n",
              "\n",
              "    .dataframe tbody tr th {\n",
              "        vertical-align: top;\n",
              "    }\n",
              "\n",
              "    .dataframe thead th {\n",
              "        text-align: right;\n",
              "    }\n",
              "</style>\n",
              "<table border=\"1\" class=\"dataframe\">\n",
              "  <thead>\n",
              "    <tr style=\"text-align: right;\">\n",
              "      <th></th>\n",
              "      <th>Title</th>\n",
              "      <th>Abstract</th>\n",
              "    </tr>\n",
              "  </thead>\n",
              "  <tbody>\n",
              "    <tr>\n",
              "      <th>001eval</th>\n",
              "      <td>Comparative Electrical Energy Yield Performanc...</td>\n",
              "      <td>© 2013 IEEE.Long-term energy evaluation of PV ...</td>\n",
              "    </tr>\n",
              "    <tr>\n",
              "      <th>002eval</th>\n",
              "      <td>Effects of graphene nanoplatelets on bio-based...</td>\n",
              "      <td>© The Author(s) 2021.Novel near-infrared (NIR)...</td>\n",
              "    </tr>\n",
              "    <tr>\n",
              "      <th>003eval</th>\n",
              "      <td>Anti-inflammatory action of two novel peptides...</td>\n",
              "      <td>© The Royal Society of Chemistry 2020.Peanut w...</td>\n",
              "    </tr>\n",
              "    <tr>\n",
              "      <th>004eval</th>\n",
              "      <td>Efficient all-and-one support vector machines ...</td>\n",
              "      <td>© 2018 IEEE.We introduce a new strategy to est...</td>\n",
              "    </tr>\n",
              "    <tr>\n",
              "      <th>005eval</th>\n",
              "      <td>Driver identification using histogram and neur...</td>\n",
              "      <td>© 2017 IEEE.Sensor technology has continuously...</td>\n",
              "    </tr>\n",
              "    <tr>\n",
              "      <th>...</th>\n",
              "      <td>...</td>\n",
              "      <td>...</td>\n",
              "    </tr>\n",
              "    <tr>\n",
              "      <th>147eval</th>\n",
              "      <td>Utilization of Sewage Sludge from Beverage Ind...</td>\n",
              "      <td>© Published under licence by IOP Publishing Lt...</td>\n",
              "    </tr>\n",
              "    <tr>\n",
              "      <th>148eval</th>\n",
              "      <td>Development of a Gateway for OpenADR-ECHONET L...</td>\n",
              "      <td>© 2018 IEEE.In this paper, we develop an ECHON...</td>\n",
              "    </tr>\n",
              "    <tr>\n",
              "      <th>149eval</th>\n",
              "      <td>Effect of solution treatment and precipitation...</td>\n",
              "      <td>© 2017 Elsevier Ltd. All rights reserved.The a...</td>\n",
              "    </tr>\n",
              "    <tr>\n",
              "      <th>150eval</th>\n",
              "      <td>An effect-analysis method for species-dependen...</td>\n",
              "      <td>© The Authors, published by EDP Sciences, 2019...</td>\n",
              "    </tr>\n",
              "    <tr>\n",
              "      <th>151eval</th>\n",
              "      <td>Very Short-Term Solar Power Forecast using Dat...</td>\n",
              "      <td>© 2019 IEEE.This article presents a method to ...</td>\n",
              "    </tr>\n",
              "  </tbody>\n",
              "</table>\n",
              "<p>151 rows × 2 columns</p>\n",
              "</div>"
            ],
            "text/plain": [
              "                                                     Title  \\\n",
              "001eval  Comparative Electrical Energy Yield Performanc...   \n",
              "002eval  Effects of graphene nanoplatelets on bio-based...   \n",
              "003eval  Anti-inflammatory action of two novel peptides...   \n",
              "004eval  Efficient all-and-one support vector machines ...   \n",
              "005eval  Driver identification using histogram and neur...   \n",
              "...                                                    ...   \n",
              "147eval  Utilization of Sewage Sludge from Beverage Ind...   \n",
              "148eval  Development of a Gateway for OpenADR-ECHONET L...   \n",
              "149eval  Effect of solution treatment and precipitation...   \n",
              "150eval  An effect-analysis method for species-dependen...   \n",
              "151eval  Very Short-Term Solar Power Forecast using Dat...   \n",
              "\n",
              "                                                  Abstract  \n",
              "001eval  © 2013 IEEE.Long-term energy evaluation of PV ...  \n",
              "002eval  © The Author(s) 2021.Novel near-infrared (NIR)...  \n",
              "003eval  © The Royal Society of Chemistry 2020.Peanut w...  \n",
              "004eval  © 2018 IEEE.We introduce a new strategy to est...  \n",
              "005eval  © 2017 IEEE.Sensor technology has continuously...  \n",
              "...                                                    ...  \n",
              "147eval  © Published under licence by IOP Publishing Lt...  \n",
              "148eval  © 2018 IEEE.In this paper, we develop an ECHON...  \n",
              "149eval  © 2017 Elsevier Ltd. All rights reserved.The a...  \n",
              "150eval  © The Authors, published by EDP Sciences, 2019...  \n",
              "151eval  © 2019 IEEE.This article presents a method to ...  \n",
              "\n",
              "[151 rows x 2 columns]"
            ]
          },
          "execution_count": 5,
          "metadata": {},
          "output_type": "execute_result"
        }
      ],
      "source": [
        "kaggle_test_data"
      ]
    },
    {
      "cell_type": "code",
      "execution_count": 6,
      "metadata": {
        "colab": {
          "base_uri": "https://localhost:8080/",
          "height": 175
        },
        "id": "Eslpg5RfMjxn",
        "outputId": "147a2398-fa02-4a48-9c9b-5f4ed6985c87"
      },
      "outputs": [
        {
          "data": {
            "text/html": [
              "<div>\n",
              "<style scoped>\n",
              "    .dataframe tbody tr th:only-of-type {\n",
              "        vertical-align: middle;\n",
              "    }\n",
              "\n",
              "    .dataframe tbody tr th {\n",
              "        vertical-align: top;\n",
              "    }\n",
              "\n",
              "    .dataframe thead th {\n",
              "        text-align: right;\n",
              "    }\n",
              "</style>\n",
              "<table border=\"1\" class=\"dataframe\">\n",
              "  <thead>\n",
              "    <tr style=\"text-align: right;\">\n",
              "      <th></th>\n",
              "      <th>Title</th>\n",
              "      <th>Abstract</th>\n",
              "      <th>Classes</th>\n",
              "    </tr>\n",
              "  </thead>\n",
              "  <tbody>\n",
              "    <tr>\n",
              "      <th>count</th>\n",
              "      <td>454</td>\n",
              "      <td>454</td>\n",
              "      <td>454</td>\n",
              "    </tr>\n",
              "    <tr>\n",
              "      <th>unique</th>\n",
              "      <td>453</td>\n",
              "      <td>454</td>\n",
              "      <td>284</td>\n",
              "    </tr>\n",
              "    <tr>\n",
              "      <th>top</th>\n",
              "      <td>Structure and mechanical properties of ADC 12 ...</td>\n",
              "      <td>© 2019 Elsevier B.V.Activated carbon derived f...</td>\n",
              "      <td>[CPE]</td>\n",
              "    </tr>\n",
              "    <tr>\n",
              "      <th>freq</th>\n",
              "      <td>2</td>\n",
              "      <td>1</td>\n",
              "      <td>29</td>\n",
              "    </tr>\n",
              "  </tbody>\n",
              "</table>\n",
              "</div>"
            ],
            "text/plain": [
              "                                                    Title  \\\n",
              "count                                                 454   \n",
              "unique                                                453   \n",
              "top     Structure and mechanical properties of ADC 12 ...   \n",
              "freq                                                    2   \n",
              "\n",
              "                                                 Abstract Classes  \n",
              "count                                                 454     454  \n",
              "unique                                                454     284  \n",
              "top     © 2019 Elsevier B.V.Activated carbon derived f...   [CPE]  \n",
              "freq                                                    1      29  "
            ]
          },
          "execution_count": 6,
          "metadata": {},
          "output_type": "execute_result"
        }
      ],
      "source": [
        "train_df.describe()"
      ]
    },
    {
      "cell_type": "code",
      "execution_count": 7,
      "metadata": {},
      "outputs": [
        {
          "data": {
            "text/plain": [
              "Title       0\n",
              "Abstract    0\n",
              "Classes     0\n",
              "dtype: int64"
            ]
          },
          "execution_count": 7,
          "metadata": {},
          "output_type": "execute_result"
        }
      ],
      "source": [
        "train_df.isnull().sum()"
      ]
    },
    {
      "cell_type": "code",
      "execution_count": 8,
      "metadata": {},
      "outputs": [
        {
          "data": {
            "text/plain": [
              "Title       0\n",
              "Abstract    0\n",
              "dtype: int64"
            ]
          },
          "execution_count": 8,
          "metadata": {},
          "output_type": "execute_result"
        }
      ],
      "source": [
        "kaggle_test_data.isnull().sum()"
      ]
    },
    {
      "cell_type": "code",
      "execution_count": 9,
      "metadata": {
        "colab": {
          "base_uri": "https://localhost:8080/"
        },
        "id": "OD_8BDNNOEkf",
        "outputId": "eebaec35-9677-43a9-932f-b47b2799166b"
      },
      "outputs": [
        {
          "data": {
            "text/plain": [
              "Classes\n",
              "[CPE]                              29\n",
              "[EE]                               14\n",
              "[CPE, MATH]                        14\n",
              "[METAL, CHE]                        9\n",
              "[CHE, MATENG]                       8\n",
              "                                   ..\n",
              "[ENV, CPE, SAFETY, MATH]            1\n",
              "[ENV, METAL, ME, EE, NANO, CHE]     1\n",
              "[CE, CPE, MATENG, MATH, MATSCI]     1\n",
              "[PE, ME, EE, CPE, MATH]             1\n",
              "[METAL, EDU, MATSCI]                1\n",
              "Name: count, Length: 284, dtype: int64"
            ]
          },
          "execution_count": 9,
          "metadata": {},
          "output_type": "execute_result"
        }
      ],
      "source": [
        "train_df.Classes.value_counts()"
      ]
    },
    {
      "cell_type": "code",
      "execution_count": 10,
      "metadata": {},
      "outputs": [
        {
          "data": {
            "text/plain": [
              "Classes\n",
              "[CPE]                              29\n",
              "[EE]                               14\n",
              "[CPE, MATH]                        14\n",
              "[METAL, CHE]                        9\n",
              "[CHE, MATENG]                       8\n",
              "                                   ..\n",
              "[ENV, CPE, SAFETY, MATH]            1\n",
              "[ENV, METAL, ME, EE, NANO, CHE]     1\n",
              "[CE, CPE, MATENG, MATH, MATSCI]     1\n",
              "[PE, ME, EE, CPE, MATH]             1\n",
              "[METAL, EDU, MATSCI]                1\n",
              "Name: count, Length: 284, dtype: int64"
            ]
          },
          "execution_count": 10,
          "metadata": {},
          "output_type": "execute_result"
        }
      ],
      "source": [
        "train_df.Classes.value_counts()"
      ]
    },
    {
      "cell_type": "code",
      "execution_count": 11,
      "metadata": {},
      "outputs": [],
      "source": [
        "train_df['text'] = train_df['Title'] + \" \" + train_df['Abstract']\n",
        "train_df.drop(['Title','Abstract'],axis=1, inplace=True)\n",
        "\n",
        "kaggle_test_data['text'] = kaggle_test_data['Title'] + \" \" + kaggle_test_data['Abstract']\n",
        "kaggle_test_data.drop(['Title','Abstract'],axis=1, inplace=True)"
      ]
    },
    {
      "cell_type": "code",
      "execution_count": 12,
      "metadata": {},
      "outputs": [
        {
          "name": "stderr",
          "output_type": "stream",
          "text": [
            "/var/folders/vc/c5yh3t2s6tgc117z_ws0m1tw0000gn/T/ipykernel_25531/1864895821.py:1: FutureWarning: Series.__getitem__ treating keys as positions is deprecated. In a future version, integer keys will always be treated as labels (consistent with DataFrame behavior). To access a value by position, use `ser.iloc[pos]`\n",
            "  train_df.iloc[0][1]\n"
          ]
        },
        {
          "data": {
            "text/plain": [
              "'Activated carbon derived from bacterial cellulose and its use as catalyst support for ethanol conversion to ethylene © 2019 Elsevier B.V.Activated carbon derived from bacterial cellulose (BC-AC) was modified with various amounts of H3PO4(x wt% P/BC-AC) and used as a catalyst for the selective dehydration of ethanol to ethylene. The BC-AC obtained at a carbonization temperature of 500 °C had a mesoporous structure with surface area and total pore volume of ~1730 m2/g and 1.0 cm3/g, respectively. An increase in the H3PO4 loading from 5% to 40% increased the number of weak acid sites on the catalyst surface, which consequently enhanced ethanol conversion. At the reaction temperature of 400 °C, the modified BC-AC with 30-40 wt% H3PO4 loading (P/BC-AC) gave an ethanol conversion at 100% and an ethylene selectivity of 100%. A high selectivity for diethyl ether (DEE) at ~ 67% at ethanol conversion of ~ 50% was obtained at 200 °C. Stability tests with a time-on-stream of 12 h, at reaction temperatures of 200 and 400 °C, showed that the P/BC-AC catalyst had high thermal stability and stable catalytic activity. Therefore, P/BC-AC was found to be very effective as an inexpensive and environmentally friendly catalyst for ethylene production via ethanol dehydration.'"
            ]
          },
          "execution_count": 12,
          "metadata": {},
          "output_type": "execute_result"
        }
      ],
      "source": [
        "train_df.iloc[0][1]"
      ]
    },
    {
      "cell_type": "code",
      "execution_count": 13,
      "metadata": {
        "id": "snM1MfB2f8Mu"
      },
      "outputs": [],
      "source": [
        "train_df = train_df.rename(columns={'Classes': 'labels'})\n",
        "\n",
        "kaggle_test_data = kaggle_test_data.rename(columns={'Classes': 'labels'})"
      ]
    },
    {
      "cell_type": "markdown",
      "metadata": {},
      "source": [
        "Label Encoder"
      ]
    },
    {
      "cell_type": "code",
      "execution_count": 14,
      "metadata": {},
      "outputs": [],
      "source": [
        "from sklearn.preprocessing import MultiLabelBinarizer"
      ]
    },
    {
      "cell_type": "code",
      "execution_count": 15,
      "metadata": {},
      "outputs": [],
      "source": [
        "multilabel = MultiLabelBinarizer()\n",
        "\n",
        "labels = multilabel.fit_transform(train_df['labels']).astype('float32')\n",
        "\n",
        "texts = train_df['text'].tolist()"
      ]
    },
    {
      "cell_type": "code",
      "execution_count": 16,
      "metadata": {},
      "outputs": [
        {
          "name": "stdout",
          "output_type": "stream",
          "text": [
            "['AGRI' 'BME' 'CE' 'CHE' 'CPE' 'EDU' 'EE' 'ENV' 'IE' 'MATENG' 'MATH'\n",
            " 'MATSCI' 'ME' 'METAL' 'NANO' 'OPTIC' 'PE' 'SAFETY']\n"
          ]
        },
        {
          "data": {
            "text/plain": [
              "array([0., 0., 0., 1., 0., 0., 0., 0., 0., 1., 0., 0., 0., 0., 0., 0., 0.,\n",
              "       0.], dtype=float32)"
            ]
          },
          "execution_count": 16,
          "metadata": {},
          "output_type": "execute_result"
        }
      ],
      "source": [
        "print(multilabel.classes_)\n",
        "labels[0]"
      ]
    },
    {
      "cell_type": "code",
      "execution_count": 17,
      "metadata": {},
      "outputs": [],
      "source": [
        "import torch\n",
        "from transformers import DistilBertTokenizer, AutoTokenizer\n",
        "from transformers import DistilBertForSequenceClassification, AutoModelForSequenceClassification\n",
        "from sklearn.model_selection import train_test_split\n",
        "from torch.utils.data import Dataset\n",
        "from datasets import Dataset as HGDataset"
      ]
    },
    {
      "cell_type": "code",
      "execution_count": 18,
      "metadata": {
        "id": "CfGggPwnYGzn"
      },
      "outputs": [],
      "source": [
        "train_texts, val_texts, train_labels, val_labels = train_test_split(texts, labels,\n",
        "                                                                    test_size=0.05, random_state=42)"
      ]
    },
    {
      "cell_type": "markdown",
      "metadata": {},
      "source": [
        "Export Train and Validation Data"
      ]
    },
    {
      "cell_type": "code",
      "execution_count": 19,
      "metadata": {},
      "outputs": [
        {
          "name": "stdout",
          "output_type": "stream",
          "text": [
            "[0. 0. 0. 1. 0. 0. 0. 0. 0. 1. 0. 0. 0. 0. 0. 0. 0. 0.]\n"
          ]
        }
      ],
      "source": [
        "print(labels[0])"
      ]
    },
    {
      "cell_type": "code",
      "execution_count": 20,
      "metadata": {},
      "outputs": [],
      "source": [
        "columns = multilabel.classes_\n",
        "train_df = pd.DataFrame({'text': train_texts})\n",
        "train_df[columns] = pd.DataFrame(train_labels, columns=columns)\n",
        "val_df = pd.DataFrame({'text': val_texts})\n",
        "val_df[columns] = pd.DataFrame(val_labels, columns=columns)\n",
        "\n",
        "train_df.to_csv('train_data.csv', index=False)\n",
        "val_df.to_csv('validation_data.csv', index=False)"
      ]
    },
    {
      "cell_type": "code",
      "execution_count": null,
      "metadata": {},
      "outputs": [],
      "source": [
        "kaggle_test_data.to_csv('test_data.csv', index=False)"
      ]
    },
    {
      "cell_type": "code",
      "execution_count": 21,
      "metadata": {},
      "outputs": [
        {
          "name": "stderr",
          "output_type": "stream",
          "text": [
            "Some weights of DistilBertForSequenceClassification were not initialized from the model checkpoint at distilbert-base-uncased and are newly initialized: ['classifier.bias', 'classifier.weight', 'pre_classifier.bias', 'pre_classifier.weight']\n",
            "You should probably TRAIN this model on a down-stream task to be able to use it for predictions and inference.\n"
          ]
        }
      ],
      "source": [
        "checkpoint = \"distilbert-base-uncased\"\n",
        "tokenizer = DistilBertTokenizer.from_pretrained(checkpoint)\n",
        "model = DistilBertForSequenceClassification.from_pretrained(checkpoint, num_labels=18,\n",
        "                                                            problem_type=\"multi_label_classification\")"
      ]
    },
    {
      "cell_type": "code",
      "execution_count": 22,
      "metadata": {},
      "outputs": [],
      "source": [
        "class CustomDataset(Dataset):\n",
        "  def __init__(self, texts, labels, tokenizer, max_len=512):\n",
        "    self.texts = texts\n",
        "    self.labels = labels\n",
        "    self.tokenizer = tokenizer\n",
        "    self.max_len = max_len\n",
        "\n",
        "  def __len__(self):\n",
        "    return len(self.texts)\n",
        "\n",
        "  def __getitem__(self, idx):\n",
        "    text = str(self.texts[idx])\n",
        "    label = torch.tensor(self.labels[idx])\n",
        "\n",
        "    encoding = self.tokenizer(text, truncation=True, padding=\"max_length\", max_length=self.max_len, return_tensors='pt')\n",
        "\n",
        "    return {\n",
        "        'input_ids': encoding['input_ids'].flatten(),\n",
        "        'attention_mask': encoding['attention_mask'].flatten(),\n",
        "        'labels': label\n",
        "    }\n",
        "\n",
        "class PredictDataset(Dataset):\n",
        "  def __init__(self, texts, tokenizer, max_len=512):\n",
        "    self.texts = texts\n",
        "    self.tokenizer = tokenizer\n",
        "    self.max_len = max_len\n",
        "\n",
        "  def __len__(self):\n",
        "    return len(self.texts)\n",
        "\n",
        "  def __getitem__(self, idx):\n",
        "    text = str(self.texts[idx])\n",
        "    encoding = self.tokenizer(text, truncation=True, padding=\"max_length\", max_length=self.max_len, return_tensors='pt')\n",
        "\n",
        "    return {\n",
        "        'input_ids': encoding['input_ids'].flatten(),\n",
        "        'attention_mask': encoding['attention_mask'].flatten(),\n",
        "    }  \n"
      ]
    },
    {
      "cell_type": "code",
      "execution_count": 23,
      "metadata": {},
      "outputs": [
        {
          "data": {
            "text/plain": [
              "001eval    Comparative Electrical Energy Yield Performanc...\n",
              "002eval    Effects of graphene nanoplatelets on bio-based...\n",
              "003eval    Anti-inflammatory action of two novel peptides...\n",
              "004eval    Efficient all-and-one support vector machines ...\n",
              "005eval    Driver identification using histogram and neur...\n",
              "                                 ...                        \n",
              "147eval    Utilization of Sewage Sludge from Beverage Ind...\n",
              "148eval    Development of a Gateway for OpenADR-ECHONET L...\n",
              "149eval    Effect of solution treatment and precipitation...\n",
              "150eval    An effect-analysis method for species-dependen...\n",
              "151eval    Very Short-Term Solar Power Forecast using Dat...\n",
              "Name: text, Length: 151, dtype: object"
            ]
          },
          "execution_count": 23,
          "metadata": {},
          "output_type": "execute_result"
        }
      ],
      "source": [
        "kaggle_test_data[\"text\"]"
      ]
    },
    {
      "cell_type": "markdown",
      "metadata": {
        "id": "6sxIxZvvYVIJ"
      },
      "source": [
        "Dataset Preparation"
      ]
    },
    {
      "cell_type": "code",
      "execution_count": 24,
      "metadata": {
        "id": "pekCZ4XKQFt7"
      },
      "outputs": [],
      "source": [
        "train_dataset = CustomDataset(train_texts, train_labels, tokenizer)\n",
        "val_dataset = CustomDataset(val_texts, val_labels, tokenizer)\n",
        "\n",
        "predictText = kaggle_test_data['text'].tolist()\n",
        "hg_kaggle_test_dataset = PredictDataset(predictText, tokenizer)\n"
      ]
    },
    {
      "cell_type": "code",
      "execution_count": 25,
      "metadata": {},
      "outputs": [
        {
          "data": {
            "text/plain": [
              "{'input_ids': tensor([  101,  4026, 17547,  2478,  3086,  2389, 13589,  1011, 15850,  2784,\n",
              "          4083,  2007,  4926,  7861,  8270,  4667,  1075, 10476, 15368,  1012,\n",
              "         13367,  1010,  2019,  9414,  5193,  2291,  1006,  2049,  1007,  2003,\n",
              "          5186,  2590,  1012,  2152, 10640,  4026, 17547,  2038,  2042,  3273,\n",
              "          1999,  2312,  1011,  4094,  6125,  1012,  2784,  4083,  4725,  2024,\n",
              "          2583,  2000, 17908,  1996,  3375,  1010,  4800,  1011,  8789,  2951,\n",
              "          2000,  3073,  1996,  2560,  4026, 17547,  7561,  1012,  2119, 13589,\n",
              "          1998, 15850, 12530, 15266,  3073,  3278, 13494,  2005,  4026, 17547,\n",
              "          1012,  6516,  1010,  2057, 16599,  1037,  5257,  1997,  2784,  4083,\n",
              "          4118,  4294,  2015,  2029,  8676,  1997,  9530,  6767,  7630,  3508,\n",
              "          2389, 15756,  6125,  1006, 13229,  1007,  1998,  2146,  2460,  1011,\n",
              "          2744,  3638,  1006,  1048,  3367,  2213,  1007,  2000, 17908, 13589,\n",
              "          1998, 15850,  2838,  1998, 16014,  4026,  3177,  1999,  3674,  4084,\n",
              "          1012,  2019,  4926,  2038,  1037,  2350,  4254,  2006,  2334,  4026,\n",
              "         20176,  1012,  2057, 12666,  2019,  8285,  2368, 16044,  2099,  2007,\n",
              "          1037, 18847, 25009,  3086,  7337,  2000,  4553,  4926,  7861,  8270,\n",
              "          4667,  7953,  2000, 11487,  9223, 13436,  1998,  2037,  3896,  1012,\n",
              "          2019,  7551,  2001,  4146,  2006,  2048,  2951, 13462,  2015,  1997,\n",
              "         10292,  2563,  1998,  7273, 11720,  2015,  1012,  3463,  3662,  2008,\n",
              "         13589,  1998, 15850,  2838,  2064,  9611,  3471,  2012,  2367,  5269,\n",
              "          1999,  1996,  4026,  2897,  2478,  1996,  2784,  4083,  4118,  2000,\n",
              "          5335,  4026, 17547,  2836,  1012,  7297,  1010,  1037, 18847, 25009,\n",
              "          3086,  7337,  2478,  2019,  8285,  2368, 16044,  2099,  2000,  4553,\n",
              "          2129, 13436,  4254,  2006,  4026, 20176,  2064, 18478,  1996, 17547,\n",
              "          7561,  1012,   102,     0,     0,     0,     0,     0,     0,     0,\n",
              "             0,     0,     0,     0,     0,     0,     0,     0,     0,     0,\n",
              "             0,     0,     0,     0,     0,     0,     0,     0,     0,     0,\n",
              "             0,     0,     0,     0,     0,     0,     0,     0,     0,     0,\n",
              "             0,     0,     0,     0,     0,     0,     0,     0,     0,     0,\n",
              "             0,     0,     0,     0,     0,     0,     0,     0,     0,     0,\n",
              "             0,     0,     0,     0,     0,     0,     0,     0,     0,     0,\n",
              "             0,     0,     0,     0,     0,     0,     0,     0,     0,     0,\n",
              "             0,     0,     0,     0,     0,     0,     0,     0,     0,     0,\n",
              "             0,     0,     0,     0,     0,     0,     0,     0,     0,     0,\n",
              "             0,     0,     0,     0,     0,     0,     0,     0,     0,     0,\n",
              "             0,     0,     0,     0,     0,     0,     0,     0,     0,     0,\n",
              "             0,     0,     0,     0,     0,     0,     0,     0,     0,     0,\n",
              "             0,     0,     0,     0,     0,     0,     0,     0,     0,     0,\n",
              "             0,     0,     0,     0,     0,     0,     0,     0,     0,     0,\n",
              "             0,     0,     0,     0,     0,     0,     0,     0,     0,     0,\n",
              "             0,     0,     0,     0,     0,     0,     0,     0,     0,     0,\n",
              "             0,     0,     0,     0,     0,     0,     0,     0,     0,     0,\n",
              "             0,     0,     0,     0,     0,     0,     0,     0,     0,     0,\n",
              "             0,     0,     0,     0,     0,     0,     0,     0,     0,     0,\n",
              "             0,     0,     0,     0,     0,     0,     0,     0,     0,     0,\n",
              "             0,     0,     0,     0,     0,     0,     0,     0,     0,     0,\n",
              "             0,     0,     0,     0,     0,     0,     0,     0,     0,     0,\n",
              "             0,     0,     0,     0,     0,     0,     0,     0,     0,     0,\n",
              "             0,     0,     0,     0,     0,     0,     0,     0,     0,     0,\n",
              "             0,     0,     0,     0,     0,     0,     0,     0,     0,     0,\n",
              "             0,     0,     0,     0,     0,     0,     0,     0,     0,     0,\n",
              "             0,     0]),\n",
              " 'attention_mask': tensor([1, 1, 1, 1, 1, 1, 1, 1, 1, 1, 1, 1, 1, 1, 1, 1, 1, 1, 1, 1, 1, 1, 1, 1,\n",
              "         1, 1, 1, 1, 1, 1, 1, 1, 1, 1, 1, 1, 1, 1, 1, 1, 1, 1, 1, 1, 1, 1, 1, 1,\n",
              "         1, 1, 1, 1, 1, 1, 1, 1, 1, 1, 1, 1, 1, 1, 1, 1, 1, 1, 1, 1, 1, 1, 1, 1,\n",
              "         1, 1, 1, 1, 1, 1, 1, 1, 1, 1, 1, 1, 1, 1, 1, 1, 1, 1, 1, 1, 1, 1, 1, 1,\n",
              "         1, 1, 1, 1, 1, 1, 1, 1, 1, 1, 1, 1, 1, 1, 1, 1, 1, 1, 1, 1, 1, 1, 1, 1,\n",
              "         1, 1, 1, 1, 1, 1, 1, 1, 1, 1, 1, 1, 1, 1, 1, 1, 1, 1, 1, 1, 1, 1, 1, 1,\n",
              "         1, 1, 1, 1, 1, 1, 1, 1, 1, 1, 1, 1, 1, 1, 1, 1, 1, 1, 1, 1, 1, 1, 1, 1,\n",
              "         1, 1, 1, 1, 1, 1, 1, 1, 1, 1, 1, 1, 1, 1, 1, 1, 1, 1, 1, 1, 1, 1, 1, 1,\n",
              "         1, 1, 1, 1, 1, 1, 1, 1, 1, 1, 1, 1, 1, 1, 1, 1, 1, 1, 1, 1, 1, 1, 1, 1,\n",
              "         1, 1, 1, 1, 1, 1, 1, 1, 1, 1, 1, 1, 1, 1, 1, 1, 1, 1, 1, 1, 1, 1, 1, 1,\n",
              "         1, 1, 1, 0, 0, 0, 0, 0, 0, 0, 0, 0, 0, 0, 0, 0, 0, 0, 0, 0, 0, 0, 0, 0,\n",
              "         0, 0, 0, 0, 0, 0, 0, 0, 0, 0, 0, 0, 0, 0, 0, 0, 0, 0, 0, 0, 0, 0, 0, 0,\n",
              "         0, 0, 0, 0, 0, 0, 0, 0, 0, 0, 0, 0, 0, 0, 0, 0, 0, 0, 0, 0, 0, 0, 0, 0,\n",
              "         0, 0, 0, 0, 0, 0, 0, 0, 0, 0, 0, 0, 0, 0, 0, 0, 0, 0, 0, 0, 0, 0, 0, 0,\n",
              "         0, 0, 0, 0, 0, 0, 0, 0, 0, 0, 0, 0, 0, 0, 0, 0, 0, 0, 0, 0, 0, 0, 0, 0,\n",
              "         0, 0, 0, 0, 0, 0, 0, 0, 0, 0, 0, 0, 0, 0, 0, 0, 0, 0, 0, 0, 0, 0, 0, 0,\n",
              "         0, 0, 0, 0, 0, 0, 0, 0, 0, 0, 0, 0, 0, 0, 0, 0, 0, 0, 0, 0, 0, 0, 0, 0,\n",
              "         0, 0, 0, 0, 0, 0, 0, 0, 0, 0, 0, 0, 0, 0, 0, 0, 0, 0, 0, 0, 0, 0, 0, 0,\n",
              "         0, 0, 0, 0, 0, 0, 0, 0, 0, 0, 0, 0, 0, 0, 0, 0, 0, 0, 0, 0, 0, 0, 0, 0,\n",
              "         0, 0, 0, 0, 0, 0, 0, 0, 0, 0, 0, 0, 0, 0, 0, 0, 0, 0, 0, 0, 0, 0, 0, 0,\n",
              "         0, 0, 0, 0, 0, 0, 0, 0, 0, 0, 0, 0, 0, 0, 0, 0, 0, 0, 0, 0, 0, 0, 0, 0,\n",
              "         0, 0, 0, 0, 0, 0, 0, 0]),\n",
              " 'labels': tensor([0., 1., 0., 0., 1., 0., 1., 0., 0., 0., 0., 0., 0., 0., 0., 0., 0., 1.])}"
            ]
          },
          "execution_count": 25,
          "metadata": {},
          "output_type": "execute_result"
        }
      ],
      "source": [
        "train_dataset[0]"
      ]
    },
    {
      "cell_type": "code",
      "execution_count": 26,
      "metadata": {},
      "outputs": [],
      "source": [
        "import torch\n",
        "import numpy as np\n",
        "\n",
        "metrics = evaluate.combine([\"accuracy\", \"f1\", \"precision\", \"recall\"])\n",
        "\n",
        "def compute_metrics(eval_pred, threshold=0.25):\n",
        "    predictions, labels = eval_pred\n",
        "    predictions = torch.sigmoid(torch.tensor(predictions))\n",
        "    predictions = (predictions > threshold).int().reshape(-1).numpy()\n",
        "    labels = labels.reshape(-1).astype(int)\n",
        "    return metrics.compute(predictions=predictions, references=labels)\n"
      ]
    },
    {
      "cell_type": "code",
      "execution_count": 27,
      "metadata": {},
      "outputs": [
        {
          "name": "stderr",
          "output_type": "stream",
          "text": [
            "/Users/premikayutinatorn/Library/Python/3.9/lib/python/site-packages/accelerate/accelerator.py:432: FutureWarning: Passing the following arguments to `Accelerator` is deprecated and will be removed in version 1.0 of Accelerate: dict_keys(['dispatch_batches', 'split_batches', 'even_batches', 'use_seedable_sampler']). Please pass an `accelerate.DataLoaderConfiguration` instead: \n",
            "dataloader_config = DataLoaderConfiguration(dispatch_batches=None, split_batches=False, even_batches=True, use_seedable_sampler=True)\n",
            "  warnings.warn(\n"
          ]
        }
      ],
      "source": [
        "# Training Arguments\n",
        "from transformers import TrainingArguments, Trainer\n",
        "\n",
        "args = TrainingArguments(\n",
        "    per_device_train_batch_size=16,\n",
        "    per_device_eval_batch_size=16,\n",
        "    output_dir = './sentiment_transfer_learning_transformer/',\n",
        "    num_train_epochs= 20,\n",
        "    learning_rate= 7e-5,\n",
        "    save_steps=1000,\n",
        "    save_total_limit=2,\n",
        ")\n",
        "\n",
        "trainer = Trainer(model=model,\n",
        "                  args=args,\n",
        "                  train_dataset=train_dataset,\n",
        "                  eval_dataset = val_dataset,\n",
        "                  compute_metrics=compute_metrics\n",
        "                )"
      ]
    },
    {
      "cell_type": "code",
      "execution_count": 28,
      "metadata": {},
      "outputs": [
        {
          "name": "stderr",
          "output_type": "stream",
          "text": [
            " 93%|█████████▎| 500/540 [26:45<02:14,  3.37s/it]"
          ]
        },
        {
          "name": "stdout",
          "output_type": "stream",
          "text": [
            "{'loss': 0.1987, 'grad_norm': 0.27672135829925537, 'learning_rate': 5.185185185185184e-06, 'epoch': 18.52}\n"
          ]
        },
        {
          "name": "stderr",
          "output_type": "stream",
          "text": [
            "100%|██████████| 540/540 [28:37<00:00,  3.18s/it]"
          ]
        },
        {
          "name": "stdout",
          "output_type": "stream",
          "text": [
            "{'train_runtime': 1717.6072, 'train_samples_per_second': 5.019, 'train_steps_per_second': 0.314, 'train_loss': 0.18937459742581403, 'epoch': 20.0}\n"
          ]
        },
        {
          "name": "stderr",
          "output_type": "stream",
          "text": [
            "\n"
          ]
        },
        {
          "data": {
            "text/plain": [
              "TrainOutput(global_step=540, training_loss=0.18937459742581403, metrics={'train_runtime': 1717.6072, 'train_samples_per_second': 5.019, 'train_steps_per_second': 0.314, 'train_loss': 0.18937459742581403, 'epoch': 20.0})"
            ]
          },
          "execution_count": 28,
          "metadata": {},
          "output_type": "execute_result"
        }
      ],
      "source": [
        "trainer.train()"
      ]
    },
    {
      "cell_type": "code",
      "execution_count": 29,
      "metadata": {},
      "outputs": [
        {
          "name": "stderr",
          "output_type": "stream",
          "text": [
            "100%|██████████| 2/2 [00:00<00:00,  3.74it/s]\n"
          ]
        },
        {
          "data": {
            "text/plain": [
              "{'eval_loss': 0.2783094644546509,\n",
              " 'eval_accuracy': 0.8743961352657005,\n",
              " 'eval_f1': 0.6666666666666666,\n",
              " 'eval_precision': 0.6265060240963856,\n",
              " 'eval_recall': 0.7123287671232876,\n",
              " 'eval_runtime': 1.4619,\n",
              " 'eval_samples_per_second': 15.732,\n",
              " 'eval_steps_per_second': 1.368,\n",
              " 'epoch': 20.0}"
            ]
          },
          "execution_count": 29,
          "metadata": {},
          "output_type": "execute_result"
        }
      ],
      "source": [
        "trainer.evaluate()"
      ]
    },
    {
      "cell_type": "code",
      "execution_count": 30,
      "metadata": {},
      "outputs": [
        {
          "name": "stderr",
          "output_type": "stream",
          "text": [
            "100%|██████████| 10/10 [00:07<00:00,  1.30it/s]"
          ]
        },
        {
          "name": "stdout",
          "output_type": "stream",
          "text": [
            "PredictionOutput(predictions=array([[-6.5067363 , -4.091949  , -6.149898  , ..., -4.9803066 ,\n",
            "        -2.3439193 , -6.640198  ],\n",
            "       [-3.3513722 , -3.3810325 , -2.427452  , ...,  1.0864809 ,\n",
            "        -2.0086813 , -3.089976  ],\n",
            "       [-4.393311  ,  0.5097013 , -5.480092  , ..., -3.8833954 ,\n",
            "        -5.517521  , -5.951025  ],\n",
            "       ...,\n",
            "       [-5.259167  , -5.8582997 , -4.020052  , ..., -5.5689774 ,\n",
            "        -1.8733624 , -5.124386  ],\n",
            "       [-4.227424  , -0.81715614, -5.3468013 , ..., -4.801284  ,\n",
            "        -4.8084598 , -4.6802025 ],\n",
            "       [-3.398658  , -2.5219204 , -2.8232985 , ..., -3.754766  ,\n",
            "        -2.5146346 , -1.8701813 ]], dtype=float32), label_ids=None, metrics={'test_runtime': 8.6017, 'test_samples_per_second': 17.555, 'test_steps_per_second': 1.163})\n"
          ]
        },
        {
          "name": "stderr",
          "output_type": "stream",
          "text": [
            "\n"
          ]
        }
      ],
      "source": [
        "y_test_predict = trainer.predict(hg_kaggle_test_dataset)\n",
        "print(y_test_predict)"
      ]
    },
    {
      "cell_type": "code",
      "execution_count": 31,
      "metadata": {},
      "outputs": [
        {
          "data": {
            "text/plain": [
              "array([[-6.5067363 , -4.091949  , -6.149898  ,  0.03918166, -3.1426625 ,\n",
              "        -7.0071917 ,  2.4264336 , -4.8676805 , -4.121815  , -4.7118845 ,\n",
              "        -4.37934   , -4.744832  , -3.6363046 , -4.121567  , -5.313007  ,\n",
              "        -4.9803066 , -2.3439193 , -6.640198  ],\n",
              "       [-3.3513722 , -3.3810325 , -2.427452  ,  2.699453  , -4.0098753 ,\n",
              "        -4.6978583 , -0.58111805, -1.9748304 , -2.643843  , -0.85790586,\n",
              "        -3.178998  ,  4.117632  ,  2.2094984 , -1.8726597 ,  0.288822  ,\n",
              "         1.0864809 , -2.0086813 , -3.089976  ],\n",
              "       [-4.393311  ,  0.5097013 , -5.480092  ,  1.6881307 , -3.5434852 ,\n",
              "        -4.7906413 , -3.227446  , -3.9471576 , -5.1206336 , -4.2978005 ,\n",
              "        -3.7984552 , -1.3181756 , -2.083273  , -4.9335217 , -4.9607973 ,\n",
              "        -3.8833954 , -5.517521  , -5.951025  ],\n",
              "       [-7.009564  , -4.93698   , -5.1033206 , -5.147989  ,  2.4783893 ,\n",
              "        -3.950112  ,  0.1714337 , -5.409963  , -2.57832   , -6.2833104 ,\n",
              "         1.5390373 , -7.094262  , -5.08216   , -4.905361  , -7.7296968 ,\n",
              "        -5.4585376 , -5.382036  , -5.407539  ],\n",
              "       [-5.1840415 , -3.9332242 , -4.048011  , -6.231955  ,  3.3681595 ,\n",
              "        -1.6102142 , -2.4885232 , -5.1135125 , -2.0753    , -5.1569242 ,\n",
              "        -4.1703405 , -4.2788606 , -4.9337583 , -5.123257  , -7.078996  ,\n",
              "        -4.5668635 , -4.5322766 , -2.545345  ]], dtype=float32)"
            ]
          },
          "execution_count": 31,
          "metadata": {},
          "output_type": "execute_result"
        }
      ],
      "source": [
        "# Predicted logits\n",
        "y_test_logits = y_test_predict.predictions\n",
        "\n",
        "# First 5 predicted probabilities\n",
        "y_test_logits[:5]"
      ]
    },
    {
      "cell_type": "code",
      "execution_count": 32,
      "metadata": {},
      "outputs": [
        {
          "name": "stdout",
          "output_type": "stream",
          "text": [
            "tensor([[0.0015, 0.0164, 0.0021,  ..., 0.0068, 0.0876, 0.0013],\n",
            "        [0.0339, 0.0329, 0.0811,  ..., 0.7477, 0.1183, 0.0435],\n",
            "        [0.0122, 0.6247, 0.0042,  ..., 0.0202, 0.0040, 0.0026],\n",
            "        ...,\n",
            "        [0.0052, 0.0028, 0.0176,  ..., 0.0038, 0.1332, 0.0059],\n",
            "        [0.0144, 0.3064, 0.0047,  ..., 0.0082, 0.0081, 0.0092],\n",
            "        [0.0323, 0.0743, 0.0561,  ..., 0.0229, 0.0748, 0.1335]])\n",
            "[[0. 0. 0. ... 0. 0. 0.]\n",
            " [0. 0. 0. ... 1. 0. 0.]\n",
            " [0. 1. 0. ... 0. 0. 0.]\n",
            " ...\n",
            " [0. 0. 0. ... 0. 0. 0.]\n",
            " [0. 1. 0. ... 0. 0. 0.]\n",
            " [0. 0. 0. ... 0. 0. 0.]]\n"
          ]
        }
      ],
      "source": [
        "outputs = torch.tensor(y_test_logits)\n",
        "probs = torch.sigmoid(outputs)\n",
        "preds = np.zeros(probs.shape)\n",
        "print(probs)\n",
        "preds[np.where(probs>=0.25)] = 1\n",
        "\n",
        "multilabel.classes_\n",
        "print(preds)"
      ]
    },
    {
      "cell_type": "code",
      "execution_count": 33,
      "metadata": {},
      "outputs": [
        {
          "name": "stdout",
          "output_type": "stream",
          "text": [
            "          id\n",
            "0    001eval\n",
            "1    002eval\n",
            "2    003eval\n",
            "3    004eval\n",
            "4    005eval\n",
            "..       ...\n",
            "146  147eval\n",
            "147  148eval\n",
            "148  149eval\n",
            "149  150eval\n",
            "150  151eval\n",
            "\n",
            "[151 rows x 1 columns]\n"
          ]
        }
      ],
      "source": [
        "ids = list(kaggle_test_df.keys())\n",
        "\n",
        "first_column = pd.DataFrame(ids, columns=['id'])\n",
        "print(first_column)"
      ]
    },
    {
      "cell_type": "code",
      "execution_count": 34,
      "metadata": {},
      "outputs": [
        {
          "name": "stdout",
          "output_type": "stream",
          "text": [
            "          id   CE  ENV  BME   PE  METAL   ME   EE  CPE  OPTIC  NANO  CHE  \\\n",
            "0    001eval  0.0  0.0  0.0  0.0    0.0  0.0  1.0  0.0    0.0   0.0  1.0   \n",
            "1    002eval  0.0  0.0  0.0  0.0    0.0  1.0  1.0  0.0    1.0   1.0  1.0   \n",
            "2    003eval  0.0  0.0  1.0  0.0    0.0  0.0  0.0  0.0    0.0   0.0  1.0   \n",
            "3    004eval  0.0  0.0  0.0  0.0    0.0  0.0  1.0  1.0    0.0   0.0  0.0   \n",
            "4    005eval  0.0  0.0  0.0  0.0    0.0  0.0  0.0  1.0    0.0   0.0  0.0   \n",
            "..       ...  ...  ...  ...  ...    ...  ...  ...  ...    ...   ...  ...   \n",
            "146  147eval  0.0  1.0  0.0  1.0    0.0  0.0  0.0  0.0    0.0   0.0  1.0   \n",
            "147  148eval  0.0  0.0  0.0  0.0    0.0  0.0  1.0  1.0    0.0   0.0  0.0   \n",
            "148  149eval  0.0  0.0  0.0  0.0    1.0  1.0  0.0  0.0    0.0   0.0  1.0   \n",
            "149  150eval  0.0  0.0  1.0  0.0    0.0  0.0  0.0  0.0    0.0   0.0  1.0   \n",
            "150  151eval  0.0  1.0  0.0  0.0    0.0  0.0  1.0  0.0    0.0   0.0  0.0   \n",
            "\n",
            "     MATENG  AGRI  EDU   IE  SAFETY  MATH  MATSCI  \n",
            "0       0.0   0.0  0.0  0.0     0.0   0.0     0.0  \n",
            "1       1.0   0.0  0.0  0.0     0.0   0.0     1.0  \n",
            "2       0.0   0.0  0.0  0.0     0.0   0.0     0.0  \n",
            "3       0.0   0.0  0.0  0.0     0.0   1.0     0.0  \n",
            "4       0.0   0.0  0.0  0.0     0.0   0.0     0.0  \n",
            "..      ...   ...  ...  ...     ...   ...     ...  \n",
            "146     1.0   1.0  0.0  0.0     0.0   0.0     0.0  \n",
            "147     0.0   0.0  0.0  0.0     0.0   0.0     0.0  \n",
            "148     0.0   0.0  0.0  0.0     0.0   0.0     1.0  \n",
            "149     0.0   0.0  0.0  0.0     0.0   0.0     0.0  \n",
            "150     0.0   0.0  0.0  0.0     0.0   0.0     0.0  \n",
            "\n",
            "[151 rows x 19 columns]\n"
          ]
        }
      ],
      "source": [
        "columns = multilabel.classes_\n",
        "\n",
        "predicted_df = pd.DataFrame(preds, columns=columns)\n",
        "\n",
        "# Reordered columns\n",
        "new_column_order = [\"CE\", \"ENV\", \"BME\", \"PE\", \"METAL\", \"ME\", \"EE\", \"CPE\", \"OPTIC\", \"NANO\", \"CHE\", \"MATENG\", \"AGRI\", \"EDU\", \"IE\", \"SAFETY\", \"MATH\", \"MATSCI\"]\n",
        "\n",
        "new_df = pd.DataFrame(columns=new_column_order)\n",
        "\n",
        "for column in new_column_order:\n",
        "    new_df[column] = predicted_df[column]\n",
        "\n",
        "result = pd.concat([first_column, new_df], axis=1)\n",
        "print(result)\n",
        "\n",
        "result.to_csv('test.csv' , index=False)\n"
      ]
    },
    {
      "cell_type": "code",
      "execution_count": 35,
      "metadata": {},
      "outputs": [],
      "source": [
        "import os\n",
        "from datetime import datetime\n",
        "\n",
        "# Define a timestamp for the current time\n",
        "timestamp = datetime.now().strftime(\"%Y-%m-%d_%H-%M-%S\")\n",
        "\n",
        "# Define the directory for saving the model and tokenizer with timestamp\n",
        "output_dir = f'./sentiment_transfer_learning_transformer/{timestamp}/'\n",
        "\n",
        "# Create the directory if it does not exist\n",
        "os.makedirs(output_dir, exist_ok=True)\n",
        "\n",
        "# Save tokenizer\n",
        "tokenizer.save_pretrained(output_dir)\n",
        "\n",
        "# Save model\n",
        "trainer.save_model(output_dir)\n"
      ]
    }
  ],
  "metadata": {
    "colab": {
      "provenance": []
    },
    "kernelspec": {
      "display_name": "Python 3",
      "name": "python3"
    },
    "language_info": {
      "codemirror_mode": {
        "name": "ipython",
        "version": 3
      },
      "file_extension": ".py",
      "mimetype": "text/x-python",
      "name": "python",
      "nbconvert_exporter": "python",
      "pygments_lexer": "ipython3",
      "version": "3.11.7"
    },
    "widgets": {
      "application/vnd.jupyter.widget-state+json": {
        "00dc7fa423d54003ae225542e491eebc": {
          "model_module": "@jupyter-widgets/controls",
          "model_module_version": "1.5.0",
          "model_name": "DescriptionStyleModel",
          "state": {
            "_model_module": "@jupyter-widgets/controls",
            "_model_module_version": "1.5.0",
            "_model_name": "DescriptionStyleModel",
            "_view_count": null,
            "_view_module": "@jupyter-widgets/base",
            "_view_module_version": "1.2.0",
            "_view_name": "StyleView",
            "description_width": ""
          }
        },
        "114adef621ab492db2bac73808c3a9ed": {
          "model_module": "@jupyter-widgets/controls",
          "model_module_version": "1.5.0",
          "model_name": "ProgressStyleModel",
          "state": {
            "_model_module": "@jupyter-widgets/controls",
            "_model_module_version": "1.5.0",
            "_model_name": "ProgressStyleModel",
            "_view_count": null,
            "_view_module": "@jupyter-widgets/base",
            "_view_module_version": "1.2.0",
            "_view_name": "StyleView",
            "bar_color": null,
            "description_width": ""
          }
        },
        "2bee3c0a3a404474a82ded8e1d2adefd": {
          "model_module": "@jupyter-widgets/base",
          "model_module_version": "1.2.0",
          "model_name": "LayoutModel",
          "state": {
            "_model_module": "@jupyter-widgets/base",
            "_model_module_version": "1.2.0",
            "_model_name": "LayoutModel",
            "_view_count": null,
            "_view_module": "@jupyter-widgets/base",
            "_view_module_version": "1.2.0",
            "_view_name": "LayoutView",
            "align_content": null,
            "align_items": null,
            "align_self": null,
            "border": null,
            "bottom": null,
            "display": null,
            "flex": null,
            "flex_flow": null,
            "grid_area": null,
            "grid_auto_columns": null,
            "grid_auto_flow": null,
            "grid_auto_rows": null,
            "grid_column": null,
            "grid_gap": null,
            "grid_row": null,
            "grid_template_areas": null,
            "grid_template_columns": null,
            "grid_template_rows": null,
            "height": null,
            "justify_content": null,
            "justify_items": null,
            "left": null,
            "margin": null,
            "max_height": null,
            "max_width": null,
            "min_height": null,
            "min_width": null,
            "object_fit": null,
            "object_position": null,
            "order": null,
            "overflow": null,
            "overflow_x": null,
            "overflow_y": null,
            "padding": null,
            "right": null,
            "top": null,
            "visibility": null,
            "width": null
          }
        },
        "3392c76fa78a48e99b7d7d3ebdb1909c": {
          "model_module": "@jupyter-widgets/controls",
          "model_module_version": "1.5.0",
          "model_name": "DescriptionStyleModel",
          "state": {
            "_model_module": "@jupyter-widgets/controls",
            "_model_module_version": "1.5.0",
            "_model_name": "DescriptionStyleModel",
            "_view_count": null,
            "_view_module": "@jupyter-widgets/base",
            "_view_module_version": "1.2.0",
            "_view_name": "StyleView",
            "description_width": ""
          }
        },
        "3c8282886e694b3e8bf13ca007494891": {
          "model_module": "@jupyter-widgets/base",
          "model_module_version": "1.2.0",
          "model_name": "LayoutModel",
          "state": {
            "_model_module": "@jupyter-widgets/base",
            "_model_module_version": "1.2.0",
            "_model_name": "LayoutModel",
            "_view_count": null,
            "_view_module": "@jupyter-widgets/base",
            "_view_module_version": "1.2.0",
            "_view_name": "LayoutView",
            "align_content": null,
            "align_items": null,
            "align_self": null,
            "border": null,
            "bottom": null,
            "display": null,
            "flex": null,
            "flex_flow": null,
            "grid_area": null,
            "grid_auto_columns": null,
            "grid_auto_flow": null,
            "grid_auto_rows": null,
            "grid_column": null,
            "grid_gap": null,
            "grid_row": null,
            "grid_template_areas": null,
            "grid_template_columns": null,
            "grid_template_rows": null,
            "height": null,
            "justify_content": null,
            "justify_items": null,
            "left": null,
            "margin": null,
            "max_height": null,
            "max_width": null,
            "min_height": null,
            "min_width": null,
            "object_fit": null,
            "object_position": null,
            "order": null,
            "overflow": null,
            "overflow_x": null,
            "overflow_y": null,
            "padding": null,
            "right": null,
            "top": null,
            "visibility": null,
            "width": null
          }
        },
        "3d48a7145c554d6b9a3e8c2083e11b27": {
          "model_module": "@jupyter-widgets/controls",
          "model_module_version": "1.5.0",
          "model_name": "HBoxModel",
          "state": {
            "_dom_classes": [],
            "_model_module": "@jupyter-widgets/controls",
            "_model_module_version": "1.5.0",
            "_model_name": "HBoxModel",
            "_view_count": null,
            "_view_module": "@jupyter-widgets/controls",
            "_view_module_version": "1.5.0",
            "_view_name": "HBoxView",
            "box_style": "",
            "children": [
              "IPY_MODEL_bf928f1c07914ddf8e8826f199e33bcd",
              "IPY_MODEL_da44d3c9b52c4f3faf28a01cbbececa2",
              "IPY_MODEL_4901524311894dc4a94dc9a79ba0a8ab"
            ],
            "layout": "IPY_MODEL_5822a6d98cdc4da1ba0e4234ad113a53"
          }
        },
        "3f661f159fe644a48f5c01e3edde62cb": {
          "model_module": "@jupyter-widgets/controls",
          "model_module_version": "1.5.0",
          "model_name": "HTMLModel",
          "state": {
            "_dom_classes": [],
            "_model_module": "@jupyter-widgets/controls",
            "_model_module_version": "1.5.0",
            "_model_name": "HTMLModel",
            "_view_count": null,
            "_view_module": "@jupyter-widgets/controls",
            "_view_module_version": "1.5.0",
            "_view_name": "HTMLView",
            "description": "",
            "description_tooltip": null,
            "layout": "IPY_MODEL_85d2ad1ccdd841829b84b5273e050071",
            "placeholder": "​",
            "style": "IPY_MODEL_00dc7fa423d54003ae225542e491eebc",
            "value": "Downloading builder script: 100%"
          }
        },
        "40b89d2e069947849ba48827fe5e2c03": {
          "model_module": "@jupyter-widgets/controls",
          "model_module_version": "1.5.0",
          "model_name": "DescriptionStyleModel",
          "state": {
            "_model_module": "@jupyter-widgets/controls",
            "_model_module_version": "1.5.0",
            "_model_name": "DescriptionStyleModel",
            "_view_count": null,
            "_view_module": "@jupyter-widgets/base",
            "_view_module_version": "1.2.0",
            "_view_name": "StyleView",
            "description_width": ""
          }
        },
        "4290748301ed46bfa2d5d254a18b5d33": {
          "model_module": "@jupyter-widgets/controls",
          "model_module_version": "1.5.0",
          "model_name": "DescriptionStyleModel",
          "state": {
            "_model_module": "@jupyter-widgets/controls",
            "_model_module_version": "1.5.0",
            "_model_name": "DescriptionStyleModel",
            "_view_count": null,
            "_view_module": "@jupyter-widgets/base",
            "_view_module_version": "1.2.0",
            "_view_name": "StyleView",
            "description_width": ""
          }
        },
        "478611b453a84942be96181ddf8021d2": {
          "model_module": "@jupyter-widgets/controls",
          "model_module_version": "1.5.0",
          "model_name": "HTMLModel",
          "state": {
            "_dom_classes": [],
            "_model_module": "@jupyter-widgets/controls",
            "_model_module_version": "1.5.0",
            "_model_name": "HTMLModel",
            "_view_count": null,
            "_view_module": "@jupyter-widgets/controls",
            "_view_module_version": "1.5.0",
            "_view_name": "HTMLView",
            "description": "",
            "description_tooltip": null,
            "layout": "IPY_MODEL_c11aba4ef3a5406091b80adc0750753c",
            "placeholder": "​",
            "style": "IPY_MODEL_3392c76fa78a48e99b7d7d3ebdb1909c",
            "value": "Map: 100%"
          }
        },
        "4901524311894dc4a94dc9a79ba0a8ab": {
          "model_module": "@jupyter-widgets/controls",
          "model_module_version": "1.5.0",
          "model_name": "HTMLModel",
          "state": {
            "_dom_classes": [],
            "_model_module": "@jupyter-widgets/controls",
            "_model_module_version": "1.5.0",
            "_model_name": "HTMLModel",
            "_view_count": null,
            "_view_module": "@jupyter-widgets/controls",
            "_view_module_version": "1.5.0",
            "_view_name": "HTMLView",
            "description": "",
            "description_tooltip": null,
            "layout": "IPY_MODEL_c7eed47b98384dae9da69ec833a0160b",
            "placeholder": "​",
            "style": "IPY_MODEL_adc79107c42b44619a32e7c985969681",
            "value": " 536/536 [00:00&lt;00:00, 1024.33 examples/s]"
          }
        },
        "51894a4df93b4815a570a14fff3c97ba": {
          "model_module": "@jupyter-widgets/controls",
          "model_module_version": "1.5.0",
          "model_name": "HTMLModel",
          "state": {
            "_dom_classes": [],
            "_model_module": "@jupyter-widgets/controls",
            "_model_module_version": "1.5.0",
            "_model_name": "HTMLModel",
            "_view_count": null,
            "_view_module": "@jupyter-widgets/controls",
            "_view_module_version": "1.5.0",
            "_view_name": "HTMLView",
            "description": "",
            "description_tooltip": null,
            "layout": "IPY_MODEL_a792fa57c2b74433a63755cd7588d9da",
            "placeholder": "​",
            "style": "IPY_MODEL_c81e7fdf943842db9737f4cf8345ac7c",
            "value": " 151/151 [00:00&lt;00:00, 612.10 examples/s]"
          }
        },
        "5822a6d98cdc4da1ba0e4234ad113a53": {
          "model_module": "@jupyter-widgets/base",
          "model_module_version": "1.2.0",
          "model_name": "LayoutModel",
          "state": {
            "_model_module": "@jupyter-widgets/base",
            "_model_module_version": "1.2.0",
            "_model_name": "LayoutModel",
            "_view_count": null,
            "_view_module": "@jupyter-widgets/base",
            "_view_module_version": "1.2.0",
            "_view_name": "LayoutView",
            "align_content": null,
            "align_items": null,
            "align_self": null,
            "border": null,
            "bottom": null,
            "display": null,
            "flex": null,
            "flex_flow": null,
            "grid_area": null,
            "grid_auto_columns": null,
            "grid_auto_flow": null,
            "grid_auto_rows": null,
            "grid_column": null,
            "grid_gap": null,
            "grid_row": null,
            "grid_template_areas": null,
            "grid_template_columns": null,
            "grid_template_rows": null,
            "height": null,
            "justify_content": null,
            "justify_items": null,
            "left": null,
            "margin": null,
            "max_height": null,
            "max_width": null,
            "min_height": null,
            "min_width": null,
            "object_fit": null,
            "object_position": null,
            "order": null,
            "overflow": null,
            "overflow_x": null,
            "overflow_y": null,
            "padding": null,
            "right": null,
            "top": null,
            "visibility": null,
            "width": null
          }
        },
        "59e0cd3ebcd9496abf9ebb5078ff459f": {
          "model_module": "@jupyter-widgets/base",
          "model_module_version": "1.2.0",
          "model_name": "LayoutModel",
          "state": {
            "_model_module": "@jupyter-widgets/base",
            "_model_module_version": "1.2.0",
            "_model_name": "LayoutModel",
            "_view_count": null,
            "_view_module": "@jupyter-widgets/base",
            "_view_module_version": "1.2.0",
            "_view_name": "LayoutView",
            "align_content": null,
            "align_items": null,
            "align_self": null,
            "border": null,
            "bottom": null,
            "display": null,
            "flex": null,
            "flex_flow": null,
            "grid_area": null,
            "grid_auto_columns": null,
            "grid_auto_flow": null,
            "grid_auto_rows": null,
            "grid_column": null,
            "grid_gap": null,
            "grid_row": null,
            "grid_template_areas": null,
            "grid_template_columns": null,
            "grid_template_rows": null,
            "height": null,
            "justify_content": null,
            "justify_items": null,
            "left": null,
            "margin": null,
            "max_height": null,
            "max_width": null,
            "min_height": null,
            "min_width": null,
            "object_fit": null,
            "object_position": null,
            "order": null,
            "overflow": null,
            "overflow_x": null,
            "overflow_y": null,
            "padding": null,
            "right": null,
            "top": null,
            "visibility": null,
            "width": null
          }
        },
        "63743b83046d463c987cc78ef51aab29": {
          "model_module": "@jupyter-widgets/controls",
          "model_module_version": "1.5.0",
          "model_name": "HTMLModel",
          "state": {
            "_dom_classes": [],
            "_model_module": "@jupyter-widgets/controls",
            "_model_module_version": "1.5.0",
            "_model_name": "HTMLModel",
            "_view_count": null,
            "_view_module": "@jupyter-widgets/controls",
            "_view_module_version": "1.5.0",
            "_view_name": "HTMLView",
            "description": "",
            "description_tooltip": null,
            "layout": "IPY_MODEL_befb93279f4c4356919e1d80754872f0",
            "placeholder": "​",
            "style": "IPY_MODEL_4290748301ed46bfa2d5d254a18b5d33",
            "value": "Map: 100%"
          }
        },
        "6c19d787bc18470babdb7522e526c155": {
          "model_module": "@jupyter-widgets/controls",
          "model_module_version": "1.5.0",
          "model_name": "ProgressStyleModel",
          "state": {
            "_model_module": "@jupyter-widgets/controls",
            "_model_module_version": "1.5.0",
            "_model_name": "ProgressStyleModel",
            "_view_count": null,
            "_view_module": "@jupyter-widgets/base",
            "_view_module_version": "1.2.0",
            "_view_name": "StyleView",
            "bar_color": null,
            "description_width": ""
          }
        },
        "726954194d464d4d99489f08e0dbe3a9": {
          "model_module": "@jupyter-widgets/controls",
          "model_module_version": "1.5.0",
          "model_name": "HTMLModel",
          "state": {
            "_dom_classes": [],
            "_model_module": "@jupyter-widgets/controls",
            "_model_module_version": "1.5.0",
            "_model_name": "HTMLModel",
            "_view_count": null,
            "_view_module": "@jupyter-widgets/controls",
            "_view_module_version": "1.5.0",
            "_view_name": "HTMLView",
            "description": "",
            "description_tooltip": null,
            "layout": "IPY_MODEL_59e0cd3ebcd9496abf9ebb5078ff459f",
            "placeholder": "​",
            "style": "IPY_MODEL_40b89d2e069947849ba48827fe5e2c03",
            "value": " 4.20k/4.20k [00:00&lt;00:00, 206kB/s]"
          }
        },
        "7a62b378574d49c89c4e1b37e959af1d": {
          "model_module": "@jupyter-widgets/controls",
          "model_module_version": "1.5.0",
          "model_name": "DescriptionStyleModel",
          "state": {
            "_model_module": "@jupyter-widgets/controls",
            "_model_module_version": "1.5.0",
            "_model_name": "DescriptionStyleModel",
            "_view_count": null,
            "_view_module": "@jupyter-widgets/base",
            "_view_module_version": "1.2.0",
            "_view_name": "StyleView",
            "description_width": ""
          }
        },
        "7c0d1f09b3ea40469ccc6799cf43cc5f": {
          "model_module": "@jupyter-widgets/base",
          "model_module_version": "1.2.0",
          "model_name": "LayoutModel",
          "state": {
            "_model_module": "@jupyter-widgets/base",
            "_model_module_version": "1.2.0",
            "_model_name": "LayoutModel",
            "_view_count": null,
            "_view_module": "@jupyter-widgets/base",
            "_view_module_version": "1.2.0",
            "_view_name": "LayoutView",
            "align_content": null,
            "align_items": null,
            "align_self": null,
            "border": null,
            "bottom": null,
            "display": null,
            "flex": null,
            "flex_flow": null,
            "grid_area": null,
            "grid_auto_columns": null,
            "grid_auto_flow": null,
            "grid_auto_rows": null,
            "grid_column": null,
            "grid_gap": null,
            "grid_row": null,
            "grid_template_areas": null,
            "grid_template_columns": null,
            "grid_template_rows": null,
            "height": null,
            "justify_content": null,
            "justify_items": null,
            "left": null,
            "margin": null,
            "max_height": null,
            "max_width": null,
            "min_height": null,
            "min_width": null,
            "object_fit": null,
            "object_position": null,
            "order": null,
            "overflow": null,
            "overflow_x": null,
            "overflow_y": null,
            "padding": null,
            "right": null,
            "top": null,
            "visibility": null,
            "width": null
          }
        },
        "829faaf0d9fb488f8c747e5780ebfec7": {
          "model_module": "@jupyter-widgets/controls",
          "model_module_version": "1.5.0",
          "model_name": "FloatProgressModel",
          "state": {
            "_dom_classes": [],
            "_model_module": "@jupyter-widgets/controls",
            "_model_module_version": "1.5.0",
            "_model_name": "FloatProgressModel",
            "_view_count": null,
            "_view_module": "@jupyter-widgets/controls",
            "_view_module_version": "1.5.0",
            "_view_name": "ProgressView",
            "bar_style": "success",
            "description": "",
            "description_tooltip": null,
            "layout": "IPY_MODEL_b0679b52d0a244a0b8772c830257b9a1",
            "max": 4203,
            "min": 0,
            "orientation": "horizontal",
            "style": "IPY_MODEL_114adef621ab492db2bac73808c3a9ed",
            "value": 4203
          }
        },
        "85d2ad1ccdd841829b84b5273e050071": {
          "model_module": "@jupyter-widgets/base",
          "model_module_version": "1.2.0",
          "model_name": "LayoutModel",
          "state": {
            "_model_module": "@jupyter-widgets/base",
            "_model_module_version": "1.2.0",
            "_model_name": "LayoutModel",
            "_view_count": null,
            "_view_module": "@jupyter-widgets/base",
            "_view_module_version": "1.2.0",
            "_view_name": "LayoutView",
            "align_content": null,
            "align_items": null,
            "align_self": null,
            "border": null,
            "bottom": null,
            "display": null,
            "flex": null,
            "flex_flow": null,
            "grid_area": null,
            "grid_auto_columns": null,
            "grid_auto_flow": null,
            "grid_auto_rows": null,
            "grid_column": null,
            "grid_gap": null,
            "grid_row": null,
            "grid_template_areas": null,
            "grid_template_columns": null,
            "grid_template_rows": null,
            "height": null,
            "justify_content": null,
            "justify_items": null,
            "left": null,
            "margin": null,
            "max_height": null,
            "max_width": null,
            "min_height": null,
            "min_width": null,
            "object_fit": null,
            "object_position": null,
            "order": null,
            "overflow": null,
            "overflow_x": null,
            "overflow_y": null,
            "padding": null,
            "right": null,
            "top": null,
            "visibility": null,
            "width": null
          }
        },
        "9348959a2cc340639932f997fc7c14b0": {
          "model_module": "@jupyter-widgets/controls",
          "model_module_version": "1.5.0",
          "model_name": "ProgressStyleModel",
          "state": {
            "_model_module": "@jupyter-widgets/controls",
            "_model_module_version": "1.5.0",
            "_model_name": "ProgressStyleModel",
            "_view_count": null,
            "_view_module": "@jupyter-widgets/base",
            "_view_module_version": "1.2.0",
            "_view_name": "StyleView",
            "bar_color": null,
            "description_width": ""
          }
        },
        "94a6918f061844d084af073fb856b853": {
          "model_module": "@jupyter-widgets/controls",
          "model_module_version": "1.5.0",
          "model_name": "HTMLModel",
          "state": {
            "_dom_classes": [],
            "_model_module": "@jupyter-widgets/controls",
            "_model_module_version": "1.5.0",
            "_model_name": "HTMLModel",
            "_view_count": null,
            "_view_module": "@jupyter-widgets/controls",
            "_view_module_version": "1.5.0",
            "_view_name": "HTMLView",
            "description": "",
            "description_tooltip": null,
            "layout": "IPY_MODEL_2bee3c0a3a404474a82ded8e1d2adefd",
            "placeholder": "​",
            "style": "IPY_MODEL_7a62b378574d49c89c4e1b37e959af1d",
            "value": " 802/802 [00:00&lt;00:00, 2713.20 examples/s]"
          }
        },
        "9b9fc36848cd418491a825075b4254bb": {
          "model_module": "@jupyter-widgets/controls",
          "model_module_version": "1.5.0",
          "model_name": "ProgressStyleModel",
          "state": {
            "_model_module": "@jupyter-widgets/controls",
            "_model_module_version": "1.5.0",
            "_model_name": "ProgressStyleModel",
            "_view_count": null,
            "_view_module": "@jupyter-widgets/base",
            "_view_module_version": "1.2.0",
            "_view_name": "StyleView",
            "bar_color": null,
            "description_width": ""
          }
        },
        "9c520dff2ce5482385a04a6752dd8d06": {
          "model_module": "@jupyter-widgets/base",
          "model_module_version": "1.2.0",
          "model_name": "LayoutModel",
          "state": {
            "_model_module": "@jupyter-widgets/base",
            "_model_module_version": "1.2.0",
            "_model_name": "LayoutModel",
            "_view_count": null,
            "_view_module": "@jupyter-widgets/base",
            "_view_module_version": "1.2.0",
            "_view_name": "LayoutView",
            "align_content": null,
            "align_items": null,
            "align_self": null,
            "border": null,
            "bottom": null,
            "display": null,
            "flex": null,
            "flex_flow": null,
            "grid_area": null,
            "grid_auto_columns": null,
            "grid_auto_flow": null,
            "grid_auto_rows": null,
            "grid_column": null,
            "grid_gap": null,
            "grid_row": null,
            "grid_template_areas": null,
            "grid_template_columns": null,
            "grid_template_rows": null,
            "height": null,
            "justify_content": null,
            "justify_items": null,
            "left": null,
            "margin": null,
            "max_height": null,
            "max_width": null,
            "min_height": null,
            "min_width": null,
            "object_fit": null,
            "object_position": null,
            "order": null,
            "overflow": null,
            "overflow_x": null,
            "overflow_y": null,
            "padding": null,
            "right": null,
            "top": null,
            "visibility": null,
            "width": null
          }
        },
        "a6c3c9293cd54bc0a949dd61e9ddf7dc": {
          "model_module": "@jupyter-widgets/base",
          "model_module_version": "1.2.0",
          "model_name": "LayoutModel",
          "state": {
            "_model_module": "@jupyter-widgets/base",
            "_model_module_version": "1.2.0",
            "_model_name": "LayoutModel",
            "_view_count": null,
            "_view_module": "@jupyter-widgets/base",
            "_view_module_version": "1.2.0",
            "_view_name": "LayoutView",
            "align_content": null,
            "align_items": null,
            "align_self": null,
            "border": null,
            "bottom": null,
            "display": null,
            "flex": null,
            "flex_flow": null,
            "grid_area": null,
            "grid_auto_columns": null,
            "grid_auto_flow": null,
            "grid_auto_rows": null,
            "grid_column": null,
            "grid_gap": null,
            "grid_row": null,
            "grid_template_areas": null,
            "grid_template_columns": null,
            "grid_template_rows": null,
            "height": null,
            "justify_content": null,
            "justify_items": null,
            "left": null,
            "margin": null,
            "max_height": null,
            "max_width": null,
            "min_height": null,
            "min_width": null,
            "object_fit": null,
            "object_position": null,
            "order": null,
            "overflow": null,
            "overflow_x": null,
            "overflow_y": null,
            "padding": null,
            "right": null,
            "top": null,
            "visibility": null,
            "width": null
          }
        },
        "a792fa57c2b74433a63755cd7588d9da": {
          "model_module": "@jupyter-widgets/base",
          "model_module_version": "1.2.0",
          "model_name": "LayoutModel",
          "state": {
            "_model_module": "@jupyter-widgets/base",
            "_model_module_version": "1.2.0",
            "_model_name": "LayoutModel",
            "_view_count": null,
            "_view_module": "@jupyter-widgets/base",
            "_view_module_version": "1.2.0",
            "_view_name": "LayoutView",
            "align_content": null,
            "align_items": null,
            "align_self": null,
            "border": null,
            "bottom": null,
            "display": null,
            "flex": null,
            "flex_flow": null,
            "grid_area": null,
            "grid_auto_columns": null,
            "grid_auto_flow": null,
            "grid_auto_rows": null,
            "grid_column": null,
            "grid_gap": null,
            "grid_row": null,
            "grid_template_areas": null,
            "grid_template_columns": null,
            "grid_template_rows": null,
            "height": null,
            "justify_content": null,
            "justify_items": null,
            "left": null,
            "margin": null,
            "max_height": null,
            "max_width": null,
            "min_height": null,
            "min_width": null,
            "object_fit": null,
            "object_position": null,
            "order": null,
            "overflow": null,
            "overflow_x": null,
            "overflow_y": null,
            "padding": null,
            "right": null,
            "top": null,
            "visibility": null,
            "width": null
          }
        },
        "a7c2472722544fb9a6428b137ac2dbd5": {
          "model_module": "@jupyter-widgets/controls",
          "model_module_version": "1.5.0",
          "model_name": "HBoxModel",
          "state": {
            "_dom_classes": [],
            "_model_module": "@jupyter-widgets/controls",
            "_model_module_version": "1.5.0",
            "_model_name": "HBoxModel",
            "_view_count": null,
            "_view_module": "@jupyter-widgets/controls",
            "_view_module_version": "1.5.0",
            "_view_name": "HBoxView",
            "box_style": "",
            "children": [
              "IPY_MODEL_3f661f159fe644a48f5c01e3edde62cb",
              "IPY_MODEL_829faaf0d9fb488f8c747e5780ebfec7",
              "IPY_MODEL_726954194d464d4d99489f08e0dbe3a9"
            ],
            "layout": "IPY_MODEL_7c0d1f09b3ea40469ccc6799cf43cc5f"
          }
        },
        "adc79107c42b44619a32e7c985969681": {
          "model_module": "@jupyter-widgets/controls",
          "model_module_version": "1.5.0",
          "model_name": "DescriptionStyleModel",
          "state": {
            "_model_module": "@jupyter-widgets/controls",
            "_model_module_version": "1.5.0",
            "_model_name": "DescriptionStyleModel",
            "_view_count": null,
            "_view_module": "@jupyter-widgets/base",
            "_view_module_version": "1.2.0",
            "_view_name": "StyleView",
            "description_width": ""
          }
        },
        "b0679b52d0a244a0b8772c830257b9a1": {
          "model_module": "@jupyter-widgets/base",
          "model_module_version": "1.2.0",
          "model_name": "LayoutModel",
          "state": {
            "_model_module": "@jupyter-widgets/base",
            "_model_module_version": "1.2.0",
            "_model_name": "LayoutModel",
            "_view_count": null,
            "_view_module": "@jupyter-widgets/base",
            "_view_module_version": "1.2.0",
            "_view_name": "LayoutView",
            "align_content": null,
            "align_items": null,
            "align_self": null,
            "border": null,
            "bottom": null,
            "display": null,
            "flex": null,
            "flex_flow": null,
            "grid_area": null,
            "grid_auto_columns": null,
            "grid_auto_flow": null,
            "grid_auto_rows": null,
            "grid_column": null,
            "grid_gap": null,
            "grid_row": null,
            "grid_template_areas": null,
            "grid_template_columns": null,
            "grid_template_rows": null,
            "height": null,
            "justify_content": null,
            "justify_items": null,
            "left": null,
            "margin": null,
            "max_height": null,
            "max_width": null,
            "min_height": null,
            "min_width": null,
            "object_fit": null,
            "object_position": null,
            "order": null,
            "overflow": null,
            "overflow_x": null,
            "overflow_y": null,
            "padding": null,
            "right": null,
            "top": null,
            "visibility": null,
            "width": null
          }
        },
        "b76343dfcc2e4fd3adf71ed8ef14c351": {
          "model_module": "@jupyter-widgets/base",
          "model_module_version": "1.2.0",
          "model_name": "LayoutModel",
          "state": {
            "_model_module": "@jupyter-widgets/base",
            "_model_module_version": "1.2.0",
            "_model_name": "LayoutModel",
            "_view_count": null,
            "_view_module": "@jupyter-widgets/base",
            "_view_module_version": "1.2.0",
            "_view_name": "LayoutView",
            "align_content": null,
            "align_items": null,
            "align_self": null,
            "border": null,
            "bottom": null,
            "display": null,
            "flex": null,
            "flex_flow": null,
            "grid_area": null,
            "grid_auto_columns": null,
            "grid_auto_flow": null,
            "grid_auto_rows": null,
            "grid_column": null,
            "grid_gap": null,
            "grid_row": null,
            "grid_template_areas": null,
            "grid_template_columns": null,
            "grid_template_rows": null,
            "height": null,
            "justify_content": null,
            "justify_items": null,
            "left": null,
            "margin": null,
            "max_height": null,
            "max_width": null,
            "min_height": null,
            "min_width": null,
            "object_fit": null,
            "object_position": null,
            "order": null,
            "overflow": null,
            "overflow_x": null,
            "overflow_y": null,
            "padding": null,
            "right": null,
            "top": null,
            "visibility": null,
            "width": null
          }
        },
        "befb93279f4c4356919e1d80754872f0": {
          "model_module": "@jupyter-widgets/base",
          "model_module_version": "1.2.0",
          "model_name": "LayoutModel",
          "state": {
            "_model_module": "@jupyter-widgets/base",
            "_model_module_version": "1.2.0",
            "_model_name": "LayoutModel",
            "_view_count": null,
            "_view_module": "@jupyter-widgets/base",
            "_view_module_version": "1.2.0",
            "_view_name": "LayoutView",
            "align_content": null,
            "align_items": null,
            "align_self": null,
            "border": null,
            "bottom": null,
            "display": null,
            "flex": null,
            "flex_flow": null,
            "grid_area": null,
            "grid_auto_columns": null,
            "grid_auto_flow": null,
            "grid_auto_rows": null,
            "grid_column": null,
            "grid_gap": null,
            "grid_row": null,
            "grid_template_areas": null,
            "grid_template_columns": null,
            "grid_template_rows": null,
            "height": null,
            "justify_content": null,
            "justify_items": null,
            "left": null,
            "margin": null,
            "max_height": null,
            "max_width": null,
            "min_height": null,
            "min_width": null,
            "object_fit": null,
            "object_position": null,
            "order": null,
            "overflow": null,
            "overflow_x": null,
            "overflow_y": null,
            "padding": null,
            "right": null,
            "top": null,
            "visibility": null,
            "width": null
          }
        },
        "bf928f1c07914ddf8e8826f199e33bcd": {
          "model_module": "@jupyter-widgets/controls",
          "model_module_version": "1.5.0",
          "model_name": "HTMLModel",
          "state": {
            "_dom_classes": [],
            "_model_module": "@jupyter-widgets/controls",
            "_model_module_version": "1.5.0",
            "_model_name": "HTMLModel",
            "_view_count": null,
            "_view_module": "@jupyter-widgets/controls",
            "_view_module_version": "1.5.0",
            "_view_name": "HTMLView",
            "description": "",
            "description_tooltip": null,
            "layout": "IPY_MODEL_a6c3c9293cd54bc0a949dd61e9ddf7dc",
            "placeholder": "​",
            "style": "IPY_MODEL_ca8f619946674287b67b7e8b9d4360fc",
            "value": "Map: 100%"
          }
        },
        "c11aba4ef3a5406091b80adc0750753c": {
          "model_module": "@jupyter-widgets/base",
          "model_module_version": "1.2.0",
          "model_name": "LayoutModel",
          "state": {
            "_model_module": "@jupyter-widgets/base",
            "_model_module_version": "1.2.0",
            "_model_name": "LayoutModel",
            "_view_count": null,
            "_view_module": "@jupyter-widgets/base",
            "_view_module_version": "1.2.0",
            "_view_name": "LayoutView",
            "align_content": null,
            "align_items": null,
            "align_self": null,
            "border": null,
            "bottom": null,
            "display": null,
            "flex": null,
            "flex_flow": null,
            "grid_area": null,
            "grid_auto_columns": null,
            "grid_auto_flow": null,
            "grid_auto_rows": null,
            "grid_column": null,
            "grid_gap": null,
            "grid_row": null,
            "grid_template_areas": null,
            "grid_template_columns": null,
            "grid_template_rows": null,
            "height": null,
            "justify_content": null,
            "justify_items": null,
            "left": null,
            "margin": null,
            "max_height": null,
            "max_width": null,
            "min_height": null,
            "min_width": null,
            "object_fit": null,
            "object_position": null,
            "order": null,
            "overflow": null,
            "overflow_x": null,
            "overflow_y": null,
            "padding": null,
            "right": null,
            "top": null,
            "visibility": null,
            "width": null
          }
        },
        "c7eed47b98384dae9da69ec833a0160b": {
          "model_module": "@jupyter-widgets/base",
          "model_module_version": "1.2.0",
          "model_name": "LayoutModel",
          "state": {
            "_model_module": "@jupyter-widgets/base",
            "_model_module_version": "1.2.0",
            "_model_name": "LayoutModel",
            "_view_count": null,
            "_view_module": "@jupyter-widgets/base",
            "_view_module_version": "1.2.0",
            "_view_name": "LayoutView",
            "align_content": null,
            "align_items": null,
            "align_self": null,
            "border": null,
            "bottom": null,
            "display": null,
            "flex": null,
            "flex_flow": null,
            "grid_area": null,
            "grid_auto_columns": null,
            "grid_auto_flow": null,
            "grid_auto_rows": null,
            "grid_column": null,
            "grid_gap": null,
            "grid_row": null,
            "grid_template_areas": null,
            "grid_template_columns": null,
            "grid_template_rows": null,
            "height": null,
            "justify_content": null,
            "justify_items": null,
            "left": null,
            "margin": null,
            "max_height": null,
            "max_width": null,
            "min_height": null,
            "min_width": null,
            "object_fit": null,
            "object_position": null,
            "order": null,
            "overflow": null,
            "overflow_x": null,
            "overflow_y": null,
            "padding": null,
            "right": null,
            "top": null,
            "visibility": null,
            "width": null
          }
        },
        "c81e7fdf943842db9737f4cf8345ac7c": {
          "model_module": "@jupyter-widgets/controls",
          "model_module_version": "1.5.0",
          "model_name": "DescriptionStyleModel",
          "state": {
            "_model_module": "@jupyter-widgets/controls",
            "_model_module_version": "1.5.0",
            "_model_name": "DescriptionStyleModel",
            "_view_count": null,
            "_view_module": "@jupyter-widgets/base",
            "_view_module_version": "1.2.0",
            "_view_name": "StyleView",
            "description_width": ""
          }
        },
        "ca8f619946674287b67b7e8b9d4360fc": {
          "model_module": "@jupyter-widgets/controls",
          "model_module_version": "1.5.0",
          "model_name": "DescriptionStyleModel",
          "state": {
            "_model_module": "@jupyter-widgets/controls",
            "_model_module_version": "1.5.0",
            "_model_name": "DescriptionStyleModel",
            "_view_count": null,
            "_view_module": "@jupyter-widgets/base",
            "_view_module_version": "1.2.0",
            "_view_name": "StyleView",
            "description_width": ""
          }
        },
        "d305f2a4a89b4a7b9c852cb6685c1ca5": {
          "model_module": "@jupyter-widgets/controls",
          "model_module_version": "1.5.0",
          "model_name": "HBoxModel",
          "state": {
            "_dom_classes": [],
            "_model_module": "@jupyter-widgets/controls",
            "_model_module_version": "1.5.0",
            "_model_name": "HBoxModel",
            "_view_count": null,
            "_view_module": "@jupyter-widgets/controls",
            "_view_module_version": "1.5.0",
            "_view_name": "HBoxView",
            "box_style": "",
            "children": [
              "IPY_MODEL_478611b453a84942be96181ddf8021d2",
              "IPY_MODEL_f4d85c92f3b14530bfeada7f85467f43",
              "IPY_MODEL_94a6918f061844d084af073fb856b853"
            ],
            "layout": "IPY_MODEL_9c520dff2ce5482385a04a6752dd8d06"
          }
        },
        "d7b313f9081d4c33b0a484d4d09a5a6f": {
          "model_module": "@jupyter-widgets/base",
          "model_module_version": "1.2.0",
          "model_name": "LayoutModel",
          "state": {
            "_model_module": "@jupyter-widgets/base",
            "_model_module_version": "1.2.0",
            "_model_name": "LayoutModel",
            "_view_count": null,
            "_view_module": "@jupyter-widgets/base",
            "_view_module_version": "1.2.0",
            "_view_name": "LayoutView",
            "align_content": null,
            "align_items": null,
            "align_self": null,
            "border": null,
            "bottom": null,
            "display": null,
            "flex": null,
            "flex_flow": null,
            "grid_area": null,
            "grid_auto_columns": null,
            "grid_auto_flow": null,
            "grid_auto_rows": null,
            "grid_column": null,
            "grid_gap": null,
            "grid_row": null,
            "grid_template_areas": null,
            "grid_template_columns": null,
            "grid_template_rows": null,
            "height": null,
            "justify_content": null,
            "justify_items": null,
            "left": null,
            "margin": null,
            "max_height": null,
            "max_width": null,
            "min_height": null,
            "min_width": null,
            "object_fit": null,
            "object_position": null,
            "order": null,
            "overflow": null,
            "overflow_x": null,
            "overflow_y": null,
            "padding": null,
            "right": null,
            "top": null,
            "visibility": null,
            "width": null
          }
        },
        "da44d3c9b52c4f3faf28a01cbbececa2": {
          "model_module": "@jupyter-widgets/controls",
          "model_module_version": "1.5.0",
          "model_name": "FloatProgressModel",
          "state": {
            "_dom_classes": [],
            "_model_module": "@jupyter-widgets/controls",
            "_model_module_version": "1.5.0",
            "_model_name": "FloatProgressModel",
            "_view_count": null,
            "_view_module": "@jupyter-widgets/controls",
            "_view_module_version": "1.5.0",
            "_view_name": "ProgressView",
            "bar_style": "success",
            "description": "",
            "description_tooltip": null,
            "layout": "IPY_MODEL_3c8282886e694b3e8bf13ca007494891",
            "max": 536,
            "min": 0,
            "orientation": "horizontal",
            "style": "IPY_MODEL_6c19d787bc18470babdb7522e526c155",
            "value": 536
          }
        },
        "e24990196ec24acfba49a2c259f257d3": {
          "model_module": "@jupyter-widgets/controls",
          "model_module_version": "1.5.0",
          "model_name": "FloatProgressModel",
          "state": {
            "_dom_classes": [],
            "_model_module": "@jupyter-widgets/controls",
            "_model_module_version": "1.5.0",
            "_model_name": "FloatProgressModel",
            "_view_count": null,
            "_view_module": "@jupyter-widgets/controls",
            "_view_module_version": "1.5.0",
            "_view_name": "ProgressView",
            "bar_style": "success",
            "description": "",
            "description_tooltip": null,
            "layout": "IPY_MODEL_fed0dbdb4b9c477ba8f1358deb6669fd",
            "max": 151,
            "min": 0,
            "orientation": "horizontal",
            "style": "IPY_MODEL_9b9fc36848cd418491a825075b4254bb",
            "value": 151
          }
        },
        "e814943bb3e7440ab9fa091162800ebb": {
          "model_module": "@jupyter-widgets/controls",
          "model_module_version": "1.5.0",
          "model_name": "HBoxModel",
          "state": {
            "_dom_classes": [],
            "_model_module": "@jupyter-widgets/controls",
            "_model_module_version": "1.5.0",
            "_model_name": "HBoxModel",
            "_view_count": null,
            "_view_module": "@jupyter-widgets/controls",
            "_view_module_version": "1.5.0",
            "_view_name": "HBoxView",
            "box_style": "",
            "children": [
              "IPY_MODEL_63743b83046d463c987cc78ef51aab29",
              "IPY_MODEL_e24990196ec24acfba49a2c259f257d3",
              "IPY_MODEL_51894a4df93b4815a570a14fff3c97ba"
            ],
            "layout": "IPY_MODEL_b76343dfcc2e4fd3adf71ed8ef14c351"
          }
        },
        "f4d85c92f3b14530bfeada7f85467f43": {
          "model_module": "@jupyter-widgets/controls",
          "model_module_version": "1.5.0",
          "model_name": "FloatProgressModel",
          "state": {
            "_dom_classes": [],
            "_model_module": "@jupyter-widgets/controls",
            "_model_module_version": "1.5.0",
            "_model_name": "FloatProgressModel",
            "_view_count": null,
            "_view_module": "@jupyter-widgets/controls",
            "_view_module_version": "1.5.0",
            "_view_name": "ProgressView",
            "bar_style": "success",
            "description": "",
            "description_tooltip": null,
            "layout": "IPY_MODEL_d7b313f9081d4c33b0a484d4d09a5a6f",
            "max": 802,
            "min": 0,
            "orientation": "horizontal",
            "style": "IPY_MODEL_9348959a2cc340639932f997fc7c14b0",
            "value": 802
          }
        },
        "fed0dbdb4b9c477ba8f1358deb6669fd": {
          "model_module": "@jupyter-widgets/base",
          "model_module_version": "1.2.0",
          "model_name": "LayoutModel",
          "state": {
            "_model_module": "@jupyter-widgets/base",
            "_model_module_version": "1.2.0",
            "_model_name": "LayoutModel",
            "_view_count": null,
            "_view_module": "@jupyter-widgets/base",
            "_view_module_version": "1.2.0",
            "_view_name": "LayoutView",
            "align_content": null,
            "align_items": null,
            "align_self": null,
            "border": null,
            "bottom": null,
            "display": null,
            "flex": null,
            "flex_flow": null,
            "grid_area": null,
            "grid_auto_columns": null,
            "grid_auto_flow": null,
            "grid_auto_rows": null,
            "grid_column": null,
            "grid_gap": null,
            "grid_row": null,
            "grid_template_areas": null,
            "grid_template_columns": null,
            "grid_template_rows": null,
            "height": null,
            "justify_content": null,
            "justify_items": null,
            "left": null,
            "margin": null,
            "max_height": null,
            "max_width": null,
            "min_height": null,
            "min_width": null,
            "object_fit": null,
            "object_position": null,
            "order": null,
            "overflow": null,
            "overflow_x": null,
            "overflow_y": null,
            "padding": null,
            "right": null,
            "top": null,
            "visibility": null,
            "width": null
          }
        }
      }
    }
  },
  "nbformat": 4,
  "nbformat_minor": 0
}
