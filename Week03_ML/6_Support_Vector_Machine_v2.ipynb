{
  "nbformat": 4,
  "nbformat_minor": 0,
  "metadata": {
    "colab": {
      "name": "6_Support_Vector_Machine-v2.ipynb",
      "provenance": [],
      "collapsed_sections": []
    },
    "kernelspec": {
      "name": "python3",
      "display_name": "Python 3"
    }
  },
  "cells": [
    {
      "cell_type": "markdown",
      "metadata": {
        "id": "qtNvBw4vdm6c"
      },
      "source": [
        "# **1. Load Titanic Dataset**\n",
        "\n",
        "Reference: https://www.kaggle.com/code"
      ]
    },
    {
      "cell_type": "code",
      "source": [
        "!pip install --upgrade scikit-learn==1.0.2\n",
        "!pip install --upgrade numpy==1.21.5"
      ],
      "metadata": {
        "id": "ujmdx5vmgpP-"
      },
      "execution_count": null,
      "outputs": []
    },
    {
      "cell_type": "markdown",
      "metadata": {
        "id": "12yFvZgedqNA"
      },
      "source": [
        "**Source** : https://www.kaggle.com/c/titanic/data\n",
        "\n",
        "## **Data Dictionary**  \n",
        "\n",
        "| Variable | Definition | Key |\n",
        "|-:|-:|-|\n",
        "| survival | Survival | 0 = No, 1 = Yes |\n",
        "| pclass | Ticket class | 1 = 1st, 2 = 2nd, 3 = 3rd |\n",
        "| sex | Sex |  |\n",
        "| Age | Age in years |  |\n",
        "| sibsp | # of siblings / spouses aboard the Titanic |  |\n",
        "| parch | # of parents / children aboard the Titanic |  |\n",
        "| ticket | Ticket number |  |\n",
        "| fare | Passenger fare |  |\n",
        "| cabin | Cabin number |  |\n",
        "| embarked | Port of Embarkation | C = Cherbourg, Q = Queenstown, S = Southampton |\n",
        "\n",
        "## **Variable Notes**  \n",
        "\n",
        "**pclass**: A proxy for socio-economic status (SES)|\n",
        "* 1st = Upper  \n",
        "* 2nd = Middle  \n",
        "* 3rd = Lower  \n",
        "\n",
        "\n",
        "**age**: Age is fractional if less than 1. If the age is estimated, is it in the form of xx.5\n",
        "\n",
        "**sibsp**: The dataset defines family relations in this way...  \n",
        "* Sibling = brother, sister, stepbrother, stepsister  \n",
        "* Spouse = husband, wife (mistresses and fiancés were ignored)  \n",
        "\n",
        "**parch**: The dataset defines family relations in this way...  \n",
        "* Parent = mother, father  \n",
        "* Child = daughter, son, stepdaughter, stepson  \n",
        "* Some children travelled only with a nanny, therefore parch=0 for them.  "
      ]
    },
    {
      "cell_type": "code",
      "metadata": {
        "id": "22W1j0n7dpao"
      },
      "source": [
        "import time\n",
        "import datetime\n",
        "\n",
        "import numpy as np\n",
        "import pandas as pd\n",
        "pd.set_option('display.max_colwidth', None)\n",
        "\n",
        "import matplotlib.pyplot as plt\n",
        "plt.style.use('seaborn')\n",
        "\n",
        "from sklearn.model_selection import train_test_split\n",
        "\n",
        "titanic_df = pd.read_csv('https://github.com/kaopanboonyuen/2110446_DataScience_2021s2/raw/main/datasets/Titanic.csv')\n",
        "\n",
        "#Get Dummies (pandas)\n",
        "from sklearn.preprocessing import LabelEncoder\n",
        "convert_sex = LabelEncoder()\n",
        "titanic_df['Sex'] = convert_sex.fit_transform(titanic_df['Sex']) # 0:female 1:male\n",
        "\n",
        "feature_col = ['Pclass', 'Sex', 'Age', 'SibSp', 'Parch', 'Fare']\n",
        "target_col = 'Survived'\n",
        "\n",
        "train_df, test_df = train_test_split(titanic_df, test_size=0.3, random_state=0, stratify=titanic_df[target_col])\n",
        "train_df, test_df = train_df.copy(), test_df.copy()\n",
        "\n",
        "# Fill NA 'Age' with Median\n",
        "train_df['Age'].fillna(train_df['Age'].median(), inplace = True)\n",
        "test_df['Age'].fillna(train_df['Age'].median(), inplace = True)"
      ],
      "execution_count": null,
      "outputs": []
    },
    {
      "cell_type": "code",
      "metadata": {
        "id": "cZxkxod0S1-8"
      },
      "source": [
        "titanic_df.head()"
      ],
      "execution_count": null,
      "outputs": []
    },
    {
      "cell_type": "markdown",
      "metadata": {
        "id": "n3Z-cSQ-389_"
      },
      "source": [
        "# **2. Support Vector Machine**"
      ]
    },
    {
      "cell_type": "markdown",
      "metadata": {
        "id": "1Mov0Lf0edeE"
      },
      "source": [
        "https://scikit-learn.org/stable/modules/generated/sklearn.svm.SVC.html"
      ]
    },
    {
      "cell_type": "code",
      "metadata": {
        "id": "j8t2eXLN4Dal"
      },
      "source": [
        "from sklearn.svm import SVC"
      ],
      "execution_count": null,
      "outputs": []
    },
    {
      "cell_type": "markdown",
      "metadata": {
        "id": "0nkJCIpouX9n"
      },
      "source": [
        "**Suggest Parameters**  \n",
        "\n",
        "* **C**: 1  \n",
        "* **kernel**: rbf  \n",
        "* **gamma**: auto  "
      ]
    },
    {
      "cell_type": "code",
      "metadata": {
        "id": "cXd4krgQ4DYV"
      },
      "source": [
        "C = 1 #@param {type:\"slider\", min:1.0, max:3.0, step:0.1}\n",
        "kernel = \"rbf\" #@param ['linear', 'poly', 'rbf']\n",
        "gamma = \"auto\"  #@param ['scale', 'auto']\n",
        "\n",
        "svm = SVC(\n",
        "  C=C,\n",
        "  kernel=kernel,\n",
        "  gamma=gamma,\n",
        "  cache_size=4096,\n",
        "  random_state=0\n",
        ")\n",
        "\n",
        "svm_start_time = time.time()\n",
        "# Training you tree\n",
        "svm.fit(train_df[feature_col], train_df[target_col])\n",
        "svm_end_time = time.time()\n",
        "print(f\"Training Time: {datetime.timedelta(seconds=svm_end_time-svm_start_time)}\")"
      ],
      "execution_count": null,
      "outputs": []
    },
    {
      "cell_type": "code",
      "metadata": {
        "id": "b8UWKO1fx6X-"
      },
      "source": [
        "# Predict as Class\n",
        "train_predict = svm.predict(train_df[feature_col])\n",
        "test_predict = svm.predict(test_df[feature_col])"
      ],
      "execution_count": null,
      "outputs": []
    },
    {
      "cell_type": "code",
      "metadata": {
        "id": "xRPsnYPkx92C"
      },
      "source": [
        "# Show first 10 prediction\n",
        "print(train_predict[:10])"
      ],
      "execution_count": null,
      "outputs": []
    },
    {
      "cell_type": "code",
      "metadata": {
        "id": "GNicAJHMyAXc"
      },
      "source": [
        "# Actual Target\n",
        "train_df[target_col][:10]"
      ],
      "execution_count": null,
      "outputs": []
    },
    {
      "cell_type": "code",
      "metadata": {
        "id": "vFeAMldJy64z"
      },
      "source": [
        "from sklearn.metrics import confusion_matrix\n",
        "\n",
        "confusion_matrix(test_df[target_col], test_predict, labels=[1, 0])"
      ],
      "execution_count": null,
      "outputs": []
    },
    {
      "cell_type": "code",
      "metadata": {
        "id": "714g8NA6y2Cp"
      },
      "source": [
        "from sklearn.metrics import classification_report\n",
        "\n",
        "print(classification_report(test_df[target_col], test_predict,digits=4))"
      ],
      "execution_count": null,
      "outputs": []
    },
    {
      "cell_type": "markdown",
      "metadata": {
        "id": "VN6jrij573xW"
      },
      "source": [
        "# **3.Visualization**"
      ]
    },
    {
      "cell_type": "code",
      "metadata": {
        "id": "XBtSg_hswVo9",
        "cellView": "form"
      },
      "source": [
        "#@markdown # **Select parameters to plot**\n",
        "#@markdown **(On simplyfied model for visualization - 2 variables)**\n",
        "\n",
        "#@markdown Adapt from: https://scikit-learn.org/stable/auto_examples/neighbors/plot_classification.html\n",
        "#@markdown **Suggest Parameters**  \n",
        "#@markdown * **x_label**: Sex  \n",
        "#@markdown * **y_label**: SibSp  \n",
        "#@markdown Try on Different kernels to see hyperplanes.\n",
        "C = 1\n",
        "kernel = \"rbf\" #@param ['linear', 'poly', 'rbf']\n",
        "gamma = \"scale\"\n",
        "\n",
        "# x_label = 'sepal length (cm)' #@param ['sepal length (cm)', 'sepal width (cm)', 'petal length (cm)', 'petal width (cm)']\n",
        "# y_label = 'petal length (cm)' #@param ['sepal length (cm)', 'sepal width (cm)', 'petal length (cm)', 'petal width (cm)']\n",
        "x_label = 'Sex' #@param ['Pclass', 'Sex', 'Age', 'SibSp', 'Parch', 'Fare']\n",
        "y_label = 'SibSp' #@param ['Pclass', 'Sex', 'Age', 'SibSp', 'Parch', 'Fare']\n",
        "\n",
        "x_idx = train_df.columns.to_list().index(x_label)\n",
        "y_idx = train_df.columns.to_list().index(y_label)\n",
        "\n",
        "# Script from https://scikit-learn.org/stable/auto_examples/neighbors/plot_classification.html\n",
        "\n",
        "from matplotlib import cm\n",
        "from matplotlib.colors import ListedColormap\n",
        "cmap_val = np.linspace(0.0, 1.0, 20)\n",
        "cmap_light = ListedColormap(cm.get_cmap(plt.get_cmap('tab20'))(cmap_val)[1:5:2])\n",
        "cmap_bold = ListedColormap(cm.get_cmap(plt.get_cmap('tab20'))(cmap_val)[:4:2])\n",
        "h = 300  # step size in the mesh\n",
        "\n",
        "model = SVC(\n",
        "  C=C,\n",
        "  kernel=kernel,\n",
        "  gamma=gamma,\n",
        "  cache_size=4096\n",
        ")\n",
        "model.fit(train_df.iloc[:, [x_idx, y_idx]], train_df[target_col])\n",
        "x_min, x_max = train_df.iloc[:, x_idx].min() - 1, train_df.iloc[:, x_idx].max() + 1\n",
        "y_min, y_max = train_df.iloc[:, y_idx].min() - 1, train_df.iloc[:, y_idx].max() + 1\n",
        "xx, yy = np.meshgrid(\n",
        "  np.arange(x_min, x_max, (x_max-x_min)/h),\n",
        "  np.arange(y_min, y_max, (y_max-y_min)/h)\n",
        ")\n",
        "Z = model.predict(np.c_[xx.ravel(), yy.ravel()])\n",
        "\n",
        "# Put the result into a color plot\n",
        "Z = Z.reshape(xx.shape)\n",
        "plt.figure(figsize=(8, 8), dpi=80)\n",
        "plt.pcolormesh(xx, yy, Z, cmap=cmap_light)\n",
        "\n",
        "# Plot also the training points\n",
        "plt.scatter(\n",
        "  train_df.iloc[:, x_idx],\n",
        "  train_df.iloc[:, y_idx],\n",
        "  c=train_df[target_col],\n",
        "  cmap=cmap_bold,\n",
        "  edgecolor='k',\n",
        "  s=40\n",
        ")\n",
        "plt.xlabel(x_label)\n",
        "plt.xlim(xx.min(), xx.max())\n",
        "plt.ylabel(y_label)\n",
        "plt.ylim(yy.min(), yy.max())\n",
        "plt.title(f\"3-Class classification (C = {C}, kernel = {kernel})\")\n",
        "plt.show()"
      ],
      "execution_count": null,
      "outputs": []
    },
    {
      "cell_type": "markdown",
      "metadata": {
        "id": "W-6OuefCBsKo"
      },
      "source": [
        "## 3.1 Support Vectors"
      ]
    },
    {
      "cell_type": "code",
      "metadata": {
        "id": "Ivzigk_9S4iU"
      },
      "source": [
        "# Index of support vectors\n",
        "svm.support_[:5]"
      ],
      "execution_count": null,
      "outputs": []
    },
    {
      "cell_type": "code",
      "metadata": {
        "id": "YWr4t2R9HwPn"
      },
      "source": [
        "# Alpha of Support Vector\n",
        "svm.dual_coef_[0][:5]"
      ],
      "execution_count": null,
      "outputs": []
    },
    {
      "cell_type": "code",
      "metadata": {
        "id": "4EEFCMCsHvKt"
      },
      "source": [
        "# Support Vector\n",
        "svm.support_vectors_[:5]"
      ],
      "execution_count": null,
      "outputs": []
    }
  ]
}