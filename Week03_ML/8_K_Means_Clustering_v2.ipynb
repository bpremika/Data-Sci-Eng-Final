{
  "nbformat": 4,
  "nbformat_minor": 0,
  "metadata": {
    "colab": {
      "name": "8_K-Means-Clustering-v2.ipynb",
      "provenance": [],
      "collapsed_sections": []
    },
    "kernelspec": {
      "display_name": "Python 3",
      "language": "python",
      "name": "python3"
    }
  },
  "cells": [
    {
      "cell_type": "markdown",
      "metadata": {
        "id": "FzpGMqnqE6HA"
      },
      "source": [
        "# K Means Clustering with Python\n",
        "\n",
        "Reference: https://www.kaggle.com/code\n",
        "\n",
        "## Method Used\n",
        "\n",
        "K Means Clustering is an unsupervised learning algorithm that tries to cluster data based on their similarity. Unsupervised learning means that there is no outcome to be predicted, and the algorithm just tries to find patterns in the data. In k means clustering, we have the specify the number of clusters we want the data to be grouped into. The algorithm randomly assigns each observation to a cluster, and finds the centroid of each cluster. Then, the algorithm iterates through two steps:\n",
        "Reassign data points to the cluster whose centroid is closest. Calculate new centroid of each cluster. These two steps are repeated till the within cluster variation cannot be reduced any further. The within cluster variation is calculated as the sum of the euclidean distance between the data points and their respective cluster centroids."
      ]
    },
    {
      "cell_type": "code",
      "source": [
        "!pip install --upgrade scikit-learn==1.0.2\n",
        "!pip install --upgrade numpy==1.21.5"
      ],
      "metadata": {
        "id": "JDElRcNyhrS6"
      },
      "execution_count": null,
      "outputs": []
    },
    {
      "cell_type": "markdown",
      "metadata": {
        "id": "chQidzHDE6HD"
      },
      "source": [
        "## Import Libraries"
      ]
    },
    {
      "cell_type": "code",
      "metadata": {
        "id": "6n2399cVE6HH"
      },
      "source": [
        "import seaborn as sns\n",
        "import matplotlib.pyplot as plt"
      ],
      "execution_count": null,
      "outputs": []
    },
    {
      "cell_type": "markdown",
      "metadata": {
        "id": "_hngIxcqE6HR"
      },
      "source": [
        "## Create some Data"
      ]
    },
    {
      "cell_type": "code",
      "metadata": {
        "id": "b7r3Ppj7E6HT"
      },
      "source": [
        "from sklearn.datasets import make_blobs"
      ],
      "execution_count": null,
      "outputs": []
    },
    {
      "cell_type": "code",
      "metadata": {
        "id": "G98v5uWKE6HY"
      },
      "source": [
        "# Create Data\n",
        "data = make_blobs(n_samples=200, n_features=2, \n",
        "            centers=4, cluster_std=1.8,random_state=101)"
      ],
      "execution_count": null,
      "outputs": []
    },
    {
      "cell_type": "code",
      "metadata": {
        "id": "1JD9oT2dE6He"
      },
      "source": [
        "# data\n",
        "data[0][0:5]"
      ],
      "execution_count": null,
      "outputs": []
    },
    {
      "cell_type": "code",
      "metadata": {
        "id": "AeGcCig1E6Hp"
      },
      "source": [
        "# actual cluster group\n",
        "data[1][0:5]"
      ],
      "execution_count": null,
      "outputs": []
    },
    {
      "cell_type": "markdown",
      "metadata": {
        "id": "4outR6K0E6Hw"
      },
      "source": [
        "# (Optional) Scaler and Inverse Scaler"
      ]
    },
    {
      "cell_type": "code",
      "metadata": {
        "id": "tVpItw74E6Hx"
      },
      "source": [
        "# from sklearn.preprocessing import StandardScaler\n",
        "# scaler = StandardScaler()\n",
        "# scaler.fit(data[0])\n",
        "\n",
        "# trans_data = scaler.transform(data[0])\n",
        "# print(trans_data[0:5,])\n",
        "\n",
        "# org_data = scaler.inverse_transform(trans_data)\n",
        "# print(org_data[0:5,])"
      ],
      "execution_count": null,
      "outputs": []
    },
    {
      "cell_type": "markdown",
      "metadata": {
        "id": "cWsTohNFE6H1"
      },
      "source": [
        "## Visualize Data"
      ]
    },
    {
      "cell_type": "code",
      "metadata": {
        "id": "Til9c7eZE6H3"
      },
      "source": [
        "plt.scatter(data[0][:,0],data[0][:,1],c=data[1],cmap='rainbow')"
      ],
      "execution_count": null,
      "outputs": []
    },
    {
      "cell_type": "markdown",
      "metadata": {
        "id": "nVHu3HpcE6H_"
      },
      "source": [
        "## Creating the Clusters"
      ]
    },
    {
      "cell_type": "code",
      "metadata": {
        "id": "XxkfDMAkE6IB"
      },
      "source": [
        "from sklearn.cluster import KMeans"
      ],
      "execution_count": null,
      "outputs": []
    },
    {
      "cell_type": "code",
      "metadata": {
        "id": "GaQEo7tkE6IF"
      },
      "source": [
        "kmeans = KMeans(n_clusters=4)"
      ],
      "execution_count": null,
      "outputs": []
    },
    {
      "cell_type": "code",
      "metadata": {
        "id": "ED2sJC93E6IJ"
      },
      "source": [
        "kmeans.fit(data[0])"
      ],
      "execution_count": null,
      "outputs": []
    },
    {
      "cell_type": "code",
      "metadata": {
        "id": "b4vzVE16E6IT"
      },
      "source": [
        "kmeans.cluster_centers_"
      ],
      "execution_count": null,
      "outputs": []
    },
    {
      "cell_type": "code",
      "metadata": {
        "id": "XDFEDsVGE6Ii"
      },
      "source": [
        "kmeans.labels_"
      ],
      "execution_count": null,
      "outputs": []
    },
    {
      "cell_type": "code",
      "metadata": {
        "id": "pTHNGfX_E6Ip"
      },
      "source": [
        "kmeans.predict(data[0])"
      ],
      "execution_count": null,
      "outputs": []
    },
    {
      "cell_type": "code",
      "metadata": {
        "id": "LqBsLoNDE6Ix"
      },
      "source": [
        "f, (ax1, ax2) = plt.subplots(1, 2, sharey=True,figsize=(10,6))\n",
        "ax1.set_title('K Means')\n",
        "ax1.scatter(data[0][:,0],data[0][:,1],c=kmeans.labels_,cmap='rainbow')\n",
        "ax2.set_title(\"Original\")\n",
        "ax2.scatter(data[0][:,0],data[0][:,1],c=data[1],cmap='rainbow')"
      ],
      "execution_count": null,
      "outputs": []
    },
    {
      "cell_type": "code",
      "metadata": {
        "id": "W6ukdhq0E6I4"
      },
      "source": [
        "# elbow method\n",
        "import numpy as np\n",
        "from scipy.spatial.distance import cdist\n",
        "import matplotlib.pyplot as plt\n",
        "\n",
        "K = range(1, 10)\n",
        "meandistortions = []\n",
        "for k in K:\n",
        "    kmeans = KMeans(n_clusters=k)\n",
        "    kmeans.fit(data[0])\n",
        "    meandistortions.append(sum(np.min(cdist(data[0], kmeans.cluster_centers_, 'euclidean'), axis=1)) / data[0].shape[0])\n",
        "\n",
        "plt.plot(K, meandistortions, 'bx-')\n",
        "plt.xlabel('k')\n",
        "plt.ylabel('Average distortion')\n",
        "plt.title('Selecting k with the Elbow Method')\n",
        "plt.show()"
      ],
      "execution_count": null,
      "outputs": []
    },
    {
      "cell_type": "markdown",
      "metadata": {
        "id": "G3k6l2spE6I_"
      },
      "source": [
        "You should note, the colors are meaningless in reference between the two plots."
      ]
    },
    {
      "cell_type": "code",
      "metadata": {
        "id": "_s566QNFE6JE"
      },
      "source": [
        ""
      ],
      "execution_count": null,
      "outputs": []
    }
  ]
}