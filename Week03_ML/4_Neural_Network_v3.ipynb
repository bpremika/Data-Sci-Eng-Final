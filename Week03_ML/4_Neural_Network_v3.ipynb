{
  "nbformat": 4,
  "nbformat_minor": 0,
  "metadata": {
    "colab": {
      "name": "4_Neural-Network-v3.ipynb",
      "provenance": [],
      "collapsed_sections": [],
      "toc_visible": true
    },
    "kernelspec": {
      "display_name": "Python 3",
      "language": "python",
      "name": "python3"
    }
  },
  "cells": [
    {
      "cell_type": "markdown",
      "metadata": {
        "id": "EG3u7EHXIPmt"
      },
      "source": [
        "# Neural Network\n",
        "\n",
        "Reference: https://www.kaggle.com/c/GiveMeSomeCredit, https://www.kaggle.com/code\n",
        "\n",
        "![](https://pbs.twimg.com/media/CsuoZJwWgAAdaD6.jpg)\n",
        "\n",
        "Credit (Image and Good Read): https://www.asimovinstitute.org/neural-network-zoo/"
      ]
    },
    {
      "cell_type": "markdown",
      "metadata": {
        "id": "wioNsfg_IPmz"
      },
      "source": [
        "## SciKit-Learn\n",
        "\n",
        "In order to follow along with this tutorial, you'll need to have the latest version of SciKit Learn installed! It is easily installable either through pip or conda, but you can reference the [official installation documentation](http://scikit-learn.org/stable/install.html) for complete details on this."
      ]
    },
    {
      "cell_type": "markdown",
      "metadata": {
        "id": "IA_1kWkTIPm0"
      },
      "source": [
        "\n",
        "## Data\n",
        "\n",
        "Improve on the state of the art in credit scoring by predicting the probability that somebody will experience financial distress in the next two years."
      ]
    },
    {
      "cell_type": "code",
      "source": [
        "!pip install --upgrade scikit-learn==1.0.2\n",
        "!pip install --upgrade numpy==1.21.5"
      ],
      "metadata": {
        "id": "zORnCLb2fbAY"
      },
      "execution_count": null,
      "outputs": []
    },
    {
      "cell_type": "code",
      "metadata": {
        "id": "giFxXs52IcsT"
      },
      "source": [
        "import pandas as pd\n",
        "data = pd.read_csv('https://github.com/davidjohnnn/all_datasets/raw/master/bay/cs-training.csv').drop('Unnamed: 0', axis = 1)"
      ],
      "execution_count": null,
      "outputs": []
    },
    {
      "cell_type": "markdown",
      "source": [
        "![](https://thumbor.forbes.com/thumbor/fit-in/900x510/https://www.forbes.com/advisor/wp-content/uploads/2020/05/banks-credit-chalkboard_getty.jpg)"
      ],
      "metadata": {
        "id": "m1CFnxYcuDTg"
      }
    },
    {
      "cell_type": "markdown",
      "metadata": {
        "id": "ueWP0QpRIPm9"
      },
      "source": [
        "Let's check out the data:"
      ]
    },
    {
      "cell_type": "code",
      "metadata": {
        "id": "O56Omg7xIPm_"
      },
      "source": [
        "data.head()"
      ],
      "execution_count": null,
      "outputs": []
    },
    {
      "cell_type": "code",
      "metadata": {
        "id": "1BC3-tuHIPnK"
      },
      "source": [
        "data.describe().transpose()"
      ],
      "execution_count": null,
      "outputs": []
    },
    {
      "cell_type": "code",
      "metadata": {
        "id": "sfAqLPeMIPnQ"
      },
      "source": [
        "data.shape"
      ],
      "execution_count": null,
      "outputs": []
    },
    {
      "cell_type": "markdown",
      "metadata": {
        "id": "Ll02_m-5IPnV"
      },
      "source": [
        "Let's set up our Data and our Labels:"
      ]
    },
    {
      "cell_type": "code",
      "metadata": {
        "id": "EguOKkA5IPnX"
      },
      "source": [
        "data.dropna(axis=0, inplace=True)\n",
        "\n",
        "X = data.drop('SeriousDlqin2yrs',axis=1)\n",
        "y = data['SeriousDlqin2yrs']"
      ],
      "execution_count": null,
      "outputs": []
    },
    {
      "cell_type": "markdown",
      "metadata": {
        "id": "Uj57mUpmIPna"
      },
      "source": [
        "### Train Test Split\n",
        "\n",
        "Let's split our data into training and testing sets, this is done easily with SciKit Learn's train_test_split function from model_selection:"
      ]
    },
    {
      "cell_type": "code",
      "metadata": {
        "id": "N34Q7omqIPnc"
      },
      "source": [
        "from sklearn.model_selection import train_test_split"
      ],
      "execution_count": null,
      "outputs": []
    },
    {
      "cell_type": "code",
      "metadata": {
        "id": "zD054LZwIPnj"
      },
      "source": [
        "X_train, X_test, y_train, y_test = train_test_split(X, y, stratify=y, test_size=0.30, random_state=101)"
      ],
      "execution_count": null,
      "outputs": []
    },
    {
      "cell_type": "markdown",
      "metadata": {
        "id": "brnIE-gQIPnp"
      },
      "source": [
        "## Data Preprocessing\n",
        "\n",
        "The neural network may have difficulty converging before the maximum number of iterations allowed if the data is not normalized. Multi-layer Perceptron is sensitive to feature scaling, so it is highly recommended to scale your data. Note that you must apply the same scaling to the test set for meaningful results.  There are a lot of different methods for normalization of data, we will use the built-in StandardScaler for standardization."
      ]
    },
    {
      "cell_type": "code",
      "metadata": {
        "id": "bBStFwS_IPnq"
      },
      "source": [
        "from sklearn.preprocessing import StandardScaler"
      ],
      "execution_count": null,
      "outputs": []
    },
    {
      "cell_type": "code",
      "metadata": {
        "id": "WWDIcTNwIPnu"
      },
      "source": [
        "scaler = StandardScaler()"
      ],
      "execution_count": null,
      "outputs": []
    },
    {
      "cell_type": "code",
      "metadata": {
        "id": "V9l1iBvNIPny"
      },
      "source": [
        "# Fit only to the training data\n",
        "scaler.fit(X_train)"
      ],
      "execution_count": null,
      "outputs": []
    },
    {
      "cell_type": "code",
      "metadata": {
        "id": "z3gJpMyOIPn4"
      },
      "source": [
        "# Now apply the transformations to the data:\n",
        "X_train = scaler.transform(X_train)\n",
        "X_test = scaler.transform(X_test)"
      ],
      "execution_count": null,
      "outputs": []
    },
    {
      "cell_type": "markdown",
      "metadata": {
        "id": "xJ5r6fpXIPn-"
      },
      "source": [
        "## Training the model\n",
        "\n",
        "Now it is time to train our model. SciKit Learn makes this incredibly easy, by using estimator objects. In this case we will import our estimator (the Multi-Layer Perceptron Classifier model) from the neural_network library of SciKit-Learn!"
      ]
    },
    {
      "cell_type": "code",
      "metadata": {
        "id": "W8a6kJINIPn_"
      },
      "source": [
        "from sklearn.neural_network import MLPClassifier"
      ],
      "execution_count": null,
      "outputs": []
    },
    {
      "cell_type": "code",
      "metadata": {
        "id": "K19fUpGbIPoE"
      },
      "source": [
        "mlp = MLPClassifier(hidden_layer_sizes=(100,100), learning_rate_init=0.001, max_iter=500, early_stopping=True, random_state=101)"
      ],
      "execution_count": null,
      "outputs": []
    },
    {
      "cell_type": "code",
      "metadata": {
        "id": "ev1nijW8IPoG"
      },
      "source": [
        "mlp.fit(X_train, y_train)"
      ],
      "execution_count": null,
      "outputs": []
    },
    {
      "cell_type": "markdown",
      "metadata": {
        "id": "7AXxEYRkIPoL"
      },
      "source": [
        "You can see the output that shows the default values of the other parameters in the model. I encourage you to play around with them and discover what effects they have on your model!\n",
        "\n",
        "## Predictions and Evaluation\n",
        "\n",
        "Now that we have a model it is time to use it to get predictions! We can do this simply with the predict() method off of our fitted model:"
      ]
    },
    {
      "cell_type": "code",
      "metadata": {
        "id": "zRMkvvGMIPoL"
      },
      "source": [
        "predictions = mlp.predict(X_test)"
      ],
      "execution_count": null,
      "outputs": []
    },
    {
      "cell_type": "code",
      "source": [
        "print(X.columns) # feature names\n",
        "print(y.unique().tolist()) # class names"
      ],
      "metadata": {
        "id": "c7CWTmHtX-kU"
      },
      "execution_count": null,
      "outputs": []
    },
    {
      "cell_type": "markdown",
      "metadata": {
        "id": "ykvisaOnIPoS"
      },
      "source": [
        "Now we can use SciKit-Learn's built in metrics such as a classification report and confusion matrix to evaluate how well our model performed:"
      ]
    },
    {
      "cell_type": "code",
      "metadata": {
        "id": "sh9TsG8oIPoS"
      },
      "source": [
        "from sklearn.metrics import classification_report, confusion_matrix"
      ],
      "execution_count": null,
      "outputs": []
    },
    {
      "cell_type": "code",
      "metadata": {
        "id": "ArkajBmXIPoW"
      },
      "source": [
        "print(confusion_matrix(y_test,predictions,labels=[0,1]))"
      ],
      "execution_count": null,
      "outputs": []
    },
    {
      "cell_type": "code",
      "metadata": {
        "id": "cDkp-WuvIPob"
      },
      "source": [
        "print(classification_report(y_test,predictions))"
      ],
      "execution_count": null,
      "outputs": []
    },
    {
      "cell_type": "markdown",
      "metadata": {
        "id": "uaPwrgcoIPoh"
      },
      "source": [
        "Not bad! Looks like we only miss-classified one bottle of wine in our test data! This is pretty good considering how few lines of code we had to write. The downside however to using a Multi-Layer Preceptron model is how difficult it is to interpret the model itself. The weights and biases won't be easily interpretable in relation to which features are important to the model itself.\n",
        "\n",
        "However, if you do want to extract the MLP weights and biases after training your model, you use its public attributes **coefs_** and **intercepts_**. \n",
        "\n",
        "**coefs_** is a list of weight matrices, where weight matrix at index i represents the weights between layer i and layer i+1. \n",
        "\n",
        "**intercepts_** is a list of bias vectors, where the vector at index i represents the bias values added to layer i+1."
      ]
    },
    {
      "cell_type": "code",
      "metadata": {
        "id": "CCCyysxEIPoi"
      },
      "source": [
        "len(mlp.coefs_)"
      ],
      "execution_count": null,
      "outputs": []
    },
    {
      "cell_type": "code",
      "metadata": {
        "id": "EcwLKyanIPom"
      },
      "source": [
        "len(mlp.coefs_[0])"
      ],
      "execution_count": null,
      "outputs": []
    },
    {
      "cell_type": "code",
      "metadata": {
        "id": "uol8s4-aIPoq"
      },
      "source": [
        "len(mlp.intercepts_[0])"
      ],
      "execution_count": null,
      "outputs": []
    },
    {
      "cell_type": "markdown",
      "source": [
        "## Pipeline"
      ],
      "metadata": {
        "id": "PfdLBpPxZWl7"
      }
    },
    {
      "cell_type": "code",
      "metadata": {
        "id": "7MRee4ZJPZxq"
      },
      "source": [
        "from sklearn.pipeline import Pipeline\n",
        "\n",
        "# scaler = StandardScaler()\n",
        "# mlp = MLPClassifier()\n",
        "\n",
        "estimators = [('scaler', scaler), ('mlp', mlp)]\n",
        "\n",
        "pipe = Pipeline(estimators)\n",
        "pipe"
      ],
      "execution_count": null,
      "outputs": []
    },
    {
      "cell_type": "code",
      "metadata": {
        "id": "s_66-WNxPwLr"
      },
      "source": [
        "pipe.fit(X_train, y_train)"
      ],
      "execution_count": null,
      "outputs": []
    },
    {
      "cell_type": "code",
      "metadata": {
        "id": "6-hVgDYEQLwJ"
      },
      "source": [
        "predictions = mlp.predict(X_test)\n",
        "print(classification_report(y_test,predictions))"
      ],
      "execution_count": null,
      "outputs": []
    },
    {
      "cell_type": "code",
      "source": [
        ""
      ],
      "metadata": {
        "id": "luIfGstdYmHm"
      },
      "execution_count": null,
      "outputs": []
    }
  ]
}