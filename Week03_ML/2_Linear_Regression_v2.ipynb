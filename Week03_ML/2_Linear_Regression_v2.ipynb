{
  "nbformat": 4,
  "nbformat_minor": 0,
  "metadata": {
    "colab": {
      "name": "2_Linear-Regression-v2.ipynb",
      "provenance": [],
      "collapsed_sections": []
    },
    "kernelspec": {
      "display_name": "Python 3",
      "language": "python",
      "name": "python3"
    }
  },
  "cells": [
    {
      "cell_type": "markdown",
      "metadata": {
        "id": "M63qpO6KD0O7"
      },
      "source": [
        "# Linear Regression with Python\n",
        "\n",
        "Reference: https://www.kaggle.com/gopalchettri/usa-housing-machine-learning-linear-regression, https://www.kaggle.com/code\n",
        "\n",
        "![](https://miro.medium.com/max/1200/1*N_8tfsb6pOJb71N8Mi5yvQ.png)\n",
        "\n",
        "Credit (Image and Good Read): https://towardsdatascience.com/regression-using-sklearn-on-kc-housing-dataset-1ac80ca3d6d4?gi=d6492b1463a1\n",
        "\n",
        "Your neighbor is a real estate agent and wants some help predicting housing prices for regions in the USA. It would be great if you could somehow create a model for her that allows her to put in a few features of a house and returns back an estimate of what the house would sell for.\n",
        "\n",
        "She has asked you if you could help her out with your new data science skills. You say yes, and decide that Linear Regression might be a good path to solve this problem!\n",
        "\n",
        "Your neighbor then gives you some information about a bunch of houses in regions of the United States,it is all in the data set: USA_Housing.csv.\n",
        "\n",
        "The data contains the following columns:\n",
        "\n",
        "* 'Avg. Area Income': Avg. Income of residents of the city house is located in.\n",
        "* 'Avg. Area House Age': Avg Age of Houses in same city\n",
        "* 'Avg. Area Number of Rooms': Avg Number of Rooms for Houses in same city\n",
        "* 'Avg. Area Number of Bedrooms': Avg Number of Bedrooms for Houses in same city\n",
        "* 'Area Population': Population of city house is located in\n",
        "* 'Price': Price that the house sold at\n",
        "* 'Address': Address for the house"
      ]
    },
    {
      "cell_type": "code",
      "source": [
        "!pip install --upgrade scikit-learn==1.0.2\n",
        "!pip install --upgrade numpy==1.21.5"
      ],
      "metadata": {
        "id": "7hkbgh5CeOuq"
      },
      "execution_count": null,
      "outputs": []
    },
    {
      "cell_type": "markdown",
      "metadata": {
        "id": "j-DLJO5XD0O9"
      },
      "source": [
        "**Let's get started!**\n",
        "## Check out the data\n",
        "We've been able to get some data from your neighbor for housing prices as a csv set, let's get our environment ready with the libraries we'll need and then import the data!\n",
        "### Import Libraries"
      ]
    },
    {
      "cell_type": "code",
      "metadata": {
        "id": "FgyNo-IrD0PA"
      },
      "source": [
        "import pandas as pd\n",
        "import numpy as np\n",
        "import matplotlib.pyplot as plt\n",
        "import seaborn as sns"
      ],
      "execution_count": null,
      "outputs": []
    },
    {
      "cell_type": "markdown",
      "metadata": {
        "id": "xPuSYn5UD0PG"
      },
      "source": [
        "### Check out the Data"
      ]
    },
    {
      "cell_type": "code",
      "metadata": {
        "id": "PA_dosuXHMwm"
      },
      "source": [
        "!rm USA_Housing.csv\n",
        "!wget https://github.com/davidjohnnn/all_datasets/raw/master/bay/USA_Housing.csv"
      ],
      "execution_count": null,
      "outputs": []
    },
    {
      "cell_type": "code",
      "metadata": {
        "id": "V_Gk2gGhD0PH"
      },
      "source": [
        "USAhousing = pd.read_csv('USA_Housing.csv')"
      ],
      "execution_count": null,
      "outputs": []
    },
    {
      "cell_type": "code",
      "metadata": {
        "id": "FU4EJfQSD0PQ"
      },
      "source": [
        "USAhousing.head()"
      ],
      "execution_count": null,
      "outputs": []
    },
    {
      "cell_type": "code",
      "metadata": {
        "id": "-BpyKgbhD0Pb"
      },
      "source": [
        "USAhousing.info()"
      ],
      "execution_count": null,
      "outputs": []
    },
    {
      "cell_type": "code",
      "metadata": {
        "id": "Ls_XUXkWD0Pg"
      },
      "source": [
        "USAhousing.describe()"
      ],
      "execution_count": null,
      "outputs": []
    },
    {
      "cell_type": "code",
      "metadata": {
        "id": "e9TCAU6FD0Pm"
      },
      "source": [
        "USAhousing.columns"
      ],
      "execution_count": null,
      "outputs": []
    },
    {
      "cell_type": "markdown",
      "metadata": {
        "id": "FLG_fkRID0Pp"
      },
      "source": [
        "# EDA\n",
        "\n",
        "Let's create some simple plots to check out the data!"
      ]
    },
    {
      "cell_type": "code",
      "metadata": {
        "id": "zP7TjetxD0Pr"
      },
      "source": [
        "sns.pairplot(USAhousing)"
      ],
      "execution_count": null,
      "outputs": []
    },
    {
      "cell_type": "code",
      "metadata": {
        "id": "wjr26m4ND0Pw"
      },
      "source": [
        "sns.distplot(USAhousing['Price'])"
      ],
      "execution_count": null,
      "outputs": []
    },
    {
      "cell_type": "code",
      "metadata": {
        "id": "2Bmof1sxD0P1"
      },
      "source": [
        "sns.heatmap(USAhousing.corr())"
      ],
      "execution_count": null,
      "outputs": []
    },
    {
      "cell_type": "markdown",
      "metadata": {
        "id": "NvzXZKH4D0P5"
      },
      "source": [
        "## Training a Linear Regression Model\n",
        "\n",
        "Let's now begin to train out regression model! We will need to first split up our data into an X array that contains the features to train on, and a y array with the target variable, in this case the Price column. We will toss out the Address column because it only has text info that the linear regression model can't use.\n",
        "\n",
        "### X and y arrays"
      ]
    },
    {
      "cell_type": "code",
      "metadata": {
        "id": "GaPJXV6FD0P9"
      },
      "source": [
        "X = USAhousing.drop(['Price','Address'],axis=1)\n",
        "y = USAhousing['Price']"
      ],
      "execution_count": null,
      "outputs": []
    },
    {
      "cell_type": "code",
      "source": [
        "X.head(3)"
      ],
      "metadata": {
        "id": "Yf4jk5CZSyaG"
      },
      "execution_count": null,
      "outputs": []
    },
    {
      "cell_type": "code",
      "source": [
        "y.head(3)"
      ],
      "metadata": {
        "id": "011GKgd9TDNa"
      },
      "execution_count": null,
      "outputs": []
    },
    {
      "cell_type": "markdown",
      "metadata": {
        "id": "MSmr7vkfD0QD"
      },
      "source": [
        "## Train Test Split\n",
        "\n",
        "Now let's split the data into a training set and a testing set. We will train out model on the training set and then use the test set to evaluate the model."
      ]
    },
    {
      "cell_type": "code",
      "metadata": {
        "id": "po16-453D0QG"
      },
      "source": [
        "from sklearn.model_selection import train_test_split"
      ],
      "execution_count": null,
      "outputs": []
    },
    {
      "cell_type": "code",
      "metadata": {
        "id": "LS-v7bAbD0QL"
      },
      "source": [
        "X_train, X_test, y_train, y_test = train_test_split(X, y, test_size=0.2, random_state=101)"
      ],
      "execution_count": null,
      "outputs": []
    },
    {
      "cell_type": "markdown",
      "metadata": {
        "id": "O-U-asikD0QP"
      },
      "source": [
        "## Creating and Training the Model"
      ]
    },
    {
      "cell_type": "code",
      "metadata": {
        "id": "BE4G3wUWD0QQ"
      },
      "source": [
        "from sklearn.linear_model import LinearRegression"
      ],
      "execution_count": null,
      "outputs": []
    },
    {
      "cell_type": "code",
      "metadata": {
        "id": "NYJybLUdD0QV"
      },
      "source": [
        "lm = LinearRegression()"
      ],
      "execution_count": null,
      "outputs": []
    },
    {
      "cell_type": "code",
      "metadata": {
        "id": "ipJ0QoxCD0QZ"
      },
      "source": [
        "lm.fit(X_train,y_train)"
      ],
      "execution_count": null,
      "outputs": []
    },
    {
      "cell_type": "markdown",
      "metadata": {
        "id": "jsiJMoUyD0Qf"
      },
      "source": [
        "## Model Evaluation\n",
        "\n",
        "Let's evaluate the model by checking out it's coefficients and how we can interpret them."
      ]
    },
    {
      "cell_type": "code",
      "metadata": {
        "id": "wBTXP3JPD0Qh"
      },
      "source": [
        "# print the intercept\n",
        "print(lm)\n",
        "print(lm.intercept_)\n",
        "print(lm.n_features_in_)\n",
        "print(lm.feature_names_in_)"
      ],
      "execution_count": null,
      "outputs": []
    },
    {
      "cell_type": "markdown",
      "metadata": {
        "id": "ysJ5lhJvF6-W"
      },
      "source": [
        "Interpreting the coefficients:"
      ]
    },
    {
      "cell_type": "code",
      "metadata": {
        "id": "G_GV-eMyD0Qn"
      },
      "source": [
        "coeff_df = pd.DataFrame(lm.coef_,lm.feature_names_in_,columns=['Coefficient'])\n",
        "coeff_df"
      ],
      "execution_count": null,
      "outputs": []
    },
    {
      "cell_type": "markdown",
      "metadata": {
        "id": "pgvmgOB5D0Qt"
      },
      "source": [
        "Does this make sense? Probably not because I made up this data. If you want real data to repeat this sort of analysis, check out the [boston dataset](http://scikit-learn.org/stable/modules/generated/sklearn.datasets.load_boston.html):\n",
        "\n"
      ]
    },
    {
      "cell_type": "markdown",
      "metadata": {
        "id": "ZSxWhllfD0Qv"
      },
      "source": [
        "    from sklearn.datasets import load_boston\n",
        "    boston = load_boston()\n",
        "    print(boston.DESCR)\n",
        "    boston_df = boston.data"
      ]
    },
    {
      "cell_type": "markdown",
      "metadata": {
        "id": "jRUYzjQ-D0Qw"
      },
      "source": [
        "## Predictions from our Model\n",
        "\n",
        "Let's grab predictions off our test set and see how well it did!"
      ]
    },
    {
      "cell_type": "code",
      "metadata": {
        "id": "9hGte1b3D0Qx"
      },
      "source": [
        "predictions = lm.predict(X_test)"
      ],
      "execution_count": null,
      "outputs": []
    },
    {
      "cell_type": "code",
      "metadata": {
        "id": "N6cppTUJD0Qz"
      },
      "source": [
        "plt.scatter(y_test,predictions)"
      ],
      "execution_count": null,
      "outputs": []
    },
    {
      "cell_type": "markdown",
      "metadata": {
        "id": "hqtEFZ-ED0Q6"
      },
      "source": [
        "**Residual Histogram**"
      ]
    },
    {
      "cell_type": "code",
      "metadata": {
        "id": "mSTwyd_GD0Q7"
      },
      "source": [
        "sns.distplot((y_test-predictions),bins=50);"
      ],
      "execution_count": null,
      "outputs": []
    },
    {
      "cell_type": "markdown",
      "metadata": {
        "id": "kxPXYZSuD0Q9"
      },
      "source": [
        "## Regression Evaluation Metrics\n",
        "\n",
        "\n",
        "Here are three common evaluation metrics for regression problems:\n",
        "\n",
        "**Mean Absolute Error** (MAE) is the mean of the absolute value of the errors:\n",
        "\n",
        "$$\\frac 1n\\sum_{i=1}^n|y_i-\\hat{y}_i|$$\n",
        "\n",
        "**Mean Squared Error** (MSE) is the mean of the squared errors:\n",
        "\n",
        "$$\\frac 1n\\sum_{i=1}^n(y_i-\\hat{y}_i)^2$$\n",
        "\n",
        "**Root Mean Squared Error** (RMSE) is the square root of the mean of the squared errors:\n",
        "\n",
        "$$\\sqrt{\\frac 1n\\sum_{i=1}^n(y_i-\\hat{y}_i)^2}$$\n",
        "\n",
        "Comparing these metrics:\n",
        "\n",
        "- **MAE** is the easiest to understand, because it's the average error.\n",
        "- **MSE** is more popular than MAE, because MSE \"punishes\" larger errors, which tends to be useful in the real world.\n",
        "- **RMSE** is even more popular than MSE, because RMSE is interpretable in the \"y\" units.\n",
        "\n",
        "All of these are **loss functions**, because we want to minimize them."
      ]
    },
    {
      "cell_type": "code",
      "metadata": {
        "id": "UWQ_9pKaD0Q_"
      },
      "source": [
        "from sklearn import metrics"
      ],
      "execution_count": null,
      "outputs": []
    },
    {
      "cell_type": "code",
      "metadata": {
        "id": "B1VfhH99D0RC"
      },
      "source": [
        "print('MAE:', metrics.mean_absolute_error(y_test, predictions))\n",
        "print('MSE:', metrics.mean_squared_error(y_test, predictions))\n",
        "print('RMSE:', np.sqrt(metrics.mean_squared_error(y_test, predictions)))"
      ],
      "execution_count": null,
      "outputs": []
    },
    {
      "cell_type": "markdown",
      "metadata": {
        "id": "AyjGW4DTD0RF"
      },
      "source": [
        "This was your first real Machine Learning Project! Congrats on helping your neighbor out! We'll let this end here for now, but go ahead and explore the Boston Dataset mentioned earlier if this particular data set was interesting to you!"
      ]
    }
  ]
}