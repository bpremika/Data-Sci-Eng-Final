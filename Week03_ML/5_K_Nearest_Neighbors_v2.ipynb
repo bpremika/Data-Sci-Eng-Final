{
  "nbformat": 4,
  "nbformat_minor": 0,
  "metadata": {
    "colab": {
      "name": "5_K_Nearest_Neighbors-v2.ipynb",
      "provenance": [],
      "collapsed_sections": []
    },
    "kernelspec": {
      "name": "python3",
      "display_name": "Python 3"
    }
  },
  "cells": [
    {
      "cell_type": "markdown",
      "metadata": {
        "id": "61-PPUMgqqkh"
      },
      "source": [
        "# **1. Load Iris Plants Dataset**\n",
        "\n",
        "Reference: https://www.kaggle.com/code"
      ]
    },
    {
      "cell_type": "code",
      "source": [
        "!pip install --upgrade scikit-learn==1.0.2\n",
        "!pip install --upgrade numpy==1.21.5"
      ],
      "metadata": {
        "id": "ToqElyT3ghwT"
      },
      "execution_count": null,
      "outputs": []
    },
    {
      "cell_type": "code",
      "metadata": {
        "id": "0gmoyL_xjB11"
      },
      "source": [
        "import time\n",
        "import datetime\n",
        "import numpy as np\n",
        "import pandas as pd\n",
        "import matplotlib.pyplot as plt\n",
        "plt.style.use('seaborn')\n",
        "\n",
        "# Load dataset\n",
        "from sklearn.datasets import load_iris\n",
        "iris = load_iris()\n",
        "iris_df =  pd.DataFrame(iris.data, columns=iris.feature_names)\n",
        "iris_df['target'] = iris.target\n",
        "iris_df['target_names'] = [iris.target_names[t] for t in iris.target]\n",
        "target_col = 'target'\n",
        "feature_col = iris.feature_names"
      ],
      "execution_count": null,
      "outputs": []
    },
    {
      "cell_type": "code",
      "metadata": {
        "id": "JqsIqge2pZKu"
      },
      "source": [
        "iris_df.head()"
      ],
      "execution_count": null,
      "outputs": []
    },
    {
      "cell_type": "markdown",
      "metadata": {
        "id": "mCptmMCvcq3v"
      },
      "source": [
        "<u>**Data Set Characteristics**</u>\n",
        "\n",
        "**Number of Instances**: 150 (50 in each of three classes)  \n",
        "**Number of Attributes**: 4 numeric, predictive attributes and the class  \n",
        "\n",
        "<u>**Attribute Information**</u>\n",
        "- sepal length in cm  \n",
        "- sepal width in cm  \n",
        "- petal length in cm  \n",
        "- petal width in cm  \n",
        "- class:  \n",
        "  - Iris-Setosa  \n",
        "  - Iris-Versicolour  \n",
        "  - Iris-Virginica  \n",
        "\n",
        "<u>**Summary Statistics**</u>\n",
        "\n",
        "| Features | Min | Max | Mean | SD | Class Correlation |\n",
        "|-:|-:|-:|-:|-:|-:|\n",
        "| sepal length | 4.3 | 7.9 | 5.84 | 0.83 | 0.7826 |\n",
        "| sepal width | 2.0 | 4.4 | 3.05 | 0.43 | -0.4194 |\n",
        "| petal length | 1.0 | 6.9 | 3.76 | 1.76 | 0.9490 (high!) |\n",
        "| petal width | 0.1 | 2.5 | 1.20 | 0.76 | 0.9565 (high!) |\n",
        "\n",
        "**Missing Attribute Values**: None  \n",
        "**Class Distribution**: 33.3% for each of 3 classes.  \n",
        "**Creator**: R.A. Fisher  \n",
        "**Donor**: Michael Marshall (MARSHALL%PLU@io.arc.nasa.gov)  \n",
        "**Date**: July, 1988  \n",
        "\n",
        "The famous Iris database, first used by Sir R.A. Fisher. The dataset is taken\n",
        "from Fisher's paper. Note that it's the same as in R, but not as in the UCI\n",
        "Machine Learning Repository, which has two wrong data points.  \n",
        "\n",
        "This is perhaps the best known database to be found in the\n",
        "pattern recognition literature.  Fisher's paper is a classic in the field and\n",
        "is referenced frequently to this day.  (See Duda & Hart, for example.)  The\n",
        "data set contains 3 classes of 50 instances each, where each class refers to a\n",
        "type of iris plant.  One class is linearly separable from the other 2; the\n",
        "latter are NOT linearly separable from each other.  \n",
        "\n",
        "**References**\n",
        "- Fisher, R.A. \"The use of multiple measurements in taxonomic problems\"\n",
        "  Annual Eugenics, 7, Part II, 179-188 (1936); also in \"Contributions to\n",
        "  Mathematical Statistics\" (John Wiley, NY, 1950).\n",
        "- Duda, R.O., & Hart, P.E. (1973) Pattern Classification and Scene Analysis.\n",
        "  (Q327.D83) John Wiley & Sons.  ISBN 0-471-22361-1.  See page 218.\n",
        "- Dasarathy, B.V. (1980) \"Nosing Around the Neighborhood: A New System\n",
        "  Structure and Classification Rule for Recognition in Partially Exposed\n",
        "  Environments\".  IEEE Transactions on Pattern Analysis and Machine\n",
        "  Intelligence, Vol. PAMI-2, No. 1, 67-71.\n",
        "- Gates, G.W. (1972) \"The Reduced Nearest Neighbor Rule\".  IEEE Transactions\n",
        "  on Information Theory, May 1972, 431-433.\n",
        "- See also: 1988 MLC Proceedings, 54-64.  Cheeseman et al\"s AUTOCLASS II\n",
        "  conceptual clustering system finds 3 classes in the data.\n",
        "- Many, many more ..."
      ]
    },
    {
      "cell_type": "code",
      "metadata": {
        "id": "q7h0AeXWrEF6"
      },
      "source": [
        "from sklearn.model_selection import train_test_split\n",
        "\n",
        "X = iris_df[feature_col]\n",
        "y = iris_df[target_col]\n",
        "\n",
        "X_train, X_test, y_train, y_test = train_test_split(X, y, stratify=y, test_size=0.30, random_state=30)"
      ],
      "execution_count": null,
      "outputs": []
    },
    {
      "cell_type": "markdown",
      "metadata": {
        "id": "FDubfLPmq3E3"
      },
      "source": [
        "# **2. K-Nearest Neighbors**"
      ]
    },
    {
      "cell_type": "markdown",
      "metadata": {
        "id": "8TD4KhMda1kc"
      },
      "source": [
        "For Classification: https://scikit-learn.org/stable/modules/generated/sklearn.neighbors.KNeighborsClassifier.html  \n",
        "For Regression: https://scikit-learn.org/stable/modules/generated/sklearn.neighbors.KNeighborsRegressor.html  "
      ]
    },
    {
      "cell_type": "code",
      "metadata": {
        "id": "VE-SheNMpZFx"
      },
      "source": [
        "from sklearn.neighbors import KNeighborsClassifier"
      ],
      "execution_count": null,
      "outputs": []
    },
    {
      "cell_type": "markdown",
      "metadata": {
        "id": "atKKHdFJtT68"
      },
      "source": [
        "**Suggest Parameters**  \n",
        "\n",
        "* **n_neighbors**: 4\n",
        "* **weights**: distance"
      ]
    },
    {
      "cell_type": "code",
      "metadata": {
        "id": "Ti4QPqsMxPFP"
      },
      "source": [
        "n_neighbors = 5 #@param {type:\"slider\", min:1, max:10, step:1}\n",
        "weights = 'distance'  #@param ['uniform', 'distance']\n",
        "\n",
        "knn = KNeighborsClassifier(\n",
        "    n_neighbors=n_neighbors,\n",
        "    weights=weights,\n",
        ")\n",
        "\n",
        "knn.fit(X_train, y_train)"
      ],
      "execution_count": null,
      "outputs": []
    },
    {
      "cell_type": "code",
      "metadata": {
        "id": "b8UWKO1fx6X-"
      },
      "source": [
        "# Predict as Class\n",
        "train_predict = knn.predict(X_train)\n",
        "test_predict = knn.predict(X_test)\n",
        "\n",
        "# Predict as Probability\n",
        "train_predict_prob = knn.predict_proba(X_train)"
      ],
      "execution_count": null,
      "outputs": []
    },
    {
      "cell_type": "code",
      "metadata": {
        "id": "xRPsnYPkx92C"
      },
      "source": [
        "# Show first 10 prediction\n",
        "print(train_predict[:10])\n",
        "\n",
        "# Probability of 0/1\n",
        "print(train_predict_prob[:10])"
      ],
      "execution_count": null,
      "outputs": []
    },
    {
      "cell_type": "code",
      "metadata": {
        "id": "GNicAJHMyAXc"
      },
      "source": [
        "# Actual Target\n",
        "y_train[:10].tolist()"
      ],
      "execution_count": null,
      "outputs": []
    },
    {
      "cell_type": "code",
      "metadata": {
        "id": "vFeAMldJy64z"
      },
      "source": [
        "from sklearn.metrics import confusion_matrix\n",
        "\n",
        "confusion_matrix(y_test, test_predict, labels=[0, 1])"
      ],
      "execution_count": null,
      "outputs": []
    },
    {
      "cell_type": "code",
      "metadata": {
        "id": "714g8NA6y2Cp"
      },
      "source": [
        "from sklearn.metrics import classification_report\n",
        "\n",
        "print(classification_report(y_test, test_predict , digits=4))"
      ],
      "execution_count": null,
      "outputs": []
    },
    {
      "cell_type": "markdown",
      "metadata": {
        "id": "LPmiKU2j8Myk"
      },
      "source": [
        "# **3. Visualization**"
      ]
    },
    {
      "cell_type": "markdown",
      "metadata": {
        "id": "PAz5Nr2hbEKy"
      },
      "source": [
        "Adapt from: https://scikit-learn.org/stable/auto_examples/neighbors/plot_classification.html"
      ]
    },
    {
      "cell_type": "code",
      "metadata": {
        "id": "NlUPA3KgyyGf"
      },
      "source": [
        "#@markdown # **Select parameters to plot**\n",
        "#@markdown **(On simplyfied model for visualization - 2 variables)**\n",
        "n_neighbors = 7 #@param {type:\"slider\", min:1, max:10, step:1}\n",
        "weights = 'distance'  #@param ['uniform', 'distance']\n",
        "x_label = 'sepal length (cm)' #@param ['sepal length (cm)', 'sepal width (cm)', 'petal length (cm)', 'petal width (cm)']\n",
        "y_label = 'sepal width (cm)' #@param ['sepal length (cm)', 'sepal width (cm)', 'petal length (cm)', 'petal width (cm)']\n",
        "\n",
        "x_idx = iris_df.columns.to_list().index(x_label)\n",
        "y_idx = iris_df.columns.to_list().index(y_label) \n",
        "\n",
        "from matplotlib import cm\n",
        "from matplotlib.colors import ListedColormap\n",
        "cmap_val = np.linspace(0.0, 1.0, 20)\n",
        "cmap_light = ListedColormap(cm.get_cmap(plt.get_cmap('tab20'))(cmap_val)[1:7:2])\n",
        "cmap_bold = ListedColormap(cm.get_cmap(plt.get_cmap('tab20'))(cmap_val)[:6:2])\n",
        "h = .02  # step size in the mesh\n",
        "\n",
        "model = KNeighborsClassifier(n_neighbors=n_neighbors, weights=weights)\n",
        "model.fit(iris_df.iloc[:, [x_idx, y_idx]], iris_df[target_col])\n",
        "x_min, x_max = iris_df.iloc[:, x_idx].min() - 1, iris_df.iloc[:, x_idx].max() + 1\n",
        "y_min, y_max = iris_df.iloc[:, y_idx].min() - 1, iris_df.iloc[:, y_idx].max() + 1\n",
        "xx, yy = np.meshgrid(\n",
        "  np.arange(x_min, x_max, h),\n",
        "  np.arange(y_min, y_max, h)\n",
        ")\n",
        "Z = model.predict(np.c_[xx.ravel(), yy.ravel()])\n",
        "\n",
        "# Put the result into a color plot\n",
        "Z = Z.reshape(xx.shape)\n",
        "plt.figure(figsize=(8, 8), dpi=80)\n",
        "plt.pcolormesh(xx, yy, Z, cmap=cmap_light)\n",
        "\n",
        "# Plot also the training points\n",
        "plt.scatter(\n",
        "  iris_df.iloc[:, x_idx],\n",
        "  iris_df.iloc[:, y_idx],\n",
        "  c=iris_df[target_col],\n",
        "  cmap=cmap_bold,\n",
        "  edgecolor='k',\n",
        "  s=60\n",
        ")\n",
        "plt.xlabel(x_label)\n",
        "plt.xlim(xx.min(), xx.max())\n",
        "plt.ylabel(y_label)\n",
        "plt.ylim(yy.min(), yy.max())\n",
        "plt.title(\"3-Class classification (k = %i, weights = '%s')\"\n",
        "          % (n_neighbors, weights))\n",
        "plt.show()"
      ],
      "execution_count": null,
      "outputs": []
    },
    {
      "cell_type": "markdown",
      "metadata": {
        "id": "wGmGyTCNq5l-"
      },
      "source": [
        "# **4. Find the best K value**"
      ]
    },
    {
      "cell_type": "markdown",
      "metadata": {
        "id": "fcIhDcwBaiXf"
      },
      "source": [
        "## 4.1 Grid Search"
      ]
    },
    {
      "cell_type": "markdown",
      "metadata": {
        "id": "HhUu-XMvawbs"
      },
      "source": [
        "https://scikit-learn.org/stable/modules/generated/sklearn.model_selection.GridSearchCV.html"
      ]
    },
    {
      "cell_type": "code",
      "metadata": {
        "id": "NELOJyuGakdQ"
      },
      "source": [
        "from sklearn.model_selection import GridSearchCV"
      ],
      "execution_count": null,
      "outputs": []
    },
    {
      "cell_type": "code",
      "metadata": {
        "id": "OjrAKBY8bSPo"
      },
      "source": [
        "grid_search = GridSearchCV(\n",
        "    estimator=KNeighborsClassifier(),\n",
        "    param_grid=dict(\n",
        "        n_neighbors=[1,2,3,4,5,6,7,8,9,10],\n",
        "        weights=['uniform', 'distance'],\n",
        "    ),\n",
        "    scoring='f1_weighted',\n",
        "    cv=5,\n",
        "    n_jobs=-1 # Parallel\n",
        ")\n",
        "\n",
        "grid_start_time = time.time()\n",
        "grid_search.fit(X_train, y_train)\n",
        "grid_end_time = time.time()\n",
        "print(f\"Searching Time: {datetime.timedelta(seconds=grid_end_time-grid_start_time)}\")"
      ],
      "execution_count": null,
      "outputs": []
    },
    {
      "cell_type": "code",
      "metadata": {
        "id": "0rL9fCEfckIA"
      },
      "source": [
        "# Get Searching Result\n",
        "grid_search_result = grid_search.cv_results_\n",
        "pd.DataFrame.from_dict(grid_search_result)"
      ],
      "execution_count": null,
      "outputs": []
    },
    {
      "cell_type": "code",
      "metadata": {
        "id": "69NOmiKddFBM"
      },
      "source": [
        "# Best Trained Model \n",
        "model = grid_search.best_estimator_"
      ],
      "execution_count": null,
      "outputs": []
    },
    {
      "cell_type": "code",
      "metadata": {
        "id": "iB151LH7-Q2I"
      },
      "source": [
        "# Predict with the best model\n",
        "y_pred = model.predict(X_test)\n",
        "y_pred[:10]"
      ],
      "execution_count": null,
      "outputs": []
    },
    {
      "cell_type": "markdown",
      "metadata": {
        "id": "bCrpE4Tnammg"
      },
      "source": [
        "## 4.2 Randomized Search"
      ]
    },
    {
      "cell_type": "markdown",
      "metadata": {
        "id": "sxgSgkavax0Z"
      },
      "source": [
        "https://scikit-learn.org/stable/modules/generated/sklearn.model_selection.RandomizedSearchCV.html"
      ]
    },
    {
      "cell_type": "code",
      "metadata": {
        "id": "fzfJ7zkHGOIs"
      },
      "source": [
        "from sklearn.model_selection import RandomizedSearchCV"
      ],
      "execution_count": null,
      "outputs": []
    },
    {
      "cell_type": "code",
      "metadata": {
        "id": "a3nLZIcDbRyF"
      },
      "source": [
        "rand_search = RandomizedSearchCV(\n",
        "    estimator=KNeighborsClassifier(),\n",
        "    param_distributions=dict(\n",
        "        n_neighbors=[1,2,3,4,5,6,7,8,9,10],\n",
        "        weights=['uniform', 'distance'],\n",
        "    ),\n",
        "    scoring='f1_weighted',\n",
        "    cv=5,\n",
        "    n_jobs=-1\n",
        ")\n",
        "\n",
        "rand_start_time = time.time()\n",
        "rand_search.fit(X_train, y_train)\n",
        "rand_end_time = time.time()\n",
        "print(f\"Searching Time: {datetime.timedelta(seconds=rand_end_time-rand_start_time)}\")"
      ],
      "execution_count": null,
      "outputs": []
    },
    {
      "cell_type": "code",
      "metadata": {
        "id": "gKl2ZW6DdbgF"
      },
      "source": [
        "# Get Searching Result\n",
        "rand_search_result = rand_search.cv_results_\n",
        "pd.DataFrame.from_dict(rand_search_result)"
      ],
      "execution_count": null,
      "outputs": []
    },
    {
      "cell_type": "code",
      "metadata": {
        "id": "B1niOzfcdgEA"
      },
      "source": [
        "# Best Trained Model \n",
        "model = rand_search.best_estimator_"
      ],
      "execution_count": null,
      "outputs": []
    },
    {
      "cell_type": "code",
      "metadata": {
        "id": "wtcV-W5z_w9z"
      },
      "source": [
        "# Predict with the best model\n",
        "y_pred = model.predict(X_test)\n",
        "y_pred[:10]"
      ],
      "execution_count": null,
      "outputs": []
    }
  ]
}