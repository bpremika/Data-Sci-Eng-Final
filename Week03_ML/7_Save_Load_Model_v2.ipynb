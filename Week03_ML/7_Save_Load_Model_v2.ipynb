{
  "nbformat": 4,
  "nbformat_minor": 0,
  "metadata": {
    "colab": {
      "name": "7_Save_Load_Model-v2.ipynb",
      "provenance": [],
      "collapsed_sections": []
    },
    "kernelspec": {
      "name": "python3",
      "display_name": "Python 3"
    }
  },
  "cells": [
    {
      "cell_type": "markdown",
      "source": [
        "# Save and Load Machine Learning Models in Python with scikit-learn\n",
        "\n",
        "Reference: https://www.kaggle.com/code, https://machinelearningmastery.com/save-load-machine-learning-models-python-scikit-learn/\n",
        "\n",
        "![](https://machinelearningmastery.com/wp-content/uploads/2016/06/Save-and-Load-Machine-Learning-Models-in-Python-with-scikit-learn.jpg)"
      ],
      "metadata": {
        "id": "Vnpc6NOnqAZg"
      }
    },
    {
      "cell_type": "code",
      "source": [
        "!pip install --upgrade scikit-learn==1.0.2\n",
        "!pip install --upgrade numpy==1.21.5"
      ],
      "metadata": {
        "id": "_3jKat-9hpZy"
      },
      "execution_count": null,
      "outputs": []
    },
    {
      "cell_type": "code",
      "metadata": {
        "id": "n53-QfFtnPlE"
      },
      "source": [
        "import time\n",
        "import datetime\n",
        "import numpy as np\n",
        "import pandas as pd\n",
        "import matplotlib.pyplot as plt\n",
        "plt.style.use('seaborn')\n",
        "\n",
        "# Load dataset\n",
        "from sklearn.datasets import load_iris\n",
        "iris = load_iris()\n",
        "iris_df =  pd.DataFrame(iris.data, columns=iris.feature_names)\n",
        "iris_df['target_names'] = [iris.target_names[t] for t in iris.target]\n",
        "\n",
        "feature_col = iris.feature_names\n",
        "iris_df.head()"
      ],
      "execution_count": null,
      "outputs": []
    },
    {
      "cell_type": "markdown",
      "metadata": {
        "id": "5azFMnRGjpOB"
      },
      "source": [
        "# **Build Simple Decision Tree**"
      ]
    },
    {
      "cell_type": "code",
      "metadata": {
        "id": "tLjy6UBMjYjl"
      },
      "source": [
        "from sklearn.tree import DecisionTreeClassifier\n",
        "dtree = DecisionTreeClassifier()\n",
        "dtree.fit(iris_df[feature_col], iris_df['target_names'])"
      ],
      "execution_count": null,
      "outputs": []
    },
    {
      "cell_type": "code",
      "metadata": {
        "id": "1N3Kv9-kjg86"
      },
      "source": [
        "y_pred = dtree.predict(iris_df[feature_col])\n",
        "y_pred[:10]"
      ],
      "execution_count": null,
      "outputs": []
    },
    {
      "cell_type": "markdown",
      "metadata": {
        "id": "Pa-gNddWmB6F"
      },
      "source": [
        "`pickle` is library to save/load <u>most of variables</u> in python."
      ]
    },
    {
      "cell_type": "code",
      "metadata": {
        "id": "8g_eapjejoov"
      },
      "source": [
        "import pickle"
      ],
      "execution_count": null,
      "outputs": []
    },
    {
      "cell_type": "code",
      "metadata": {
        "id": "hk7-cKRnjOxP"
      },
      "source": [
        "# Open file - Write binary mode\n",
        "model_file = open('dtree.model', 'wb')\n",
        "\n",
        "# Save Decision tree model\n",
        "pickle.dump(dtree, model_file)\n",
        "\n",
        "# Close file\n",
        "model_file.close()"
      ],
      "execution_count": null,
      "outputs": []
    },
    {
      "cell_type": "markdown",
      "metadata": {
        "id": "hRCylmUlk8Gv"
      },
      "source": [
        "# **Restart your runtime**\n",
        "\n",
        "- Menu > Runtime > Restart runtime  \n",
        "\n",
        "Run Code below. `dtree` was gone."
      ]
    },
    {
      "cell_type": "code",
      "metadata": {
        "id": "e-vlWiXZlQho"
      },
      "source": [
        "dtree"
      ],
      "execution_count": null,
      "outputs": []
    },
    {
      "cell_type": "markdown",
      "metadata": {
        "id": "40sedxJ6ktmp"
      },
      "source": [
        "# **Check your file**"
      ]
    },
    {
      "cell_type": "code",
      "metadata": {
        "id": "0RauQ450k0oD"
      },
      "source": [
        "# List file\n",
        "!ls"
      ],
      "execution_count": null,
      "outputs": []
    },
    {
      "cell_type": "markdown",
      "metadata": {
        "id": "m5VA011kk48f"
      },
      "source": [
        "# **Load Saved Model**"
      ]
    },
    {
      "cell_type": "code",
      "metadata": {
        "id": "MYj0TuYzniGl"
      },
      "source": [
        "import time\n",
        "import datetime\n",
        "import numpy as np\n",
        "import pandas as pd\n",
        "import matplotlib.pyplot as plt\n",
        "plt.style.use('seaborn')\n",
        "\n",
        "# Load dataset\n",
        "from sklearn.datasets import load_iris\n",
        "iris = load_iris()\n",
        "iris_df =  pd.DataFrame(iris.data, columns=iris.feature_names)\n",
        "\n",
        "feature_col = iris.feature_names"
      ],
      "execution_count": null,
      "outputs": []
    },
    {
      "cell_type": "code",
      "metadata": {
        "id": "aZe0n-bMlrny"
      },
      "source": [
        "import pickle\n",
        "\n",
        "# Open file - Read binary mode\n",
        "model_file = open('dtree.model', 'rb')\n",
        "\n",
        "# Load your model\n",
        "dtree = pickle.load(model_file)\n",
        "\n",
        "# Close file\n",
        "model_file.close()"
      ],
      "execution_count": null,
      "outputs": []
    },
    {
      "cell_type": "code",
      "metadata": {
        "id": "PC90BsBEmY9e"
      },
      "source": [
        "dtree"
      ],
      "execution_count": null,
      "outputs": []
    },
    {
      "cell_type": "code",
      "metadata": {
        "id": "rIzxUnT-mhHU"
      },
      "source": [
        "y_pred = dtree.predict(iris_df[feature_col])\n",
        "y_pred[:10]"
      ],
      "execution_count": null,
      "outputs": []
    },
    {
      "cell_type": "markdown",
      "metadata": {
        "id": "KBTVImsnmk-i"
      },
      "source": [
        "![alt text](https://media.tenor.com/images/c915dfc637593da5bf489a7b7c897931/tenor.gif)"
      ]
    }
  ]
}