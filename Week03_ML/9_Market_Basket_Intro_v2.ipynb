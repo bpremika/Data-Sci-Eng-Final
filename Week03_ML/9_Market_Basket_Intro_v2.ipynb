{
  "nbformat": 4,
  "nbformat_minor": 0,
  "metadata": {
    "colab": {
      "name": "9_Market_Basket_Intro-v2.ipynb",
      "provenance": [],
      "collapsed_sections": []
    },
    "kernelspec": {
      "display_name": "Python 3",
      "language": "python",
      "name": "python3"
    }
  },
  "cells": [
    {
      "cell_type": "markdown",
      "metadata": {
        "id": "RG03dq1MFWvg"
      },
      "source": [
        "## Market Basket Analysis Introduction\n",
        "\n",
        "Reference: https://www.kaggle.com/code, http://pbpython.com/market-basket-analysis.html"
      ]
    },
    {
      "cell_type": "markdown",
      "metadata": {
        "id": "QHDBW9jI1Iy8"
      },
      "source": [
        "![alt text](http://pbpython.com/images/market-basket.png)"
      ]
    },
    {
      "cell_type": "code",
      "metadata": {
        "id": "3Z8azNJ_LqAG"
      },
      "source": [
        "# Required library\n",
        "!pip install mlxtend\n",
        "!pip install xlrd\n",
        "!pip install --upgrade scikit-learn==1.0.2\n",
        "!pip install --upgrade numpy==1.21.5"
      ],
      "execution_count": null,
      "outputs": []
    },
    {
      "cell_type": "code",
      "metadata": {
        "id": "2nahgy5WFWvi"
      },
      "source": [
        "import pandas as pd\n",
        "from mlxtend.frequent_patterns import apriori\n",
        "from mlxtend.frequent_patterns import association_rules"
      ],
      "execution_count": null,
      "outputs": []
    },
    {
      "cell_type": "code",
      "metadata": {
        "id": "vBa4NgWIFWvs"
      },
      "source": [
        "df = pd.read_excel('https://github.com/davidjohnnn/all_datasets/raw/master/bay/Online_Retail.xlsx')"
      ],
      "execution_count": null,
      "outputs": []
    },
    {
      "cell_type": "code",
      "metadata": {
        "id": "xip63EKAFWvx"
      },
      "source": [
        "df.head()"
      ],
      "execution_count": null,
      "outputs": []
    },
    {
      "cell_type": "code",
      "metadata": {
        "id": "9fiDV8LmFWv6"
      },
      "source": [
        "# Clean up spaces in description and remove any rows that don't have a valid invoice\n",
        "df['Description'] = df['Description'].str.strip()\n",
        "df.dropna(axis=0, subset=['InvoiceNo'], inplace=True)"
      ],
      "execution_count": null,
      "outputs": []
    },
    {
      "cell_type": "code",
      "metadata": {
        "id": "z3Nrovv_FWwA"
      },
      "source": [
        "# Remove the credit transactions (those with invoice numbers containing C)\n",
        "df['InvoiceNo'] = df['InvoiceNo'].astype('str')\n",
        "df = df[~df['InvoiceNo'].str.contains('C')]"
      ],
      "execution_count": null,
      "outputs": []
    },
    {
      "cell_type": "code",
      "metadata": {
        "id": "6m2TgMPcFWwH"
      },
      "source": [
        "# Only looking at sales for France. However, in additional code below, I will compare these results to sales from Germany\n",
        "basket = (df[df['Country'] ==\"France\"]\n",
        "          .groupby(['InvoiceNo', 'Description'])['Quantity']\n",
        "          .sum().unstack().reset_index().fillna(0)\n",
        "          .set_index('InvoiceNo'))"
      ],
      "execution_count": null,
      "outputs": []
    },
    {
      "cell_type": "code",
      "metadata": {
        "id": "CapdktMVFWwM"
      },
      "source": [
        "basket.head()"
      ],
      "execution_count": null,
      "outputs": []
    },
    {
      "cell_type": "code",
      "metadata": {
        "id": "YBq8dgaMFWwV"
      },
      "source": [
        "# Show a subset of columns\n",
        "basket.iloc[:,[0,1,2,3,4,5,6, 7]].head()"
      ],
      "execution_count": null,
      "outputs": []
    },
    {
      "cell_type": "code",
      "metadata": {
        "id": "JBkbKh79FWwe"
      },
      "source": [
        "# There are a lot of zeros in the data but we also need to make sure any positive values are converted to a 1 and anything less the 0 is set to 0.\n",
        "\n",
        "# Convert the units to 1 hot encoded values\n",
        "def encode_units(x):\n",
        "    if x <= 0:\n",
        "        return 0\n",
        "    if x >= 1:\n",
        "        return 1\n",
        "      \n",
        "# Convert to one hot vector\n",
        "basket_sets = basket.applymap(encode_units) # lambda ?"
      ],
      "execution_count": null,
      "outputs": []
    },
    {
      "cell_type": "code",
      "metadata": {
        "id": "0Ew2fmxyFWwl"
      },
      "source": [
        "# No need to track postage\n",
        "# Remove column \"Postage\" (1 column)\n",
        "basket_sets.drop('POSTAGE', inplace=True, axis=1)"
      ],
      "execution_count": null,
      "outputs": []
    },
    {
      "cell_type": "code",
      "metadata": {
        "id": "MfRC5F0ZFWwp"
      },
      "source": [
        "basket_sets.head()"
      ],
      "execution_count": null,
      "outputs": []
    },
    {
      "cell_type": "code",
      "metadata": {
        "id": "uSkPO4DOFWwx"
      },
      "source": [
        "# Build up the frequent items\n",
        "frequent_itemsets = apriori(basket_sets, min_support=0.07, use_colnames=True)"
      ],
      "execution_count": null,
      "outputs": []
    },
    {
      "cell_type": "code",
      "metadata": {
        "id": "0uB_7YFnFWw4"
      },
      "source": [
        "frequent_itemsets.head()"
      ],
      "execution_count": null,
      "outputs": []
    },
    {
      "cell_type": "code",
      "metadata": {
        "id": "h63I-bTuFWw9"
      },
      "source": [
        "# Create the rules\n",
        "rules = association_rules(frequent_itemsets, metric=\"lift\", min_threshold=1)\n",
        "rules.head()"
      ],
      "execution_count": null,
      "outputs": []
    },
    {
      "cell_type": "code",
      "metadata": {
        "id": "KthlglZaFWxC"
      },
      "source": [
        "rules[ (rules['lift'] >= 6) &\n",
        "       (rules['confidence'] >= 0.8) ]"
      ],
      "execution_count": null,
      "outputs": []
    },
    {
      "cell_type": "code",
      "metadata": {
        "id": "Ahuc1OgYFWxH"
      },
      "source": [
        "basket['ALARM CLOCK BAKELIKE GREEN'].sum()"
      ],
      "execution_count": null,
      "outputs": []
    },
    {
      "cell_type": "code",
      "metadata": {
        "id": "As2id6F1FWxN"
      },
      "source": [
        "basket['ALARM CLOCK BAKELIKE RED'].sum()"
      ],
      "execution_count": null,
      "outputs": []
    },
    {
      "cell_type": "code",
      "metadata": {
        "id": "pT2X7bjz3Vuo"
      },
      "source": [
        "# What is also interesting is to see how the combinations vary by country of purchase.\n",
        "# Let’s check out what some popular combinations might be in Germany"
      ],
      "execution_count": null,
      "outputs": []
    },
    {
      "cell_type": "code",
      "metadata": {
        "id": "_ASR9cAPFWxT"
      },
      "source": [
        "basket2 = (df[df['Country'] ==\"Germany\"]\n",
        "          .groupby(['InvoiceNo', 'Description'])['Quantity']\n",
        "          .sum().unstack().reset_index().fillna(0)\n",
        "          .set_index('InvoiceNo'))"
      ],
      "execution_count": null,
      "outputs": []
    },
    {
      "cell_type": "code",
      "metadata": {
        "id": "ff54zVAhFWxY"
      },
      "source": [
        "# Convert to one hot vector\n",
        "basket_sets2 = basket2.applymap(encode_units)"
      ],
      "execution_count": null,
      "outputs": []
    },
    {
      "cell_type": "code",
      "metadata": {
        "id": "_pkHKQZ8FWxa"
      },
      "source": [
        "basket_sets2.drop('POSTAGE', inplace=True, axis=1)"
      ],
      "execution_count": null,
      "outputs": []
    },
    {
      "cell_type": "code",
      "metadata": {
        "id": "NAxLHa6mFWxd"
      },
      "source": [
        "frequent_itemsets2 = apriori(basket_sets2, min_support=0.05, use_colnames=True)"
      ],
      "execution_count": null,
      "outputs": []
    },
    {
      "cell_type": "code",
      "metadata": {
        "id": "lk95w6N2FWxg"
      },
      "source": [
        "rules2 = association_rules(frequent_itemsets2, metric=\"lift\", min_threshold=1)\n",
        "rules2.head()"
      ],
      "execution_count": null,
      "outputs": []
    },
    {
      "cell_type": "code",
      "metadata": {
        "id": "xuAzC0j1FWxk"
      },
      "source": [
        "rules2[ (rules2['lift'] >= 4) &\n",
        "        (rules2['confidence'] >= 0.5) ]"
      ],
      "execution_count": null,
      "outputs": []
    },
    {
      "cell_type": "code",
      "metadata": {
        "id": "em_S2jioUuFt"
      },
      "source": [
        ""
      ],
      "execution_count": null,
      "outputs": []
    }
  ]
}